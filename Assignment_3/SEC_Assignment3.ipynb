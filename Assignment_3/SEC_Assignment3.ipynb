{
 "cells": [
  {
   "cell_type": "markdown",
   "metadata": {},
   "source": [
    "## Assignment 3: Scraping the SEC Filings\n",
    "#### Group 1: Tara Bode, Hankun Li, and Roberto Bettaglio"
   ]
  },
  {
   "cell_type": "markdown",
   "metadata": {},
   "source": [
    "### Setting up SEC File to Read and Write"
   ]
  },
  {
   "cell_type": "code",
   "execution_count": 1,
   "metadata": {},
   "outputs": [],
   "source": [
    "# read one 10-K (edit the path/filename)\n",
    "with open(r'/blue/acg7849/share/10Ks_sample/279117.html') as f:\n",
    "    full_filing = f.read()"
   ]
  },
  {
   "cell_type": "code",
   "execution_count": 2,
   "metadata": {},
   "outputs": [
    {
     "name": "stdout",
     "output_type": "stream",
     "text": [
      "<class 'str'> 9591482\n"
     ]
    }
   ],
   "source": [
    "print ( type(full_filing) , len(full_filing) )"
   ]
  },
  {
   "cell_type": "code",
   "execution_count": 3,
   "metadata": {},
   "outputs": [],
   "source": [
    "# Take the document (from start till first occurence of </DOCUMENT>\n",
    "# (often much smaller)\n",
    "filing = full_filing[0 : full_filing.find(\"</DOCUMENT\")]"
   ]
  },
  {
   "cell_type": "code",
   "execution_count": 4,
   "metadata": {},
   "outputs": [
    {
     "name": "stdout",
     "output_type": "stream",
     "text": [
      "<class 'str'> 2695874\n"
     ]
    }
   ],
   "source": [
    "print ( type(filing) , len(filing) )"
   ]
  },
  {
   "cell_type": "code",
   "execution_count": 5,
   "metadata": {},
   "outputs": [],
   "source": [
    "## save this to disk to inspect (without browser crashing)\n",
    "with open(r'/blue/acg7849/tbode/279117_example.html', \"w\") as f:\n",
    "    f.write(filing)"
   ]
  },
  {
   "cell_type": "markdown",
   "metadata": {},
   "source": [
    "### Hardcoding the Business Description"
   ]
  },
  {
   "cell_type": "code",
   "execution_count": 6,
   "metadata": {},
   "outputs": [
    {
     "data": {
      "text/plain": [
       "195288"
      ]
     },
     "execution_count": 6,
     "metadata": {},
     "output_type": "execute_result"
    }
   ],
   "source": [
    "# BD = Business Description\n",
    "\n",
    "# find the beginning \n",
    "startBD = filing.find('<a id=\"ITEM1\"></a>')\n",
    "startBD"
   ]
  },
  {
   "cell_type": "code",
   "execution_count": 7,
   "metadata": {},
   "outputs": [
    {
     "data": {
      "text/plain": [
       "439847"
      ]
     },
     "execution_count": 7,
     "metadata": {},
     "output_type": "execute_result"
    }
   ],
   "source": [
    "endBD = filing.find('<a id=\"ITEM1A\"></a>')\n",
    "endBD"
   ]
  },
  {
   "cell_type": "code",
   "execution_count": 8,
   "metadata": {},
   "outputs": [],
   "source": [
    "business_section = filing[ startBD : endBD ]\n",
    "## save to disk to inspect (without browser crashing)\n",
    "with open(r'/blue/acg7849/tbode/279117_business.html', \"w\") as f:\n",
    "    f.write(business_section)"
   ]
  },
  {
   "cell_type": "code",
   "execution_count": 9,
   "metadata": {},
   "outputs": [
    {
     "name": "stdout",
     "output_type": "stream",
     "text": [
      "Defaulting to user installation because normal site-packages is not writeable\n",
      "Requirement already satisfied: w3lib in ./.local/lib/python3.8/site-packages (1.21.0)\n",
      "Requirement already satisfied: first in ./.local/lib/python3.8/site-packages (2.0.2)\n",
      "Requirement already satisfied: six>=1.4.1 in /apps/jupyterhub/1.1.0/lib/python3.8/site-packages (from w3lib) (1.14.0)\n"
     ]
    }
   ],
   "source": [
    "!pip install w3lib first"
   ]
  },
  {
   "cell_type": "code",
   "execution_count": 10,
   "metadata": {},
   "outputs": [],
   "source": [
    "import html, re\n",
    "# need to do: pip install w3lib first\n",
    "from w3lib.html import replace_entities\n",
    "\n",
    "# function that converts html to text\n",
    "def cleanhtml(raw_html):\n",
    "    cleanr = re.compile('<.*?>', flags=re.DOTALL)\n",
    "    cleantext = re.sub(cleanr, '', raw_html)\n",
    "    return replace_entities(cleantext)"
   ]
  },
  {
   "cell_type": "code",
   "execution_count": 11,
   "metadata": {},
   "outputs": [],
   "source": [
    "# remove html and write as txt\n",
    "# here the encoding is needed to deal with special characters\n",
    "with open(r'/blue/acg7849/tbode/279117_business.txt', \"w\", encoding=\"utf-8\") as f:\n",
    "    f.write( cleanhtml ( business_section) )"
   ]
  },
  {
   "cell_type": "code",
   "execution_count": 12,
   "metadata": {},
   "outputs": [],
   "source": [
    "# print Business Section\n",
    "#print(cleanhtml(business_section))"
   ]
  },
  {
   "cell_type": "markdown",
   "metadata": {},
   "source": [
    "### Hardcoding the Central Index Key"
   ]
  },
  {
   "cell_type": "code",
   "execution_count": 13,
   "metadata": {},
   "outputs": [
    {
     "data": {
      "text/plain": [
       "409"
      ]
     },
     "execution_count": 13,
     "metadata": {},
     "output_type": "execute_result"
    }
   ],
   "source": [
    "# CIK = Central Index Key\n",
    "\n",
    "# find the beginning \n",
    "startCIK = filing.find('CENTRAL INDEX KEY')\n",
    "startCIK"
   ]
  },
  {
   "cell_type": "code",
   "execution_count": 14,
   "metadata": {},
   "outputs": [
    {
     "data": {
      "text/plain": [
       "443"
      ]
     },
     "execution_count": 14,
     "metadata": {},
     "output_type": "execute_result"
    }
   ],
   "source": [
    "endCIK = filing.find('STANDARD')\n",
    "endCIK"
   ]
  },
  {
   "cell_type": "code",
   "execution_count": 15,
   "metadata": {},
   "outputs": [],
   "source": [
    "central_index_key = filing[ startCIK : endCIK ]\n",
    "## save to disk to inspect (without browser crashing)\n",
    "with open(r'/blue/acg7849/tbode/279117_CIK.html', \"w\") as f:\n",
    "    f.write(central_index_key)"
   ]
  },
  {
   "cell_type": "code",
   "execution_count": 16,
   "metadata": {},
   "outputs": [],
   "source": [
    "import html, re\n",
    "# need to do: pip install w3lib first\n",
    "from w3lib.html import replace_entities\n",
    "\n",
    "# function that converts html to text\n",
    "def cleanhtml(raw_html):\n",
    "    cleanr = re.compile('<.*?>', flags=re.DOTALL)\n",
    "    cleantext = re.sub(cleanr, '', raw_html)\n",
    "    return replace_entities(cleantext)"
   ]
  },
  {
   "cell_type": "code",
   "execution_count": 17,
   "metadata": {},
   "outputs": [],
   "source": [
    "# remove html and write as txt\n",
    "# here the encoding is needed to deal with special characters\n",
    "with open(r'/blue/acg7849/tbode/279117_CIK.txt', \"w\", encoding=\"utf-8\") as f:\n",
    "    f.write( cleanhtml ( central_index_key) )"
   ]
  },
  {
   "cell_type": "code",
   "execution_count": 61,
   "metadata": {},
   "outputs": [
    {
     "name": "stdout",
     "output_type": "stream",
     "text": [
      "CENTRAL INDEX KEY:\t\t\t0001001316\n",
      "\t\t\n"
     ]
    },
    {
     "data": {
      "text/plain": [
       "'CENTRAL INDEX KEY: 0001001316'"
      ]
     },
     "execution_count": 61,
     "metadata": {},
     "output_type": "execute_result"
    }
   ],
   "source": [
    "# print Central Index Key\n",
    "\n",
    "# print Company Conformed Name\n",
    "print(cleanhtml(central_index_key))\n",
    "\n",
    "#CIK = cleanhtml(central_index_key)\n",
    "\n",
    "\n",
    "#import re\n",
    "#WS = re.compile(r'\\s+')\n",
    "#CIK = re.sub(WS, ' ', CIK)\n",
    "#CIK.rstrip()\n",
    "\n",
    "#CIK = cleanhtml(central_index_key)\n",
    "#CIK.strip()"
   ]
  },
  {
   "cell_type": "markdown",
   "metadata": {},
   "source": [
    "### Hardcoding the Company Conformed Name"
   ]
  },
  {
   "cell_type": "code",
   "execution_count": 19,
   "metadata": {},
   "outputs": [
    {
     "data": {
      "text/plain": [
       "359"
      ]
     },
     "execution_count": 19,
     "metadata": {},
     "output_type": "execute_result"
    }
   ],
   "source": [
    "# CCN = Company Conformed Name\n",
    "\n",
    "# find the beginning \n",
    "startCCN = filing.find('COMPANY CONFORMED NAME')\n",
    "startCCN"
   ]
  },
  {
   "cell_type": "code",
   "execution_count": 20,
   "metadata": {},
   "outputs": [
    {
     "data": {
      "text/plain": [
       "409"
      ]
     },
     "execution_count": 20,
     "metadata": {},
     "output_type": "execute_result"
    }
   ],
   "source": [
    "endCCN = filing.find('CENTRAL INDEX KEY')\n",
    "endCCN"
   ]
  },
  {
   "cell_type": "code",
   "execution_count": 21,
   "metadata": {},
   "outputs": [],
   "source": [
    "company_conformed_name = filing[ startCCN : endCCN ]\n",
    "## save to disk to inspect (without browser crashing)\n",
    "with open(r'/blue/acg7849/tbode/279117_CCN.html', \"w\") as f:\n",
    "    f.write(company_conformed_name)"
   ]
  },
  {
   "cell_type": "code",
   "execution_count": 22,
   "metadata": {},
   "outputs": [],
   "source": [
    "import html, re\n",
    "# need to do: pip install w3lib first\n",
    "from w3lib.html import replace_entities\n",
    "\n",
    "# function that converts html to text\n",
    "def cleanhtml(raw_html):\n",
    "    cleanr = re.compile('<.*?>', flags=re.DOTALL)\n",
    "    cleantext = re.sub(cleanr, '', raw_html)\n",
    "    return replace_entities(cleantext)"
   ]
  },
  {
   "cell_type": "code",
   "execution_count": 23,
   "metadata": {},
   "outputs": [],
   "source": [
    "# remove html and write as txt\n",
    "# here the encoding is needed to deal with special characters\n",
    "with open(r'/blue/acg7849/tbode/279117_CCN.txt', \"w\", encoding=\"utf-8\") as f:\n",
    "    f.write( cleanhtml ( company_conformed_name) )"
   ]
  },
  {
   "cell_type": "code",
   "execution_count": 24,
   "metadata": {},
   "outputs": [
    {
     "name": "stdout",
     "output_type": "stream",
     "text": [
      "COMPANY CONFORMED NAME:\t\t\tTG THERAPEUTICS, INC.\n",
      "\t\t\n"
     ]
    }
   ],
   "source": [
    "# print Company Conformed Name\n",
    "print(cleanhtml(company_conformed_name))"
   ]
  },
  {
   "cell_type": "markdown",
   "metadata": {},
   "source": [
    "### Hardcoding the Conformed Submission Type"
   ]
  },
  {
   "cell_type": "code",
   "execution_count": 25,
   "metadata": {},
   "outputs": [
    {
     "data": {
      "text/plain": [
       "179"
      ]
     },
     "execution_count": 25,
     "metadata": {},
     "output_type": "execute_result"
    }
   ],
   "source": [
    "# CST = Conformed Submission Type\n",
    "\n",
    "# find the beginning \n",
    "startCST = filing.find('CONFORMED SUBMISSION TYPE')\n",
    "startCST"
   ]
  },
  {
   "cell_type": "code",
   "execution_count": 26,
   "metadata": {},
   "outputs": [
    {
     "data": {
      "text/plain": [
       "211"
      ]
     },
     "execution_count": 26,
     "metadata": {},
     "output_type": "execute_result"
    }
   ],
   "source": [
    "endCST = filing.find('PUBLIC DOCUMENT COUNT')\n",
    "endCST"
   ]
  },
  {
   "cell_type": "code",
   "execution_count": 27,
   "metadata": {},
   "outputs": [],
   "source": [
    "conformed_submission_type = filing[ startCST : endCST ]\n",
    "## save to disk to inspect (without browser crashing)\n",
    "with open(r'/blue/acg7849/tbode/279117_CST.html', \"w\") as f:\n",
    "    f.write(conformed_submission_type)"
   ]
  },
  {
   "cell_type": "code",
   "execution_count": 28,
   "metadata": {},
   "outputs": [],
   "source": [
    "import html, re\n",
    "# need to do: pip install w3lib first\n",
    "from w3lib.html import replace_entities\n",
    "\n",
    "# function that converts html to text\n",
    "def cleanhtml(raw_html):\n",
    "    cleanr = re.compile('<.*?>', flags=re.DOTALL)\n",
    "    cleantext = re.sub(cleanr, '', raw_html)\n",
    "    return replace_entities(cleantext)"
   ]
  },
  {
   "cell_type": "code",
   "execution_count": 29,
   "metadata": {},
   "outputs": [],
   "source": [
    "# remove html and write as txt\n",
    "# here the encoding is needed to deal with special characters\n",
    "with open(r'/blue/acg7849/tbode/279117_CST.txt', \"w\", encoding=\"utf-8\") as f:\n",
    "    f.write( cleanhtml ( conformed_submission_type) )"
   ]
  },
  {
   "cell_type": "code",
   "execution_count": 30,
   "metadata": {},
   "outputs": [
    {
     "name": "stdout",
     "output_type": "stream",
     "text": [
      "CONFORMED SUBMISSION TYPE:\t10-K\n",
      "\n"
     ]
    }
   ],
   "source": [
    "# print Conformed Period of Report\n",
    "print(cleanhtml(conformed_submission_type))"
   ]
  },
  {
   "cell_type": "markdown",
   "metadata": {},
   "source": [
    "### Hardcoding the Conformed Period of Report"
   ]
  },
  {
   "cell_type": "code",
   "execution_count": 31,
   "metadata": {},
   "outputs": [
    {
     "data": {
      "text/plain": [
       "238"
      ]
     },
     "execution_count": 31,
     "metadata": {},
     "output_type": "execute_result"
    }
   ],
   "source": [
    "# CPR = Conformed Period of Report\n",
    "\n",
    "# find the beginning \n",
    "startCPR = filing.find('CONFORMED PERIOD OF REPORT')\n",
    "startCPR"
   ]
  },
  {
   "cell_type": "code",
   "execution_count": 32,
   "metadata": {},
   "outputs": [
    {
     "data": {
      "text/plain": [
       "275"
      ]
     },
     "execution_count": 32,
     "metadata": {},
     "output_type": "execute_result"
    }
   ],
   "source": [
    "endCPR = filing.find('FILED AS OF DATE')\n",
    "endCPR"
   ]
  },
  {
   "cell_type": "code",
   "execution_count": 33,
   "metadata": {},
   "outputs": [],
   "source": [
    "conformed_period_report = filing[ startCPR : endCPR ]\n",
    "## save to disk to inspect (without browser crashing)\n",
    "with open(r'/blue/acg7849/tbode/279117_CPR.html', \"w\") as f:\n",
    "    f.write(conformed_period_report)"
   ]
  },
  {
   "cell_type": "code",
   "execution_count": 34,
   "metadata": {},
   "outputs": [],
   "source": [
    "import html, re\n",
    "# need to do: pip install w3lib first\n",
    "from w3lib.html import replace_entities\n",
    "\n",
    "# function that converts html to text\n",
    "def cleanhtml(raw_html):\n",
    "    cleanr = re.compile('<.*?>', flags=re.DOTALL)\n",
    "    cleantext = re.sub(cleanr, '', raw_html)\n",
    "    return replace_entities(cleantext)"
   ]
  },
  {
   "cell_type": "code",
   "execution_count": 35,
   "metadata": {},
   "outputs": [],
   "source": [
    "# remove html and write as txt\n",
    "# here the encoding is needed to deal with special characters\n",
    "with open(r'/blue/acg7849/tbode/279117_CPR.txt', \"w\", encoding=\"utf-8\") as f:\n",
    "    f.write( cleanhtml ( conformed_period_report) )"
   ]
  },
  {
   "cell_type": "code",
   "execution_count": 36,
   "metadata": {},
   "outputs": [
    {
     "name": "stdout",
     "output_type": "stream",
     "text": [
      "CONFORMED PERIOD OF REPORT:\t20191231\n",
      "\n"
     ]
    }
   ],
   "source": [
    "# print Conformed Period of Report\n",
    "print(cleanhtml(conformed_period_report))"
   ]
  },
  {
   "cell_type": "markdown",
   "metadata": {},
   "source": [
    "### Hardcoding the Length of the Business Description Section"
   ]
  },
  {
   "cell_type": "code",
   "execution_count": 37,
   "metadata": {},
   "outputs": [
    {
     "data": {
      "text/plain": [
       "195288"
      ]
     },
     "execution_count": 37,
     "metadata": {},
     "output_type": "execute_result"
    }
   ],
   "source": [
    "# LBD = Length of Business Description\n",
    "\n",
    "# USE REGEX TO FIND LENGTH\n",
    "\n",
    "# find the beginning \n",
    "startLBD = filing.find('<a id=\"ITEM1\"></a>')\n",
    "startLBD"
   ]
  },
  {
   "cell_type": "code",
   "execution_count": 38,
   "metadata": {},
   "outputs": [
    {
     "data": {
      "text/plain": [
       "439847"
      ]
     },
     "execution_count": 38,
     "metadata": {},
     "output_type": "execute_result"
    }
   ],
   "source": [
    "endLBD = filing.find('<a id=\"ITEM1A\"></a>')\n",
    "endLBD"
   ]
  },
  {
   "cell_type": "code",
   "execution_count": 39,
   "metadata": {},
   "outputs": [],
   "source": [
    "length_business_section = filing[ startLBD : endLBD ]\n",
    "## save to disk to inspect (without browser crashing)\n",
    "with open(r'/blue/acg7849/tbode/279117_LBD.html', \"w\") as f:\n",
    "    f.write(length_business_section)"
   ]
  },
  {
   "cell_type": "code",
   "execution_count": 40,
   "metadata": {},
   "outputs": [],
   "source": [
    "import html, re\n",
    "# need to do: pip install w3lib first\n",
    "from w3lib.html import replace_entities\n",
    "\n",
    "# function that converts html to text\n",
    "def cleanhtml(raw_html):\n",
    "    cleanr = re.compile('<.*?>', flags=re.DOTALL)\n",
    "    cleantext = re.sub(cleanr, '', raw_html)\n",
    "    return replace_entities(cleantext)"
   ]
  },
  {
   "cell_type": "code",
   "execution_count": 41,
   "metadata": {},
   "outputs": [],
   "source": [
    "# remove html and write as txt\n",
    "# here the encoding is needed to deal with special characters\n",
    "with open(r'/blue/acg7849/tbode/279117_LBD.txt', \"w\", encoding=\"utf-8\") as f:\n",
    "    f.write( cleanhtml ( length_business_section) )"
   ]
  },
  {
   "cell_type": "code",
   "execution_count": 42,
   "metadata": {},
   "outputs": [
    {
     "name": "stdout",
     "output_type": "stream",
     "text": [
      "132333\n",
      "Length of Business Description: 132333 \n"
     ]
    }
   ],
   "source": [
    "#print(cleanhtml(length_business_section))\n",
    "\n",
    "# Print out number of characters only\n",
    "print(len(cleanhtml(length_business_section)))\n",
    "\n",
    "# Print out refined count of characters\n",
    "length = len(cleanhtml(length_business_section))\n",
    "print('Length of Business Description: {0} ' .format(length))\n"
   ]
  },
  {
   "cell_type": "code",
   "execution_count": null,
   "metadata": {},
   "outputs": [],
   "source": []
  },
  {
   "cell_type": "code",
   "execution_count": null,
   "metadata": {},
   "outputs": [],
   "source": [
    "# Need to combine all business description file into 1 file --can be .txt or .html-- Joost doesn't have a preference\n",
    "# Need to make CSV that combines the remaining 5 pieces of information\n",
    "\n",
    "# Make sure they are in the path '/blue/acg7849/tbode/item1/' -- will put under my directory for now"
   ]
  }
 ],
 "metadata": {
  "kernelspec": {
   "display_name": "Python 3",
   "language": "python",
   "name": "python3"
  },
  "language_info": {
   "codemirror_mode": {
    "name": "ipython",
    "version": 3
   },
   "file_extension": ".py",
   "mimetype": "text/x-python",
   "name": "python",
   "nbconvert_exporter": "python",
   "pygments_lexer": "ipython3",
   "version": "3.8.5"
  }
 },
 "nbformat": 4,
 "nbformat_minor": 4
}
