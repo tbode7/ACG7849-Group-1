{
 "cells": [
  {
   "cell_type": "code",
   "execution_count": null,
   "metadata": {},
   "outputs": [],
   "source": [
    "mydirectory = '/blue/acg7849/share/10Ks'\n",
    "file_list = glob.glob(mydirectory + '/*.txt')"
   ]
  },
  {
   "cell_type": "code",
   "execution_count": null,
   "metadata": {},
   "outputs": [],
   "source": [
    "def getHeaderVariables():\n",
    "    # write code to get the CIK,CCN, etc.\n",
    "    #\n",
    "    #\n",
    "    #\n",
    "    #\n",
    "\n",
    "def cleanHTML():\n",
    "    #\n",
    "    #\n",
    "    #\n",
    "    \n",
    "def getBusinessSection():\n",
    "    #\n",
    "    #"
   ]
  },
  {
   "cell_type": "code",
   "execution_count": null,
   "metadata": {},
   "outputs": [],
   "source": [
    "for file_path in file_list[0:1000]:\n",
    "    # read the file\n",
    "    with file open(file_path) as f:\n",
    "        filing = f.read()\n",
    "        \n",
    "    # only use until /DOCUMENT\n",
    "    first_section = filing[0: filing.find('</DOCUMENT')]\n",
    "    \n",
    "    # get header variables\n",
    "    headervars = getHeaderVariables(first_section)\n",
    "    \n",
    "    # isolate business section\n",
    "    business_section = getBusinessSection(first_section)\n",
    "    \n",
    "    # write business section to disk\n",
    "    with file open() as f:\n",
    "        f.write(cleanHTML(business_section))\n",
    "    \n",
    "    # write header variables and length of business section to disk\n",
    "    with file open() as f:\n",
    "        f.write(cleanHTML())\n"
   ]
  }
 ],
 "metadata": {
  "kernelspec": {
   "display_name": "Python 3.8 (basic)",
   "language": "python",
   "name": "python3"
  },
  "language_info": {
   "codemirror_mode": {
    "name": "ipython",
    "version": 3
   },
   "file_extension": ".py",
   "mimetype": "text/x-python",
   "name": "python",
   "nbconvert_exporter": "python",
   "pygments_lexer": "ipython3",
   "version": "3.8.1"
  }
 },
 "nbformat": 4,
 "nbformat_minor": 4
}
