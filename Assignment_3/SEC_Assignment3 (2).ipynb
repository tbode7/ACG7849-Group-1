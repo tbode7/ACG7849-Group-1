{
 "cells": [
  {
   "cell_type": "markdown",
   "metadata": {},
   "source": [
    "## Assignment 3: Scraping the SEC Filings\n",
    "#### Group 1: Tara Bode, Hankun Li, and Roberto Bettaglio"
   ]
  },
  {
   "cell_type": "markdown",
   "metadata": {},
   "source": [
    "### Setting up SEC File to Read and Write"
   ]
  },
  {
   "cell_type": "raw",
   "metadata": {},
   "source": [
    "# Takes all files from 10Ks directory\n",
    "\n",
    "import pandas as pd\n",
    "import glob\n",
    "\n",
    "from pathlib import Path\n",
    "for txt_path in Path('/blue/acg7849/share/10Ks/').glob(\"*.txt\"):\n",
    "  print(txt_path)\n",
    "\n",
    "with open(txt_path) as f:\n",
    "    full_filing = f.read()\n",
    "\n",
    "#mydirectory = '/blue/acg7849/share/10Ks/'\n",
    "\n",
    "\n",
    "#file_list = glob.glob(mydirectory + '/*.txt')\n",
    "#list(file_list)\n",
    "#print(file_list)\n",
    "\n",
    "    \n",
    "# print ( type(full_filing) , len(full_filing) )\n",
    "\n",
    "# Take the document (from start till first occurence of </DOCUMENT>\n",
    "# (often much smaller)\n",
    "filing = full_filing[0 : full_filing.find('</DOCUMENT')]\n",
    "\n",
    "print ( type(filing) , len(filing) )\n",
    "\n",
    "## save this to disk to inspect (without browser crashing)\n",
    "#with open(r'/blue/acg7849/tbode/279117_example.html', \"w\") as f:\n",
    "#    f.write(filing)\n",
    "\n",
    "with open(r'/blue/acg7849/tbode/company_information.html', \"w\") as f:\n",
    "    f.write(full_filing)\n",
    "    \n",
    "import os as os\n",
    "import glob as glob\n",
    "#path = '/blue/acg7849/share/10Ks_sample/279117.html'\n",
    "Filename = []\n",
    "#for file in txt_path:\n",
    "    data_Filename = os.txt_path.basename(file)\n",
    "    Filename.append(data_Filename)\n",
    "\n",
    "#print(Filename)\n",
    "    "
   ]
  },
  {
   "cell_type": "code",
   "execution_count": 1,
   "metadata": {},
   "outputs": [
    {
     "name": "stdout",
     "output_type": "stream",
     "text": [
      "<class 'str'> 2695874\n"
     ]
    }
   ],
   "source": [
    "# Single html document from 10Ks Samples\n",
    "\n",
    "import pandas as pd\n",
    "import glob as glob\n",
    "\n",
    "# read one 10-K (edit the path/filename)\n",
    "with open(r'/blue/acg7849/share/10Ks_sample/279117.html') as f:\n",
    "    full_filing = f.read()\n",
    "\n",
    "\n",
    "# print ( type(full_filing) , len(full_filing) )\n",
    "\n",
    "# Take the document (from start till first occurence of </DOCUMENT>\n",
    "# (often much smaller)\n",
    "filing = full_filing[0 : full_filing.find('</DOCUMENT')]\n",
    "\n",
    "print ( type(filing) , len(filing) )\n",
    "\n",
    "## save this to disk to inspect (without browser crashing)\n",
    "#with open(r'/blue/acg7849/tbode/279117_example.html', \"w\") as f:\n",
    "#    f.write(filing)\n",
    "\n",
    "with open(r'/blue/acg7849/tbode/company_information.html', \"w\") as f:\n",
    "    f.write(full_filing)"
   ]
  },
  {
   "cell_type": "code",
   "execution_count": 2,
   "metadata": {},
   "outputs": [
    {
     "name": "stdout",
     "output_type": "stream",
     "text": [
      "['279117.html']\n"
     ]
    }
   ],
   "source": [
    "import os as os\n",
    "import glob as glob\n",
    "path = '/blue/acg7849/share/10Ks_sample/279117.html'\n",
    "Filename = []\n",
    "for file in glob.glob(path):\n",
    "    data_Filename = os.path.basename(file)\n",
    "    Filename.append(data_Filename)\n",
    "\n",
    "print(Filename)"
   ]
  },
  {
   "cell_type": "markdown",
   "metadata": {},
   "source": [
    "### Hardcoding the Business Description"
   ]
  },
  {
   "cell_type": "raw",
   "metadata": {},
   "source": [
    "# For all 10Ks \n",
    "# BD = Business Description\n",
    "\n",
    "# find the beginning \n",
    "for file in filing:\n",
    "    startBD = file.find('<a id=\"ITEM1\"></a>')\n",
    "    endBD = filing.find('<a id=\"ITEM1A\"></a>')\n",
    "\n",
    "    business_section = file[ startBD : endBD ]\n",
    "## save to disk to inspect (without browser crashing)\n",
    "with open(r'/blue/acg7849/tbode/item1/279117_business.html', \"w\") as f:\n",
    "    f.write(business_section)"
   ]
  },
  {
   "cell_type": "code",
   "execution_count": 3,
   "metadata": {},
   "outputs": [],
   "source": [
    "# BD = Business Description\n",
    "\n",
    "# find the beginning \n",
    "startBD = filing.find('<a id=\"ITEM1\"></a>')\n",
    "startBD\n",
    "\n",
    "# find the end\n",
    "endBD = filing.find('<a id=\"ITEM1A\"></a>')\n",
    "endBD\n",
    "\n",
    "business_section = filing[ startBD : endBD ]\n",
    "## save to disk to inspect (without browser crashing)\n",
    "with open(r'/blue/acg7849/tbode/item1/279117_business.html', \"w\") as f:\n",
    "    f.write(business_section)"
   ]
  },
  {
   "cell_type": "code",
   "execution_count": 4,
   "metadata": {},
   "outputs": [
    {
     "name": "stdout",
     "output_type": "stream",
     "text": [
      "Defaulting to user installation because normal site-packages is not writeable\n",
      "Requirement already satisfied: w3lib in ./.local/lib/python3.8/site-packages (1.21.0)\n",
      "Requirement already satisfied: first in ./.local/lib/python3.8/site-packages (2.0.2)\n",
      "Requirement already satisfied: six>=1.4.1 in /apps/jupyterhub/1.1.0/lib/python3.8/site-packages (from w3lib) (1.14.0)\n"
     ]
    }
   ],
   "source": [
    "!pip install w3lib first"
   ]
  },
  {
   "cell_type": "code",
   "execution_count": 5,
   "metadata": {},
   "outputs": [],
   "source": [
    "import html, re\n",
    "# need to do: pip install w3lib first\n",
    "from w3lib.html import replace_entities\n",
    "\n",
    "# function that converts html to text\n",
    "def cleanhtml(raw_html):\n",
    "    cleanr = re.compile('<.*?>', flags=re.DOTALL)\n",
    "    cleantext = re.sub(cleanr, '', raw_html)\n",
    "    return replace_entities(cleantext)"
   ]
  },
  {
   "cell_type": "code",
   "execution_count": 6,
   "metadata": {},
   "outputs": [],
   "source": [
    "# remove html and write as txt\n",
    "# here the encoding is needed to deal with special characters\n",
    "with open(r'/blue/acg7849/tbode/item1/279117_business.txt', \"w\", encoding=\"utf-8\") as f:\n",
    "    f.write( cleanhtml ( business_section) )"
   ]
  },
  {
   "cell_type": "code",
   "execution_count": 7,
   "metadata": {},
   "outputs": [],
   "source": [
    "# print Business Section\n",
    "#print(cleanhtml(business_section))\n",
    "\n",
    "BDS = cleanhtml(business_section)"
   ]
  },
  {
   "cell_type": "markdown",
   "metadata": {},
   "source": [
    "### Hardcoding the Central Index Key"
   ]
  },
  {
   "cell_type": "raw",
   "metadata": {},
   "source": [
    "# For all 10Ks \n",
    "# CIK = Central Index Key\n",
    "\n",
    "# find the beginning \n",
    "\n",
    "for file in filing:\n",
    "    startCIK = filing.find('CENTRAL INDEX KEY:') + 18\n",
    "    endCIK = filing.find('STANDARD')\n",
    "\n",
    "    central_index_key = filing[ startCIK : endCIK ]\n",
    "## save to disk to inspect (without browser crashing)\n",
    "with open(r'/blue/acg7849/tbode/279117_CIK.html', \"w\") as f:\n",
    "    f.write(central_index_key)"
   ]
  },
  {
   "cell_type": "code",
   "execution_count": 8,
   "metadata": {},
   "outputs": [
    {
     "data": {
      "text/plain": [
       "443"
      ]
     },
     "execution_count": 8,
     "metadata": {},
     "output_type": "execute_result"
    }
   ],
   "source": [
    "# CIK = Central Index Key\n",
    "\n",
    "# find the beginning \n",
    "startCIK = filing.find('CENTRAL INDEX KEY:') + 18\n",
    "startCIK\n",
    "\n",
    "# find the end\n",
    "endCIK = filing.find('STANDARD')\n",
    "endCIK"
   ]
  },
  {
   "cell_type": "code",
   "execution_count": 9,
   "metadata": {},
   "outputs": [],
   "source": [
    "central_index_key = filing[ startCIK : endCIK ]\n",
    "## save to disk to inspect (without browser crashing)\n",
    "with open(r'/blue/acg7849/tbode/279117_CIK.html', \"w\") as f:\n",
    "    f.write(central_index_key)\n",
    "\n",
    "# remove html and write as txt\n",
    "# here the encoding is needed to deal with special characters\n",
    "with open(r'/blue/acg7849/tbode/279117_CIK.txt', \"w\", encoding=\"utf-8\") as f:\n",
    "    f.write( cleanhtml ( central_index_key) )"
   ]
  },
  {
   "cell_type": "code",
   "execution_count": 10,
   "metadata": {},
   "outputs": [],
   "source": [
    "# print Central Index Key\n",
    "\n",
    "#print(cleanhtml(central_index_key))\n",
    "\n",
    "CIK = cleanhtml(central_index_key)\n",
    "\n",
    "CIK=''.join(CIK.split())\n",
    "#CIK"
   ]
  },
  {
   "cell_type": "markdown",
   "metadata": {},
   "source": [
    "### Hardcoding the Company Conformed Name"
   ]
  },
  {
   "cell_type": "raw",
   "metadata": {},
   "source": [
    "# For all 10Ks \n",
    "# CCN = Company Conformed Name\n",
    "\n",
    "# find the beginning \n",
    "\n",
    "for file in filing:\n",
    "    startCCN = filing.find('COMPANY CONFORMED NAME:') + 23\n",
    "    endCCN = filing.find('CENTRAL INDEX KEY')\n",
    "\n",
    "company_conformed_name = filing[ startCCN : endCCN ]\n",
    "## save to disk to inspect (without browser crashing)\n",
    "with open(r'/blue/acg7849/tbode/279117_CCN.html', \"w\") as f:\n",
    "    f.write(company_conformed_name)"
   ]
  },
  {
   "cell_type": "code",
   "execution_count": 11,
   "metadata": {},
   "outputs": [
    {
     "data": {
      "text/plain": [
       "409"
      ]
     },
     "execution_count": 11,
     "metadata": {},
     "output_type": "execute_result"
    }
   ],
   "source": [
    "# CCN = Company Conformed Name\n",
    "\n",
    "# find the beginning \n",
    "startCCN = filing.find('COMPANY CONFORMED NAME:') + 23\n",
    "startCCN\n",
    "\n",
    "# find the end\n",
    "endCCN = filing.find('CENTRAL INDEX KEY')\n",
    "endCCN"
   ]
  },
  {
   "cell_type": "code",
   "execution_count": 12,
   "metadata": {},
   "outputs": [],
   "source": [
    "company_conformed_name = filing[ startCCN : endCCN ]\n",
    "## save to disk to inspect (without browser crashing)\n",
    "with open(r'/blue/acg7849/tbode/279117_CCN.html', \"w\") as f:\n",
    "    f.write(company_conformed_name)\n",
    "    \n",
    "# remove html and write as txt\n",
    "# here the encoding is needed to deal with special characters\n",
    "with open(r'/blue/acg7849/tbode/279117_CCN.txt', \"w\", encoding=\"utf-8\") as f:\n",
    "    f.write( cleanhtml ( company_conformed_name) )"
   ]
  },
  {
   "cell_type": "code",
   "execution_count": 13,
   "metadata": {},
   "outputs": [
    {
     "name": "stdout",
     "output_type": "stream",
     "text": [
      "TG THERAPEUTICS, INC.\n"
     ]
    }
   ],
   "source": [
    "# print Company Conformed Name\n",
    "#print(cleanhtml(company_conformed_name))\n",
    "\n",
    "CCN = cleanhtml(company_conformed_name)\n",
    "\n",
    "#CCN = ''.join(CCN.split())\n",
    "CCN = CCN.rstrip().lstrip()\n",
    "print(CCN)"
   ]
  },
  {
   "cell_type": "markdown",
   "metadata": {},
   "source": [
    "### Hardcoding the Conformed Submission Type"
   ]
  },
  {
   "cell_type": "raw",
   "metadata": {},
   "source": [
    "# For all 10Ks \n",
    "# CST = Conformed Submission Type\n",
    "\n",
    "# find the beginning \n",
    "\n",
    "for file in filing:\n",
    "    startCST = filing.find('CONFORMED SUBMISSION TYPE:') + 26\n",
    "    endCST = filing.find('PUBLIC DOCUMENT COUNT')\n",
    "\n",
    "conformed_submission_type = filing[ startCST : endCST ]\n",
    "## save to disk to inspect (without browser crashing)\n",
    "with open(r'/blue/acg7849/tbode/279117_CST.html', \"w\") as f:\n",
    "    f.write(conformed_submission_type)"
   ]
  },
  {
   "cell_type": "code",
   "execution_count": 14,
   "metadata": {},
   "outputs": [
    {
     "data": {
      "text/plain": [
       "211"
      ]
     },
     "execution_count": 14,
     "metadata": {},
     "output_type": "execute_result"
    }
   ],
   "source": [
    "# CST = Conformed Submission Type\n",
    "\n",
    "# find the beginning \n",
    "startCST = filing.find('CONFORMED SUBMISSION TYPE:') + 26\n",
    "startCST\n",
    "\n",
    "# find the end\n",
    "endCST = filing.find('PUBLIC DOCUMENT COUNT')\n",
    "endCST"
   ]
  },
  {
   "cell_type": "code",
   "execution_count": 15,
   "metadata": {},
   "outputs": [],
   "source": [
    "conformed_submission_type = filing[ startCST : endCST ]\n",
    "## save to disk to inspect (without browser crashing)\n",
    "with open(r'/blue/acg7849/tbode/279117_CST.html', \"w\") as f:\n",
    "    f.write(conformed_submission_type)\n",
    "    \n",
    "# remove html and write as txt\n",
    "# here the encoding is needed to deal with special characters\n",
    "with open(r'/blue/acg7849/tbode/279117_CST.txt', \"w\", encoding=\"utf-8\") as f:\n",
    "    f.write( cleanhtml ( conformed_submission_type) )"
   ]
  },
  {
   "cell_type": "code",
   "execution_count": 16,
   "metadata": {},
   "outputs": [
    {
     "name": "stdout",
     "output_type": "stream",
     "text": [
      "10-K\n"
     ]
    }
   ],
   "source": [
    "# print Conformed Period of Report\n",
    "#print(cleanhtml(conformed_submission_type))\n",
    "\n",
    "CST = cleanhtml(conformed_submission_type)\n",
    "CST = ''.join(CST.split())\n",
    "print(CST)"
   ]
  },
  {
   "cell_type": "markdown",
   "metadata": {},
   "source": [
    "### Hardcoding the Conformed Period of Report"
   ]
  },
  {
   "cell_type": "raw",
   "metadata": {},
   "source": [
    "# For all 10Ks \n",
    "# CPR = Conformed Period of Report\n",
    "\n",
    "# find the beginning \n",
    "\n",
    "for file in filing:\n",
    "    startCPR = filing.find('CONFORMED PERIOD OF REPORT:') + 27\n",
    "    endCPR = filing.find('FILED AS OF DATE')\n",
    "\n",
    "conformed_period_report = filing[ startCPR : endCPR ]\n",
    "## save to disk to inspect (without browser crashing)\n",
    "with open(r'/blue/acg7849/tbode/279117_CPR.html', \"w\") as f:\n",
    "    f.write(conformed_period_report)"
   ]
  },
  {
   "cell_type": "code",
   "execution_count": 17,
   "metadata": {},
   "outputs": [
    {
     "data": {
      "text/plain": [
       "275"
      ]
     },
     "execution_count": 17,
     "metadata": {},
     "output_type": "execute_result"
    }
   ],
   "source": [
    "# CPR = Conformed Period of Report\n",
    "\n",
    "# find the beginning \n",
    "startCPR = filing.find('CONFORMED PERIOD OF REPORT:') + 27\n",
    "startCPR\n",
    "\n",
    "# find the end\n",
    "endCPR = filing.find('FILED AS OF DATE')\n",
    "endCPR"
   ]
  },
  {
   "cell_type": "code",
   "execution_count": 18,
   "metadata": {},
   "outputs": [],
   "source": [
    "conformed_period_report = filing[ startCPR : endCPR ]\n",
    "## save to disk to inspect (without browser crashing)\n",
    "with open(r'/blue/acg7849/tbode/279117_CPR.html', \"w\") as f:\n",
    "    f.write(conformed_period_report)\n",
    "    \n",
    "# remove html and write as txt\n",
    "# here the encoding is needed to deal with special characters\n",
    "with open(r'/blue/acg7849/tbode/279117_CPR.txt', \"w\", encoding=\"utf-8\") as f:\n",
    "    f.write( cleanhtml ( conformed_period_report) )"
   ]
  },
  {
   "cell_type": "code",
   "execution_count": 19,
   "metadata": {},
   "outputs": [
    {
     "name": "stdout",
     "output_type": "stream",
     "text": [
      "20191231\n"
     ]
    }
   ],
   "source": [
    "# print Conformed Period of Report\n",
    "#print(cleanhtml(conformed_period_report))\n",
    "\n",
    "CPR = cleanhtml(conformed_period_report)\n",
    "CPR = ''.join(CPR.split())\n",
    "print(CPR)"
   ]
  },
  {
   "cell_type": "markdown",
   "metadata": {},
   "source": [
    "### Hardcoding the Length of the Business Description Section"
   ]
  },
  {
   "cell_type": "raw",
   "metadata": {},
   "source": [
    "# For all 10Ks \n",
    "# LBD = Length of Business Description\n",
    "\n",
    "# find the beginning \n",
    "\n",
    "for file in filing:\n",
    "    startLBD = filing.find('<a id=\"ITEM1\"></a>')\n",
    "    endLBD = filing.find('<a id=\"ITEM1A\"></a>')\n",
    "\n",
    "length_business_section = filing[ startLBD : endLBD ]\n",
    "## save to disk to inspect (without browser crashing)\n",
    "with open(r'/blue/acg7849/tbode/279117_LBD.html', \"w\") as f:\n",
    "    f.write(length_business_section)"
   ]
  },
  {
   "cell_type": "code",
   "execution_count": 20,
   "metadata": {},
   "outputs": [
    {
     "data": {
      "text/plain": [
       "439847"
      ]
     },
     "execution_count": 20,
     "metadata": {},
     "output_type": "execute_result"
    }
   ],
   "source": [
    "# LBD = Length of Business Description\n",
    "\n",
    "# find the beginning \n",
    "startLBD = filing.find('<a id=\"ITEM1\"></a>')\n",
    "startLBD\n",
    "\n",
    "# find the end\n",
    "endLBD = filing.find('<a id=\"ITEM1A\"></a>')\n",
    "endLBD"
   ]
  },
  {
   "cell_type": "code",
   "execution_count": 21,
   "metadata": {},
   "outputs": [],
   "source": [
    "length_business_section = filing[ startLBD : endLBD ]\n",
    "## save to disk to inspect (without browser crashing)\n",
    "with open(r'/blue/acg7849/tbode/279117_LBD.html', \"w\") as f:\n",
    "    f.write(length_business_section)\n",
    "    \n",
    "# remove html and write as txt\n",
    "# here the encoding is needed to deal with special characters\n",
    "with open(r'/blue/acg7849/tbode/279117_LBD.txt', \"w\", encoding=\"utf-8\") as f:\n",
    "    f.write( cleanhtml ( length_business_section) )"
   ]
  },
  {
   "cell_type": "code",
   "execution_count": 22,
   "metadata": {},
   "outputs": [
    {
     "name": "stdout",
     "output_type": "stream",
     "text": [
      "132333\n"
     ]
    }
   ],
   "source": [
    "#print(cleanhtml(length_business_section))\n",
    "\n",
    "# Print out number of characters only\n",
    "print(len(cleanhtml(length_business_section)))\n",
    "\n",
    "# Print out refined count of characters\n",
    "length = len(cleanhtml(length_business_section))\n"
   ]
  },
  {
   "cell_type": "markdown",
   "metadata": {},
   "source": [
    "### Combine SEC Filings into 2 Separate Files: One Document for Business Description and One CSV File for the Remaining 5 Pieces of Information"
   ]
  },
  {
   "cell_type": "code",
   "execution_count": 23,
   "metadata": {},
   "outputs": [],
   "source": [
    "# Write a Txt File for Business Description\n",
    "\n",
    "Business_Description = [BDS]\n",
    "\n",
    "with open('/blue/acg7849/tbode/item1/279117_business.html','w') as bd:\n",
    "   bd.write(BDS)"
   ]
  },
  {
   "cell_type": "code",
   "execution_count": 24,
   "metadata": {},
   "outputs": [
    {
     "data": {
      "text/html": [
       "<div>\n",
       "<style scoped>\n",
       "    .dataframe tbody tr th:only-of-type {\n",
       "        vertical-align: middle;\n",
       "    }\n",
       "\n",
       "    .dataframe tbody tr th {\n",
       "        vertical-align: top;\n",
       "    }\n",
       "\n",
       "    .dataframe thead th {\n",
       "        text-align: right;\n",
       "    }\n",
       "</style>\n",
       "<table border=\"1\" class=\"dataframe\">\n",
       "  <thead>\n",
       "    <tr style=\"text-align: right;\">\n",
       "      <th></th>\n",
       "      <th>File Name</th>\n",
       "      <th>Central Index Key</th>\n",
       "      <th>Company Conformed Name</th>\n",
       "      <th>Conformed Submission Type</th>\n",
       "      <th>Conformed Period of Report</th>\n",
       "      <th>Length of Business Section</th>\n",
       "    </tr>\n",
       "  </thead>\n",
       "  <tbody>\n",
       "    <tr>\n",
       "      <th>0</th>\n",
       "      <td>[279117.html]</td>\n",
       "      <td>0001001316</td>\n",
       "      <td>TG THERAPEUTICS, INC.</td>\n",
       "      <td>10-K</td>\n",
       "      <td>20191231</td>\n",
       "      <td>132333</td>\n",
       "    </tr>\n",
       "  </tbody>\n",
       "</table>\n",
       "</div>"
      ],
      "text/plain": [
       "       File Name Central Index Key Company Conformed Name  \\\n",
       "0  [279117.html]        0001001316  TG THERAPEUTICS, INC.   \n",
       "\n",
       "  Conformed Submission Type Conformed Period of Report  \\\n",
       "0                      10-K                   20191231   \n",
       "\n",
       "   Length of Business Section  \n",
       "0                      132333  "
      ]
     },
     "metadata": {},
     "output_type": "display_data"
    }
   ],
   "source": [
    "# Write a CSV File for 5 Pieces of Information\n",
    "\n",
    "File_Name = [Filename]\n",
    "Central_Index_Key = [CIK]\n",
    "Company_Conformed_Name = [CCN]\n",
    "Conformed_Submission_Type = [CST]\n",
    "Conformed_Period_of_Report = [CPR]\n",
    "Length_of_Business_Section = [length]\n",
    "\n",
    "\n",
    "SEC_df = pd.DataFrame(list(zip(File_Name, Central_Index_Key,Company_Conformed_Name,Conformed_Submission_Type,Conformed_Period_of_Report,Length_of_Business_Section)), \n",
    "                                      columns=['File Name','Central Index Key','Company Conformed Name','Conformed Submission Type','Conformed Period of Report','Length of Business Section']);\n",
    "display(SEC_df)\n",
    "\n",
    "import csv\n",
    "\n",
    "#with open(r'/blue/acg7849/tbode/item1/SEC_Filing_Information.csv', mode='w') as SEC:\n",
    "    #SEC.write(SEC_Filing_Information)\n",
    "  \n",
    "SEC_df.to_csv(r'/blue/acg7849/tbode/item1/SEC_Filing_Information.csv')"
   ]
  }
 ],
 "metadata": {
  "kernelspec": {
   "display_name": "Python 3.8 (basic)",
   "language": "python",
   "name": "python3"
  },
  "language_info": {
   "codemirror_mode": {
    "name": "ipython",
    "version": 3
   },
   "file_extension": ".py",
   "mimetype": "text/x-python",
   "name": "python",
   "nbconvert_exporter": "python",
   "pygments_lexer": "ipython3",
   "version": "3.8.1"
  }
 },
 "nbformat": 4,
 "nbformat_minor": 4
}
