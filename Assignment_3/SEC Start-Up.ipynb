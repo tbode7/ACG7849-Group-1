{
 "cells": [
  {
   "cell_type": "code",
   "execution_count": null,
   "metadata": {},
   "outputs": [],
   "source": [
    "# read one 10-K (edit the path/filename)\n",
    "with open(r'E:\\temp_acg7849\\10-Ks sample\\279117.html') as f:\n",
    "    full_filing = f.read()"
   ]
  },
  {
   "cell_type": "code",
   "execution_count": null,
   "metadata": {},
   "outputs": [],
   "source": [
    "print ( type(full_filing) , len(full_filing) )"
   ]
  },
  {
   "cell_type": "code",
   "execution_count": null,
   "metadata": {},
   "outputs": [],
   "source": [
    "# Take the document (from start till first occurence of </DOCUMENT>\n",
    "# (often much smaller)\n",
    "filing = full_filing[0 : full_filing.find(\"</DOCUMENT\")]"
   ]
  },
  {
   "cell_type": "code",
   "execution_count": null,
   "metadata": {},
   "outputs": [],
   "source": [
    "print ( type(filing) , len(filing) )"
   ]
  },
  {
   "cell_type": "code",
   "execution_count": null,
   "metadata": {},
   "outputs": [],
   "source": [
    "## save this to disk to inspect (without browser crashing)\n",
    "with open(r'E:\\temp_acg7849\\279117_example.html', \"w\") as f:\n",
    "    f.write(filing)"
   ]
  },
  {
   "cell_type": "code",
   "execution_count": null,
   "metadata": {},
   "outputs": [],
   "source": [
    "# find the beginning (I inspected this with the debugger/console, you cannot assume this will be there for all filings) \n",
    "start = filing.find('<a id=\"ITEM1\"></a>')\n",
    "start"
   ]
  },
  {
   "cell_type": "code",
   "execution_count": null,
   "metadata": {},
   "outputs": [],
   "source": [
    "end = filing.find('<a id=\"ITEM1A\"></a>')\n",
    "end"
   ]
  },
  {
   "cell_type": "code",
   "execution_count": null,
   "metadata": {},
   "outputs": [],
   "source": [
    "business_section = filing[ start : end ]\n",
    "## save to disk to inspect (without browser crashing)\n",
    "with open(r'E:\\temp_acg7849\\279117_business.html', \"w\") as f:\n",
    "    f.write(business_section)"
   ]
  },
  {
   "cell_type": "code",
   "execution_count": null,
   "metadata": {},
   "outputs": [],
   "source": [
    "!pip install w3lib first"
   ]
  },
  {
   "cell_type": "code",
   "execution_count": null,
   "metadata": {},
   "outputs": [],
   "source": [
    "import html, re\n",
    "# need to do: pip install w3lib first\n",
    "from w3lib.html import replace_entities\n",
    "\n",
    "# function that converts html to text\n",
    "def cleanhtml(raw_html):\n",
    "    cleanr = re.compile('<.*?>', flags=re.DOTALL)\n",
    "    cleantext = re.sub(cleanr, '', raw_html)\n",
    "    return replace_entities(cleantext)"
   ]
  },
  {
   "cell_type": "code",
   "execution_count": null,
   "metadata": {},
   "outputs": [],
   "source": [
    "# remove html and write as txt\n",
    "# here the encoding is needed to deal with special characters\n",
    "with open(r'E:\\temp_acg7849\\279117_business.txt', \"w\", encoding=\"utf-8\") as f:\n",
    "    f.write( cleanhtml ( business_section) )"
   ]
  },
  {
   "cell_type": "code",
   "execution_count": null,
   "metadata": {},
   "outputs": [],
   "source": []
  },
  {
   "cell_type": "markdown",
   "metadata": {},
   "source": [
    "## Need to Make Edits and Re-structure to Adapt to Personal Directory"
   ]
  },
  {
   "cell_type": "code",
   "execution_count": null,
   "metadata": {},
   "outputs": [],
   "source": []
  }
 ],
 "metadata": {
  "kernelspec": {
   "display_name": "Python 3",
   "language": "python",
   "name": "python3"
  },
  "language_info": {
   "codemirror_mode": {
    "name": "ipython",
    "version": 3
   },
   "file_extension": ".py",
   "mimetype": "text/x-python",
   "name": "python",
   "nbconvert_exporter": "python",
   "pygments_lexer": "ipython3",
   "version": "3.8.5"
  }
 },
 "nbformat": 4,
 "nbformat_minor": 4
}
