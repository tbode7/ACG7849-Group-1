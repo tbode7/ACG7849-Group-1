{
 "cells": [
  {
   "cell_type": "markdown",
   "metadata": {},
   "source": [
    "## Assignment 3: Scraping the SEC Filings\n",
    "#### Group 1: Tara Bode, Hankun Li, and Roberto Bettaglio"
   ]
  },
  {
   "cell_type": "markdown",
   "metadata": {},
   "source": [
    "### Install Packages and Setup Environment"
   ]
  },
  {
   "cell_type": "code",
   "execution_count": null,
   "metadata": {},
   "outputs": [],
   "source": [
    "# Install Packages\n",
    "\n",
    "!pip install w3lib first\n",
    "\n",
    "import html, re\n",
    "# need to do: pip install w3lib first\n",
    "from w3lib.html import replace_entities"
   ]
  },
  {
   "cell_type": "code",
   "execution_count": null,
   "metadata": {},
   "outputs": [],
   "source": [
    "# Setup Environment\n",
    "\n",
    "# Takes all files from 10Ks directory\n",
    "import csv\n",
    "import os as os\n",
    "import pandas as pd\n",
    "import glob as glob\n",
    "\n",
    "from pathlib import Path\n",
    "#for txt_path in Path('/blue/acg7849/share/10Ks/').glob(\"*.txt\"):\n",
    "#  print(txt_path)\n",
    "\n",
    "with open(txt_path) as f:\n",
    "    full_filing = f.read()\n",
    "\n",
    "# Take the document (from start till first occurence of </DOCUMENT>\n",
    "# (often much smaller)\n",
    "filing = full_filing[0 : full_filing.find('</DOCUMENT')]\n",
    "\n",
    "print ( type(filing) , len(filing) )\n",
    "\n",
    "with open(r'/blue/acg7849/tbode/company_information.html', \"w\") as f:\n",
    "    f.write(full_filing)"
   ]
  },
  {
   "cell_type": "markdown",
   "metadata": {},
   "source": [
    "### Define Functions"
   ]
  },
  {
   "cell_type": "code",
   "execution_count": null,
   "metadata": {},
   "outputs": [],
   "source": [
    "# function that converts html to text\n",
    "\n",
    "def FileName():\n",
    "    data_FileName = os.txt_path.basename(file)\n",
    "    FileName.append(data_FileName)\n",
    "\n",
    "\n",
    "def cleanhtml(raw_html):\n",
    "    cleanr = re.compile('<.*?>', flags=re.DOTALL)\n",
    "    cleantext = re.sub(cleanr, '', raw_html)\n",
    "    return replace_entities(cleantext)\n",
    "\n",
    "def BD():\n",
    "    '''BD is the Business Description'''\n",
    "    \n",
    "    # find the beginning and end\n",
    "    startBD = filing.find('<a id=\"ITEM1\"></a>')\n",
    "    endBD = filing.find('<a id=\"ITEM1A\"></a>')\n",
    "    business_section = filing[ startBD : endBD ]\n",
    "    \n",
    "    # save to disk to inspect (without browser crashing)\n",
    "    with open(r'/blue/acg7849/tbode/item1/279117_business.html', \"w\") as f:\n",
    "        f.write(business_section)\n",
    "        \n",
    "    # remove html and write as txt\n",
    "    with open(r'/blue/acg7849/tbode/item1/279117_business.txt', \"w\", encoding=\"utf-8\") as f:\n",
    "        f.write( cleanhtml ( business_section) )\n",
    "\n",
    "    BDS = cleanhtml(business_section)\n",
    "    print(BDS)\n",
    "\n",
    "def CIK():\n",
    "    '''CIK is the Central Index Key'''\n",
    "    \n",
    "    # find the beginning and end\n",
    "    startCIK = filing.find('CENTRAL INDEX KEY:') + 18\n",
    "    endCIK = filing.find('STANDARD') \n",
    "    central_index_key = filing[ startCIK : endCIK ]\n",
    "    \n",
    "    # save to disk to inspect\n",
    "    with open(r'/blue/acg7849/tbode/279117_CIK.html', \"w\") as f:\n",
    "        f.write(central_index_key)\n",
    "\n",
    "    # remove html and write as txt\n",
    "    with open(r'/blue/acg7849/tbode/279117_CIK.txt', \"w\", encoding=\"utf-8\") as f:\n",
    "        f.write( cleanhtml ( central_index_key) )\n",
    "    \n",
    "    CIK = cleanhtml(central_index_key)\n",
    "    print(''.join(CIK.split()))\n",
    "    \n",
    "def CCN():\n",
    "    '''CCN is the Company Conformed Name'''\n",
    "    # find the beginning and end\n",
    "    startCCN = filing.find('COMPANY CONFORMED NAME:') + 23\n",
    "    endCCN = filing.find('CENTRAL INDEX KEY')\n",
    "    company_conformed_name = filing[ startCCN : endCCN ]\n",
    "    \n",
    "    # save to disk to inspect (without browser crashing)\n",
    "    with open(r'/blue/acg7849/tbode/279117_CCN.html', \"w\") as f:\n",
    "        f.write(company_conformed_name)\n",
    "    \n",
    "    # remove html and write as txt\n",
    "    with open(r'/blue/acg7849/tbode/279117_CCN.txt', \"w\", encoding=\"utf-8\") as f:\n",
    "        f.write( cleanhtml ( company_conformed_name) )\n",
    "    \n",
    "    CCN = cleanhtml(company_conformed_name)\n",
    "    CCN = CCN.rstrip().lstrip()\n",
    "    print(CCN)\n",
    "    \n",
    "def CST():\n",
    "    '''CST is the Conformed Submission Type'''\n",
    "    \n",
    "    # find the beginning and end\n",
    "    startCST = filing.find('CONFORMED SUBMISSION TYPE:') + 26\n",
    "    endCST = filing.find('PUBLIC DOCUMENT COUNT')\n",
    "    conformed_submission_type = filing[ startCST : endCST ]\n",
    "    \n",
    "    # save to disk to inspect (without browser crashing)\n",
    "    with open(r'/blue/acg7849/tbode/279117_CST.html', \"w\") as f:\n",
    "        f.write(conformed_submission_type)\n",
    "    \n",
    "    # remove html and write as txt\n",
    "    with open(r'/blue/acg7849/tbode/279117_CST.txt', \"w\", encoding=\"utf-8\") as f:\n",
    "        f.write( cleanhtml ( conformed_submission_type) )   \n",
    "        \n",
    "    CST = cleanhtml(conformed_submission_type)\n",
    "    CST = ''.join(CST.split())\n",
    "    print(CST)\n",
    "    \n",
    "def CPR():\n",
    "    '''CPR is the Conformed Period of Report'''\n",
    "    \n",
    "    # find the beginning and end\n",
    "    startCPR = filing.find('CONFORMED PERIOD OF REPORT:') + 27\n",
    "    endCPR = filing.find('FILED AS OF DATE')\n",
    "    conformed_period_report = filing[ startCPR : endCPR ]\n",
    "    \n",
    "    # save to disk to inspect (without browser crashing)\n",
    "    with open(r'/blue/acg7849/tbode/279117_CPR.html', \"w\") as f:\n",
    "        f.write(conformed_period_report)\n",
    "    \n",
    "    # remove html and write as txt\n",
    "    with open(r'/blue/acg7849/tbode/279117_CPR.txt', \"w\", encoding=\"utf-8\") as f:\n",
    "        f.write( cleanhtml ( conformed_period_report) )   \n",
    "        \n",
    "\n",
    "    CPR = cleanhtml(conformed_period_report)\n",
    "    CPR = ''.join(CPR.split())\n",
    "    print(CPR)\n",
    "    \n",
    "def LBD():\n",
    "    '''LBD is the Length of the Business Description Section'''\n",
    "    \n",
    "    # find the beginning and end\n",
    "    startLBD = filing.find('<a id=\"ITEM1\"></a>')\n",
    "    endLBD = filing.find('<a id=\"ITEM1A\"></a>') \n",
    "    length_business_section = filing[ startLBD : endLBD ]\n",
    "\n",
    "    # save to disk to inspect (without browser crashing)\n",
    "    with open(r'/blue/acg7849/tbode/279117_LBD.html', \"w\") as f:\n",
    "        f.write(length_business_section)\n",
    "    \n",
    "    # remove html and write as txt\n",
    "    with open(r'/blue/acg7849/tbode/279117_LBD.txt', \"w\", encoding=\"utf-8\") as f:\n",
    "        f.write( cleanhtml ( length_business_section) )\n",
    "        \n",
    "    # Print out number of characters only\n",
    "    print(len(cleanhtml(length_business_section)))\n",
    "\n",
    "    # Print out refined count of characters\n",
    "    length = len(cleanhtml(length_business_section))"
   ]
  },
  {
   "cell_type": "markdown",
   "metadata": {},
   "source": [
    "### Writing the SEC Information to Main File"
   ]
  },
  {
   "cell_type": "code",
   "execution_count": null,
   "metadata": {},
   "outputs": [],
   "source": [
    "def main():\n",
    "    for file in filing:\n",
    "        print(LBD)"
   ]
  },
  {
   "cell_type": "code",
   "execution_count": null,
   "metadata": {},
   "outputs": [],
   "source": [
    "main()"
   ]
  },
  {
   "cell_type": "code",
   "execution_count": null,
   "metadata": {},
   "outputs": [],
   "source": [
    "#for file in filing:\n",
    "print(CIK)"
   ]
  },
  {
   "cell_type": "code",
   "execution_count": null,
   "metadata": {},
   "outputs": [],
   "source": [
    "with open ('SEC_Information.csv', 'w') as f:\n",
    "        f.write('File Name, Central Index Key, Company Name, Submission Type, Period of Report, Length of Business Description\\n')"
   ]
  },
  {
   "cell_type": "code",
   "execution_count": null,
   "metadata": {},
   "outputs": [],
   "source": [
    "sec_info = '{} | {} | {} | {} | {}\\n'.format(FileName, CIK, CCN, CST, CPR, LBD)\n",
    "print(sec_info)"
   ]
  },
  {
   "cell_type": "code",
   "execution_count": null,
   "metadata": {},
   "outputs": [],
   "source": [
    "#write stuff to file \n",
    "with open ('SEC_Information.csv','a') as f:\n",
    "    f.write(sec_info)"
   ]
  },
  {
   "cell_type": "code",
   "execution_count": null,
   "metadata": {},
   "outputs": [],
   "source": []
  },
  {
   "cell_type": "code",
   "execution_count": null,
   "metadata": {},
   "outputs": [],
   "source": []
  },
  {
   "cell_type": "code",
   "execution_count": null,
   "metadata": {},
   "outputs": [],
   "source": []
  },
  {
   "cell_type": "markdown",
   "metadata": {},
   "source": [
    "### Combine SEC Filings into 2 Separate Files: One Document for Business Description and One CSV File for the Remaining 5 Pieces of Information"
   ]
  },
  {
   "cell_type": "code",
   "execution_count": null,
   "metadata": {},
   "outputs": [],
   "source": [
    "# Write a Txt File for Business Description\n",
    "\n",
    "Business_Description = [BDS]\n",
    "\n",
    "with open('/blue/acg7849/tbode/item1/279117_business.html','w') as bd:\n",
    "   bd.write(BDS)"
   ]
  },
  {
   "cell_type": "code",
   "execution_count": null,
   "metadata": {},
   "outputs": [],
   "source": [
    "# Write a CSV File for 5 Pieces of Information\n",
    "\n",
    "File_Name = [FileName]\n",
    "Central_Index_Key = [CIK]\n",
    "Company_Conformed_Name = [CCN]\n",
    "Conformed_Submission_Type = [CST]\n",
    "Conformed_Period_of_Report = [CPR]\n",
    "Length_of_Business_Section = [LBD]\n",
    "\n",
    "\n",
    "SEC_df = pd.DataFrame(list(zip(File_Name, Central_Index_Key,Company_Conformed_Name,Conformed_Submission_Type,Conformed_Period_of_Report,Length_of_Business_Section)), \n",
    "                                      columns=['File Name','Central Index Key','Company Conformed Name','Conformed Submission Type','Conformed Period of Report','Length of Business Section']);\n",
    "display(SEC_df)\n",
    "\n",
    "import csv\n",
    "\n",
    "#with open(r'/blue/acg7849/tbode/item1/SEC_Filing_Information.csv', mode='w') as SEC:\n",
    "    #SEC.write(SEC_Filing_Information)\n",
    "  \n",
    "SEC_df.to_csv(r'/blue/acg7849/tbode/item1/SEC_Filing_Information.csv')"
   ]
  }
 ],
 "metadata": {
  "kernelspec": {
   "display_name": "Python 3.8 (basic)",
   "language": "python",
   "name": "python3"
  },
  "language_info": {
   "codemirror_mode": {
    "name": "ipython",
    "version": 3
   },
   "file_extension": ".py",
   "mimetype": "text/x-python",
   "name": "python",
   "nbconvert_exporter": "python",
   "pygments_lexer": "ipython3",
   "version": "3.8.1"
  }
 },
 "nbformat": 4,
 "nbformat_minor": 4
}
