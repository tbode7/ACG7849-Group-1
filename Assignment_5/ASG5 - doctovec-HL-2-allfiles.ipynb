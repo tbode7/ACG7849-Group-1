{
 "cells": [
  {
   "cell_type": "markdown",
   "metadata": {},
   "source": [
    "## ASG5 part2 - all files\n",
    "          "
   ]
  },
  {
   "cell_type": "markdown",
   "metadata": {},
   "source": [
    "Cluster the business sections (/blue/acg7849/share/BS) using Doc2Vec (50 clusters) in two ways:\n",
    "\n",
    "Using a counter as the ‘tag’ (as in 5.1.5)\n",
    "\n",
    "Using a counter as the ‘tag’, and the industry code as an additional tag (yield TaggedDocument(words=file_tokens, tags=[i, SIC]) where SIC is a string holding the tag (for example ‘1740’)\n",
    "\n",
    "Extract the 4-digit SIC industry code from the annual report header (STANDARD INDUSTRIAL CLASSIFICATION).\n",
    "\n",
    "Required: Evaluate whether adding the industry code as an additional tag improves the clustering. Use the standard deviation of profitability as a way to evaluate this. (Firms that are more similar, should have similar performance. Therefore, a better clustering would result in lower standard deviations for each cluster, relative to a worse clustering).\n",
    "\n",
    "Do this for the filings for the year 2019 only. Calculate the standard deviation of performance for each cluster (use the year of CONFORMED END OF PERIOD, which are the first 4 digits of ‘date’ in summary.text).\n",
    "\n",
    "For 50 clusters that means you will have 2 standard deviations for each cluster (one for each approach, with the extra SIC tag vs not adding the extra SIC tag). Use a t-test to test for a difference between the two sets of 50 standard deviations."
   ]
  },
  {
   "cell_type": "code",
   "execution_count": 1,
   "metadata": {},
   "outputs": [
    {
     "name": "stderr",
     "output_type": "stream",
     "text": [
      "/apps/jupyterhub/1.1.0/lib/python3.8/site-packages/gensim/similarities/__init__.py:15: UserWarning: The gensim.similarities.levenshtein submodule is disabled, because the optional Levenshtein package <https://pypi.org/project/python-Levenshtein/> is unavailable. Install Levenhstein (e.g. `pip install python-Levenshtein`) to suppress this warning.\n",
      "  warnings.warn(msg)\n"
     ]
    }
   ],
   "source": [
    "# all imports\n",
    "import os as os\n",
    "import pandas as pd\n",
    "import glob\n",
    "import csv\n",
    "from pathlib import Path\n",
    "import html, re\n",
    "from w3lib.html import replace_entities\n",
    "import nltk\n",
    "from nltk.corpus import stopwords\n",
    "import string\n",
    "from sklearn.feature_extraction.text import CountVectorizer, TfidfTransformer\n",
    "from scipy.cluster import  hierarchy\n",
    "from sklearn.feature_extraction.text import TfidfVectorizer\n",
    "from nltk.tokenize import word_tokenize\n",
    "import gensim\n",
    "stopWords = set(stopwords.words('english') )\n",
    "from gensim.models.doc2vec import Doc2Vec, TaggedDocument\n",
    "from nltk import FreqDist\n",
    "from nltk.collocations import *"
   ]
  },
  {
   "cell_type": "markdown",
   "metadata": {},
   "source": [
    "# already made this - copy + paste to personal directory"
   ]
  },
  {
   "cell_type": "markdown",
   "metadata": {},
   "source": [
    "#try copy and past targets\n",
    "#think this is a pretty bold way avoiding messing up with the class\n",
    "\n",
    "import shutil\n",
    "for i in range(len(listoflink)):\n",
    "    shutil.copy(listoflink[i], r'/blue/acg7849/hli1/item1')\n",
    "    #shutil.copy(listoflink[i], r'/blue/acg7849/tbode/whateverfile')"
   ]
  },
  {
   "cell_type": "markdown",
   "metadata": {},
   "source": [
    "# codes from 515 - start with new directory"
   ]
  },
  {
   "cell_type": "code",
   "execution_count": 2,
   "metadata": {},
   "outputs": [],
   "source": [
    "# add some punctuation to string.punctuation\n",
    "punc = string.punctuation + '“”'\n",
    "\n",
    "# documents get tagged by an index (number), while filenames have different numbers\n",
    "# keep track of this\n",
    "fileIdToIndex = {} # given a fileId -> tag\n",
    "indexToFileId=[] # given a tag -> fileId\n",
    "\n",
    "class MyFiles(object):\n",
    "    def __init__(self, dirname, tokens_only = False):\n",
    "        self.dirname = dirname\n",
    "        self.tokens_only = tokens_only\n",
    " \n",
    "    def __iter__(self):\n",
    "        #for i, fname in enumerate(files[0:200]):\n",
    "         \n",
    "        for i, fname in enumerate(os.listdir(self.dirname)[0:4604]):    # there are 4604 files in total\n",
    "        # enumerate = return a list of tuples, iterate from start to end\n",
    "        # os.listdir = return index of a directory, input = directory address\n",
    "        # this part enumerates the first 200 units in the index under dirname\n",
    "        \n",
    "            with open( os.path.join(self.dirname, fname), encoding='utf-8') as f:\n",
    "                content = f.read()\n",
    "            # filter\n",
    "                #content = [f for f in content if int(f[\"length\"])> 1000 and (f[\"date\"][0:4]) == '2019']\n",
    "                #content = [f for f in content if len(f)> 1000]\n",
    "            # grab id from filename\n",
    "            myCounter = int ( re.findall(r'(\\d*)\\.txt', fname)[0] )\n",
    "            # update \n",
    "            fileIdToIndex [ myCounter] = i\n",
    "            indexToFileId.append( myCounter)\n",
    "            #print('fname', fname, 'tag', myCounter)\n",
    "            file_tokens = [x for x in word_tokenize(content) if x.isalpha() and x.lower() not in stopWords and x not in string.punctuation]\n",
    "            \n",
    "            if self.tokens_only == True:\n",
    "                yield file_tokens\n",
    "            else:\n",
    "                yield TaggedDocument(words=file_tokens, tags=[i] )                    "
   ]
  },
  {
   "cell_type": "code",
   "execution_count": 3,
   "metadata": {},
   "outputs": [],
   "source": [
    "# Hipergator\n",
    "ffiles = MyFiles(r'/blue/acg7849/hli1/item1') # this one expected str, bytes or os.PathLike object\n",
    "#ffiles = MyFiles(r'/blue/acg7849/share/BS/item1/') # a memory-friendly iterator\n",
    "# dirname = '/blue/acg7849/share/BS/item1/'?"
   ]
  },
  {
   "cell_type": "code",
   "execution_count": 4,
   "metadata": {},
   "outputs": [],
   "source": [
    "# create a model, build vocabulary\n",
    "model = gensim.models.doc2vec.Doc2Vec(vector_size=100, min_count=2, epochs=8)\n",
    "model.build_vocab(ffiles) "
   ]
  },
  {
   "cell_type": "code",
   "execution_count": 5,
   "metadata": {},
   "outputs": [
    {
     "name": "stdout",
     "output_type": "stream",
     "text": [
      "FINISH\n"
     ]
    }
   ],
   "source": [
    "# train it\n",
    "model.train(ffiles, total_examples=model.corpus_count, epochs=model.epochs)\n",
    "print('FINISH')"
   ]
  },
  {
   "cell_type": "code",
   "execution_count": 6,
   "metadata": {},
   "outputs": [],
   "source": [
    "# Hipergator\n",
    "def tokenizeFile(file_id):\n",
    "    with open( r'/blue/acg7849/hli1/item1/'+str(file_id)+'.txt', encoding='utf-8') as f:\n",
    "            content = f.read()\n",
    "    return ([x for x in word_tokenize(content) if x.isalpha() and x.lower() not in stopWords and x not in string.punctuation] )"
   ]
  },
  {
   "cell_type": "code",
   "execution_count": 7,
   "metadata": {},
   "outputs": [
    {
     "data": {
      "text/plain": [
       "array([-1.248418  ,  1.4292227 , -1.6375788 ,  0.6757137 , -0.12051744,\n",
       "       -2.3390086 , -0.5085806 , -0.26482967, -0.91265184, -0.22861241,\n",
       "        1.7329948 ,  3.1974473 , -1.3469163 , -1.2657019 ,  0.10643362,\n",
       "       -0.6741763 , -1.4705172 ,  1.43591   , -1.0513124 , -1.6309171 ,\n",
       "       -0.43597904, -0.83159715, -0.26696193,  0.79424316, -2.7946398 ,\n",
       "        2.032579  , -1.5442758 ,  2.0036602 , -2.544605  ,  0.51530355,\n",
       "        0.01094823, -0.8459205 , -0.9021442 ,  0.1591185 , -1.2317147 ,\n",
       "        0.9587873 , -3.4394996 , -3.436198  ,  1.3857045 , -1.2811754 ,\n",
       "        0.2749075 , -1.5542    ,  0.3914699 ,  2.6439848 ,  0.56674767,\n",
       "       -3.6509738 ,  0.04117782, -0.3678927 ,  4.5447173 , -0.03000459,\n",
       "       -2.72903   ,  0.9888969 , -1.0949597 , -2.595117  , -0.97578937,\n",
       "       -1.6974614 , -1.0381728 ,  1.1890405 , -1.3896854 ,  0.05372056,\n",
       "        0.8162006 , -0.6583591 ,  2.5128868 , -1.1914207 ,  1.2334534 ,\n",
       "       -3.4831507 ,  0.08891239, -0.74672735,  0.94904745, -0.98410577,\n",
       "       -1.8307719 ,  1.237309  ,  0.07208497,  0.37546253, -0.69537956,\n",
       "        1.7505789 , -0.8983824 , -1.8467882 , -0.52157986,  1.3219451 ,\n",
       "       -0.5386341 , -1.8908892 , -2.379167  , -0.7517924 ,  0.6011672 ,\n",
       "        2.4379354 , -1.4788772 , -0.09821597, -2.8016374 ,  1.2982775 ,\n",
       "       -0.8423813 , -1.3756546 , -2.2924023 ,  0.12490264, -3.27736   ,\n",
       "        1.2891425 ,  1.0880903 , -1.9519407 ,  3.1135552 , -1.0001528 ],\n",
       "      dtype=float32)"
      ]
     },
     "execution_count": 7,
     "metadata": {},
     "output_type": "execute_result"
    }
   ],
   "source": [
    "t = tokenizeFile(277350) # test file = 277350\n",
    "model.infer_vector( t )"
   ]
  },
  {
   "cell_type": "code",
   "execution_count": 8,
   "metadata": {},
   "outputs": [
    {
     "data": {
      "text/plain": [
       "[(3711, 0.9831337928771973),\n",
       " (2789, 0.6813980937004089),\n",
       " (3302, 0.6781359314918518),\n",
       " (3153, 0.6496272087097168),\n",
       " (209, 0.6474929451942444)]"
      ]
     },
     "execution_count": 8,
     "metadata": {},
     "output_type": "execute_result"
    }
   ],
   "source": [
    "t = tokenizeFile(277350)\n",
    "inferred_vector = model.infer_vector( t )\n",
    "# dv is short for docvecs\n",
    "# most similar files to 277350 is the 4th one 265065?\n",
    "sims = model.dv.most_similar([inferred_vector], topn=len(model.dv))\n",
    "#sims = model.dv.most_similar([inferred_vector], topn=4)\n",
    "sims[0:5]"
   ]
  },
  {
   "cell_type": "code",
   "execution_count": 9,
   "metadata": {},
   "outputs": [
    {
     "name": "stderr",
     "output_type": "stream",
     "text": [
      "<ipython-input-9-0bceb90a8426>:2: DeprecationWarning: Call to deprecated `docvecs` (The `docvecs` property has been renamed `dv`.).\n",
      "  similar_doc = model.docvecs.most_similar(0)\n"
     ]
    },
    {
     "data": {
      "text/plain": [
       "[(4321, 0.7674031853675842),\n",
       " (1806, 0.7462068200111389),\n",
       " (2554, 0.7375996708869934),\n",
       " (3588, 0.7360659241676331),\n",
       " (4225, 0.7337934970855713),\n",
       " (103, 0.7311334013938904),\n",
       " (324, 0.7248653769493103),\n",
       " (1924, 0.7222644686698914),\n",
       " (1656, 0.7208724617958069),\n",
       " (4586, 0.7205362915992737)]"
      ]
     },
     "execution_count": 9,
     "metadata": {},
     "output_type": "execute_result"
    }
   ],
   "source": [
    "# letter with filename 1.txt is the first letter, so tag is 0\n",
    "similar_doc = model.docvecs.most_similar(0)\n",
    "similar_doc"
   ]
  },
  {
   "cell_type": "code",
   "execution_count": 10,
   "metadata": {},
   "outputs": [
    {
     "name": "stdout",
     "output_type": "stream",
     "text": [
      "number of documents 4604\n",
      "model.docvecs 4604\n"
     ]
    }
   ],
   "source": [
    "print('number of documents', model.corpus_count)\n",
    "print('model.docvecs', len(model.dv))"
   ]
  },
  {
   "cell_type": "code",
   "execution_count": 11,
   "metadata": {},
   "outputs": [
    {
     "name": "stdout",
     "output_type": "stream",
     "text": [
      "4604\n"
     ]
    },
    {
     "data": {
      "text/plain": [
       "array([ 0.14280093,  1.5915762 , -0.9604673 ,  0.5018748 ,  2.6790376 ,\n",
       "        2.0797226 , -4.5312366 , -0.556001  , -0.6834529 ,  0.6691592 ,\n",
       "        2.400295  ,  1.2024211 , -2.390524  , -1.872069  , -1.6160091 ,\n",
       "       -0.8940099 ,  0.80020404, -0.6432669 , -2.1719573 , -2.7052314 ,\n",
       "       -1.0866717 ,  2.2793481 , -1.9636626 ,  0.34861258,  0.49692783,\n",
       "       -0.10679485, -5.4840097 ,  0.60280097, -0.10563369, -0.24827555,\n",
       "        1.4929724 ,  0.833405  , -0.796235  , -0.13962702, -1.410608  ,\n",
       "       -0.855484  ,  0.75842106, -0.5464739 ,  1.9920248 ,  1.2304072 ,\n",
       "       -1.2357284 , -1.4421774 ,  2.1721776 ,  1.2087462 ,  1.5260332 ,\n",
       "       -4.038274  , -0.7345342 , -0.83330774,  1.7719223 ,  0.2191632 ,\n",
       "        0.10573795,  1.2381473 , -2.8514812 , -0.38032132, -1.608861  ,\n",
       "       -1.8910835 ,  0.94259727,  2.0549424 ,  0.18705535,  1.3143021 ,\n",
       "        0.39445272,  2.2172103 ,  0.09930221, -0.43579805,  0.31941307,\n",
       "       -0.31177285,  0.9254448 , -0.06337421, -2.0259273 , -3.5667632 ,\n",
       "       -0.52566814,  1.2421482 ,  0.2632674 ,  0.10359579, -1.7326256 ,\n",
       "       -0.551737  ,  0.8139578 , -2.254131  , -0.89872295,  0.4525606 ,\n",
       "        1.2027533 ,  0.5628894 , -0.8227431 , -1.608049  , -0.11675858,\n",
       "       -0.1214476 , -0.2810361 ,  0.95618695, -0.6613236 ,  2.9617507 ,\n",
       "       -0.8201012 ,  2.6427588 , -1.9444981 , -0.10996012, -3.2019186 ,\n",
       "        1.4627148 ,  1.8473194 , -1.3290848 ,  5.3374496 , -3.6845796 ],\n",
       "      dtype=float32)"
      ]
     },
     "execution_count": 11,
     "metadata": {},
     "output_type": "execute_result"
    }
   ],
   "source": [
    "# Hipergator\n",
    "# reread the files, and get the vector for each file\n",
    "# feed vector into k-means algorithm to make clusters\n",
    "wordLists = MyFiles(r'/blue/acg7849/hli1/item1', tokens_only = True) # a memory-friendly iterator\n",
    "vectors = [ model.infer_vector( w ) for w in wordLists]\n",
    "print(len(vectors))\n",
    "vectors[0]"
   ]
  },
  {
   "cell_type": "code",
   "execution_count": 12,
   "metadata": {},
   "outputs": [
    {
     "data": {
      "text/plain": [
       "[25, 24, 41, 21, 2, 11, 3, 22, 41, 8]"
      ]
     },
     "execution_count": 12,
     "metadata": {},
     "output_type": "execute_result"
    }
   ],
   "source": [
    "from nltk.cluster import KMeansClusterer\n",
    "num_clusters = 50\n",
    "kclusterer = KMeansClusterer(num_clusters, distance=nltk.cluster.util.cosine_distance, repeats=25)\n",
    "assigned_clusters = kclusterer.cluster(vectors, assign_clusters=True)\n",
    "assigned_clusters[0:10]"
   ]
  },
  {
   "cell_type": "code",
   "execution_count": 13,
   "metadata": {},
   "outputs": [
    {
     "name": "stdout",
     "output_type": "stream",
     "text": [
      "Counter({34: 329, 30: 236, 10: 222, 11: 202, 21: 161, 40: 151, 48: 150, 45: 144, 29: 143, 41: 133, 42: 130, 31: 127, 46: 122, 32: 103, 4: 98, 16: 97, 3: 96, 25: 92, 8: 92, 49: 91, 33: 86, 7: 81, 26: 77, 0: 77, 35: 77, 37: 76, 12: 75, 27: 73, 24: 66, 18: 65, 43: 65, 9: 61, 13: 59, 5: 56, 17: 56, 2: 55, 39: 54, 15: 52, 1: 51, 19: 50, 36: 50, 44: 49, 38: 48, 47: 47, 14: 44, 22: 42, 23: 32, 20: 23, 6: 21, 28: 17})\n"
     ]
    }
   ],
   "source": [
    "import collections\n",
    "print(collections.Counter(assigned_clusters))"
   ]
  },
  {
   "cell_type": "markdown",
   "metadata": {},
   "source": [
    "# also needs: get industrial codes"
   ]
  },
  {
   "cell_type": "code",
   "execution_count": 14,
   "metadata": {},
   "outputs": [
    {
     "ename": "NameError",
     "evalue": "name 'filing' is not defined",
     "output_type": "error",
     "traceback": [
      "\u001b[0;31m---------------------------------------------------------------------------\u001b[0m",
      "\u001b[0;31mNameError\u001b[0m                                 Traceback (most recent call last)",
      "\u001b[0;32m<ipython-input-14-143c4b8446d9>\u001b[0m in \u001b[0;36m<module>\u001b[0;34m\u001b[0m\n\u001b[0;32m----> 1\u001b[0;31m \u001b[0mSIC\u001b[0m \u001b[0;34m=\u001b[0m \u001b[0mfiling\u001b[0m\u001b[0;34m[\u001b[0m \u001b[0mfiling\u001b[0m\u001b[0;34m.\u001b[0m\u001b[0mfind\u001b[0m\u001b[0;34m(\u001b[0m\u001b[0;34m'STANDARD INDUSTRIAL CLASSIFICATION:'\u001b[0m\u001b[0;34m)\u001b[0m \u001b[0;34m+\u001b[0m \u001b[0;36m35\u001b[0m \u001b[0;34m:\u001b[0m \u001b[0mfiling\u001b[0m\u001b[0;34m.\u001b[0m\u001b[0mfind\u001b[0m\u001b[0;34m(\u001b[0m\u001b[0;34m'IRS NUMBER'\u001b[0m\u001b[0;34m)\u001b[0m \u001b[0;34m]\u001b[0m\u001b[0;34m\u001b[0m\u001b[0;34m\u001b[0m\u001b[0m\n\u001b[0m\u001b[1;32m      2\u001b[0m \u001b[0mSIC\u001b[0m \u001b[0;34m=\u001b[0m \u001b[0;34m''\u001b[0m\u001b[0;34m.\u001b[0m\u001b[0mjoin\u001b[0m\u001b[0;34m(\u001b[0m\u001b[0mSIC\u001b[0m\u001b[0;34m.\u001b[0m\u001b[0msplit\u001b[0m\u001b[0;34m(\u001b[0m\u001b[0;34m)\u001b[0m\u001b[0;34m)\u001b[0m\u001b[0;34m\u001b[0m\u001b[0;34m\u001b[0m\u001b[0m\n",
      "\u001b[0;31mNameError\u001b[0m: name 'filing' is not defined"
     ]
    }
   ],
   "source": [
    "SIC = filing[ filing.find('STANDARD INDUSTRIAL CLASSIFICATION:') + 35 : filing.find('IRS NUMBER') ]\n",
    "SIC = ''.join(SIC.split())"
   ]
  }
 ],
 "metadata": {
  "kernelspec": {
   "display_name": "Python 3.8 (basic)",
   "language": "python",
   "name": "python3"
  },
  "language_info": {
   "codemirror_mode": {
    "name": "ipython",
    "version": 3
   },
   "file_extension": ".py",
   "mimetype": "text/x-python",
   "name": "python",
   "nbconvert_exporter": "python",
   "pygments_lexer": "ipython3",
   "version": "3.8.1"
  }
 },
 "nbformat": 4,
 "nbformat_minor": 4
}
