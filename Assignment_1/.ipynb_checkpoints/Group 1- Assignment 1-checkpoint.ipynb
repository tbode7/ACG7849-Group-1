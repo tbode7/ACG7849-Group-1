{
 "cells": [
  {
   "cell_type": "markdown",
   "metadata": {},
   "source": [
    "## Assignment 1: Fandango"
   ]
  },
  {
   "cell_type": "code",
   "execution_count": 1,
   "metadata": {},
   "outputs": [
    {
     "name": "stdout",
     "output_type": "stream",
     "text": [
      "Requirement already satisfied: selenium in /Users/Tara/opt/anaconda3/lib/python3.8/site-packages (3.141.0)\n",
      "Requirement already satisfied: urllib3 in /Users/Tara/opt/anaconda3/lib/python3.8/site-packages (from selenium) (1.25.11)\n",
      "Note: you may need to restart the kernel to use updated packages.\n"
     ]
    }
   ],
   "source": [
    "pip install selenium"
   ]
  },
  {
   "cell_type": "code",
   "execution_count": 1,
   "metadata": {},
   "outputs": [],
   "source": [
    "import pandas as pd\n",
    "import time # needed for time.sleep\n",
    "from selenium import webdriver\n",
    "# new driver (opens browser window)\n",
    "driver = webdriver.Chrome(r'/Users/zwilkerson/Desktop/UF/ACG7849 - Web Crawling and Textual Analysis/selenium_files/chromedriver')\n",
    "\n",
    "driver.get(\"https://www.fandango.com/movie-reviews\")"
   ]
  },
  {
   "cell_type": "code",
   "execution_count": 2,
   "metadata": {},
   "outputs": [],
   "source": [
    "import regex as re"
   ]
  },
  {
   "cell_type": "code",
   "execution_count": 3,
   "metadata": {},
   "outputs": [
    {
     "name": "stdout",
     "output_type": "stream",
     "text": [
      "Match\n"
     ]
    }
   ],
   "source": [
    "if re.search(r'[0-9]{2}/[0-9]{2}/2021','10/10/2021'):\n",
    "    print('Match')\n",
    "else: \n",
    "    print('No Match')"
   ]
  },
  {
   "cell_type": "code",
   "execution_count": 4,
   "metadata": {},
   "outputs": [],
   "source": [
    "# Remove advertisement \n",
    "#el = driver.find_element_by_xpath('//*[@id=\"div-gpt-boxaddt-2147863\"]/i');\n",
    "#el.click()"
   ]
  },
  {
   "cell_type": "code",
   "execution_count": 2,
   "metadata": {},
   "outputs": [
    {
     "name": "stdout",
     "output_type": "stream",
     "text": [
      "<selenium.webdriver.remote.webelement.WebElement (session=\"1c50e54c7d7f70db694186207cff05d1\", element=\"a50bcf2e-cdae-45ab-be64-99d21c5cb88f\")>\n",
      "https://www.fandango.com/covid-theater-safety-update\n"
     ]
    }
   ],
   "source": [
    "# first hyperlink\n",
    "el = driver.find_element_by_tag_name(\"a\")\n",
    "print (el)\n",
    "print ( el.get_attribute(\"href\") )"
   ]
  },
  {
   "cell_type": "code",
   "execution_count": 4,
   "metadata": {},
   "outputs": [],
   "source": [
    "elements = driver.find_elements_by_tag_name(\"a\")"
   ]
  },
  {
   "cell_type": "code",
   "execution_count": 5,
   "metadata": {},
   "outputs": [
    {
     "data": {
      "text/plain": [
       "332"
      ]
     },
     "execution_count": 5,
     "metadata": {},
     "output_type": "execute_result"
    }
   ],
   "source": [
    "len(elements)"
   ]
  },
  {
   "cell_type": "code",
   "execution_count": 6,
   "metadata": {},
   "outputs": [
    {
     "name": "stdout",
     "output_type": "stream",
     "text": [
      "50\n",
      "['https://www.fandango.com/spiral-saw-2021-222455/movie-reviews', 'https://www.fandango.com/those-who-wish-me-dead-2021-224602/movie-reviews', 'https://www.fandango.com/wrath-of-man-2021-224387/movie-reviews', 'https://www.fandango.com/onward-219053/movie-reviews', 'https://www.fandango.com/profile-2021-224551/movie-reviews', 'https://www.fandango.com/demon-slayer-kimetsu-no-yaiba-the-movie-mugen-train-2021-224268/movie-reviews', 'https://www.fandango.com/mortal-kombat-2021-224005/movie-reviews', 'https://www.fandango.com/raya-and-the-last-dragon-222995/movie-reviews', 'https://www.fandango.com/godzilla-vs-kong-2021-224101/movie-reviews', 'https://www.fandango.com/i-still-believe-220007/movie-reviews', 'https://www.fandango.com/trolls-world-tour-2020-219165/movie-reviews', 'https://www.fandango.com/finding-you-2021-224271/movie-reviews', 'https://www.fandango.com/bloodshot-2020-221008/movie-reviews', 'https://www.fandango.com/the-invisible-man-2020-221261/movie-reviews', 'https://www.fandango.com/here-today-2021-224632/movie-reviews', 'https://www.fandango.com/the-call-of-the-wild-2020-221546/movie-reviews', 'https://www.fandango.com/the-hunt-2020-219413/movie-reviews', 'https://www.fandango.com/sonic-the-hedgehog-218659/movie-reviews', 'https://www.fandango.com/the-way-back-2020-221513/movie-reviews', 'https://www.fandango.com/army-of-the-dead-2021-224645/movie-reviews', 'https://www.fandango.com/separation-2021-224455/movie-reviews', 'https://www.fandango.com/nobody-2021-223983/movie-reviews', 'https://www.fandango.com/emma-2020-221545/movie-reviews', 'https://www.fandango.com/the-unholy-2021-224377/movie-reviews', 'https://www.fandango.com/tom-and-jerry-2021-223846/movie-reviews', 'https://www.fandango.com/my-spy-2020-218211/movie-reviews', 'https://www.fandango.com/bad-boys-for-life-185731/movie-reviews', 'https://www.fandango.com/the-birdcage-25th-anniversary-presented-by-tcm-224219/movie-reviews', 'https://www.fandango.com/jumanji-the-next-level-219414/movie-reviews', 'https://www.fandango.com/bridesmaids-10th-anniversary-224479/movie-reviews', 'https://www.fandango.com/radhe-your-most-wanted-bhai-2021-224687/movie-reviews', 'https://www.fandango.com/stand-by-me-35th-anniversary-224478/movie-reviews', 'https://www.fandango.com/scoob-221441/movie-reviews', 'https://www.fandango.com/impractical-jokers-the-movie-222272/movie-reviews', 'https://www.fandango.com/mission-impossible-25th-anniversary-224340/movie-reviews', 'https://www.fandango.com/birds-of-prey-and-the-fantabulous-emancipation-of-one-harley-quinn-216990/movie-reviews', 'https://www.fandango.com/top-gun-1986-853/movie-reviews', 'https://www.fandango.com/the-new-mutants-206666/movie-reviews', 'https://www.fandango.com/weathering-with-you-224592/movie-reviews', 'https://www.fandango.com/four-good-days-2021-224437/movie-reviews', 'https://www.fandango.com/1917-2019-219742/movie-reviews', 'https://www.fandango.com/fatima-2020-222796/movie-reviews', 'https://www.fandango.com/the-croods-a-new-age-2020-223503/movie-reviews', 'https://www.fandango.com/spies-in-disguise-212476/movie-reviews', 'https://www.fandango.com/charm-city-kings-2020-222689/movie-reviews', 'https://www.fandango.com/brahms-the-boy-ii-218575/movie-reviews', 'https://www.fandango.com/the-water-man-2021-224586/movie-reviews', 'https://www.fandango.com/the-girl-who-believes-in-miracles-2021-224379/movie-reviews', 'https://www.fandango.com/portrait-of-a-lady-on-fire-219068/movie-reviews', 'https://www.fandango.com/parasite-2019-219062/movie-reviews']\n"
     ]
    }
   ],
   "source": [
    "pagesToCrawl = []\n",
    "for el in elements[0:331]:\n",
    "    parent = el.find_element_by_xpath('..') \n",
    "    if el.get_attribute(\"class\")==\"cta mrp__table-movie-reviews-link\":      \n",
    "        pagesToCrawl.append(el.get_attribute(\"href\")  )\n",
    "        \n",
    "        \n",
    "print(len(pagesToCrawl))\n",
    "print (pagesToCrawl)"
   ]
  },
  {
   "cell_type": "code",
   "execution_count": 7,
   "metadata": {},
   "outputs": [],
   "source": [
    "# create keyword lists\n",
    "positive = [ \"love\", \"fun\", \"good\", \"quality\", \"great\"]\n",
    "extra_positive = [ \"phenomenal”, “top”, “heartwarming”, “favorite”, “awesome\"]\n",
    "\n",
    "negative = [ \"horrible”, “worst”, “boring”, “bad\"]\n",
    "extra_negative = [ \"disappointing”, “predictable”, “waste\"]"
   ]
  },
  {
   "cell_type": "code",
   "execution_count": 10,
   "metadata": {},
   "outputs": [],
   "source": [
    "# Work in Progress ~ need to implement a better function to categorize movie titles by \n",
    "# number of positive and negative reviews from both the audience and critics\n",
    "\n",
    "# Critic Reviews\n",
    "criticReviewsXpath = ('//*[@id=\"movieRatingTabWrap\"]/li[1]/button')\n",
    "criticContent = ('//*[@id=\"page\"]/div/div[1]/div[2]/div/div[2]/section/section/div/section[1]/ul/li[1]/div[1]/p[2]') \n",
    "#each review is changed by the \"li[]\", i.e. the next review would have \"ul/li[2]/div[1]/p[2]\"\n",
    "\n",
    "# Audience Reviews\n",
    "audienceReviewsXpath = ('//*[@id=\"movieRatingTabWrap\"]/li[2]/button[1]')\n",
    "audienceContent = ('//*[@id=\"page\"]/div/div[1]/div[2]/div/div[2]/section/section/div/section[2]/ul/li[1]/p[3]')\n",
    "#each review is changed by the \"li[]\", i.e. the next review would have \"ul/li[2]/div[1]/p[2]\""
   ]
  },
  {
   "cell_type": "code",
   "execution_count": 11,
   "metadata": {},
   "outputs": [],
   "source": [
    "#import requests\n",
    "#r = requests.get(\"https://www.fandango.com/movie-reviews\")\n",
    "#import requests\n",
    "#r = requests.get(\"https://www.fandango.com/movie-reviews\")\n",
    "\n",
    "# get top searches\n",
    "#top = r.json()\n",
    "#top"
   ]
  },
  {
   "cell_type": "code",
   "execution_count": 13,
   "metadata": {},
   "outputs": [
    {
     "ename": "TypeError",
     "evalue": "string indices must be integers",
     "output_type": "error",
     "traceback": [
      "\u001b[0;31m---------------------------------------------------------------------------\u001b[0m",
      "\u001b[0;31mAttributeError\u001b[0m                            Traceback (most recent call last)",
      "\u001b[0;32m<ipython-input-13-744e4a8eef34>\u001b[0m in \u001b[0;36m<module>\u001b[0;34m\u001b[0m\n\u001b[1;32m      8\u001b[0m         \u001b[0mwebsite\u001b[0m \u001b[0;34m=\u001b[0m \u001b[0mdriver\u001b[0m\u001b[0;34m.\u001b[0m\u001b[0mfind_elements_by_class_name\u001b[0m\u001b[0;34m(\u001b[0m\u001b[0;34m\"cta mrp__table-movie-reviews-link\"\u001b[0m\u001b[0;34m)\u001b[0m\u001b[0;34m\u001b[0m\u001b[0;34m\u001b[0m\u001b[0m\n\u001b[0;32m----> 9\u001b[0;31m         \u001b[0mwebsite_link\u001b[0m \u001b[0;34m=\u001b[0m \u001b[0mwebsite\u001b[0m\u001b[0;34m.\u001b[0m\u001b[0mget_attribute\u001b[0m\u001b[0;34m(\u001b[0m\u001b[0;34m\"href\"\u001b[0m\u001b[0;34m)\u001b[0m\u001b[0;34m\u001b[0m\u001b[0;34m\u001b[0m\u001b[0m\n\u001b[0m\u001b[1;32m     10\u001b[0m         \u001b[0mreviews\u001b[0m \u001b[0;34m=\u001b[0m \u001b[0mdriver\u001b[0m\u001b[0;34m.\u001b[0m\u001b[0mget\u001b[0m\u001b[0;34m(\u001b[0m\u001b[0;34m'https://www.fandango.com/'\u001b[0m\u001b[0;34m+\u001b[0m\u001b[0mwebsite_link\u001b[0m\u001b[0;34m)\u001b[0m\u001b[0;34m;\u001b[0m\u001b[0;34m\u001b[0m\u001b[0;34m\u001b[0m\u001b[0m\n",
      "\u001b[0;31mAttributeError\u001b[0m: 'list' object has no attribute 'get_attribute'",
      "\nDuring handling of the above exception, another exception occurred:\n",
      "\u001b[0;31mTypeError\u001b[0m                                 Traceback (most recent call last)",
      "\u001b[0;32m<ipython-input-13-744e4a8eef34>\u001b[0m in \u001b[0;36m<module>\u001b[0;34m\u001b[0m\n\u001b[1;32m     21\u001b[0m             \u001b[0maudience_score_list\u001b[0m\u001b[0;34m.\u001b[0m\u001b[0mappend\u001b[0m\u001b[0;34m(\u001b[0m\u001b[0;34m'N/A'\u001b[0m\u001b[0;34m)\u001b[0m\u001b[0;34m;\u001b[0m\u001b[0;34m\u001b[0m\u001b[0;34m\u001b[0m\u001b[0m\n\u001b[1;32m     22\u001b[0m     \u001b[0;32mexcept\u001b[0m\u001b[0;34m:\u001b[0m\u001b[0;34m\u001b[0m\u001b[0;34m\u001b[0m\u001b[0m\n\u001b[0;32m---> 23\u001b[0;31m         \u001b[0mprint\u001b[0m\u001b[0;34m(\u001b[0m\u001b[0;34m'Error grabbing data for '\u001b[0m\u001b[0;34m+\u001b[0m \u001b[0mpagesToCrawl\u001b[0m\u001b[0;34m[\u001b[0m\u001b[0mitem\u001b[0m\u001b[0;34m]\u001b[0m\u001b[0;34m[\u001b[0m\u001b[0;34m'name'\u001b[0m\u001b[0;34m]\u001b[0m\u001b[0;34m+\u001b[0m\u001b[0;34m' . . . \\n'\u001b[0m\u001b[0;34m)\u001b[0m\u001b[0;34m\u001b[0m\u001b[0;34m\u001b[0m\u001b[0m\n\u001b[0m\u001b[1;32m     24\u001b[0m         \u001b[0mwebsite_link_list\u001b[0m\u001b[0;34m.\u001b[0m\u001b[0mappend\u001b[0m\u001b[0;34m(\u001b[0m\u001b[0;34m'[Missing Link for {}]'\u001b[0m\u001b[0;34m.\u001b[0m\u001b[0mformat\u001b[0m\u001b[0;34m(\u001b[0m\u001b[0mpagesToCrawl\u001b[0m\u001b[0;34m[\u001b[0m\u001b[0mitem\u001b[0m\u001b[0;34m]\u001b[0m\u001b[0;34m[\u001b[0m\u001b[0;34m'name'\u001b[0m\u001b[0;34m]\u001b[0m\u001b[0;34m)\u001b[0m\u001b[0;34m)\u001b[0m\u001b[0;34m;\u001b[0m\u001b[0;34m\u001b[0m\u001b[0;34m\u001b[0m\u001b[0m\n\u001b[1;32m     25\u001b[0m         \u001b[0mcritic_score_list\u001b[0m\u001b[0;34m.\u001b[0m\u001b[0mappend\u001b[0m\u001b[0;34m(\u001b[0m\u001b[0;34m'N/A'\u001b[0m\u001b[0;34m)\u001b[0m\u001b[0;34m;\u001b[0m\u001b[0;34m\u001b[0m\u001b[0;34m\u001b[0m\u001b[0m\n",
      "\u001b[0;31mTypeError\u001b[0m: string indices must be integers"
     ]
    }
   ],
   "source": [
    "website_link_list = [];\n",
    "critic_score_list = [];\n",
    "audience_score_list = [];\n",
    "\n",
    "for item in range(len(pagesToCrawl)):\n",
    "    try:\n",
    "        #website = driver.find_elements_by_xpath('//*[@id=\"movie_222455\"]/td[1]/h3/a')\n",
    "        website = driver.find_elements_by_class_name(\"cta mrp__table-movie-reviews-link\")\n",
    "        website_link = website.get_attribute(\"href\")\n",
    "        reviews = driver.get('https://www.fandango.com/'+website_link);\n",
    "        try:\n",
    "            critic_score = driver.find_element_by_xpath('//*[@id=\"movieRatingTabWrap\"]/li[2]/button[1]/span[2]')\n",
    "            audience_score = driver.find_element_by_xpath('//*[@id=\"movieRatingTabWrap\"]/li[1]/button/span[2]')\n",
    "            website_link_list.append(website_link);\n",
    "            critic_score_list.append(critic_score.text[2:]);\n",
    "            audience_score_list.append(audience_score.text[2:]);\n",
    "        except: \n",
    "            print('No rating score to display for '+website_link+' . . . \\n')\n",
    "            website_link_list.append(website_link);\n",
    "            critic_score_list.append('N/A');\n",
    "            audience_score_list.append('N/A');\n",
    "    except:\n",
    "        print('Error grabbing data for '+ pagesToCrawl[item]['name']+' . . . \\n')\n",
    "        website_link_list.append('[Missing Link for {}]'.format(pagesToCrawl[item]['name']));\n",
    "        critic_score_list.append('N/A');\n",
    "        audience_score_list.append('N/A');\n",
    "\n",
    "\n",
    "#driver.close()\n",
    "\n",
    "\n",
    "#webcrawl = pd.DataFrame(list(zip(website_link_list,rank_list,rank_change_list)), columns=['Site','Rank','90-Day Change']);\n",
    "#display(webcrawl)"
   ]
  },
  {
   "cell_type": "code",
   "execution_count": 14,
   "metadata": {},
   "outputs": [
    {
     "ename": "TypeError",
     "evalue": "'WebElement' object is not subscriptable",
     "output_type": "error",
     "traceback": [
      "\u001b[0;31m---------------------------------------------------------------------------\u001b[0m",
      "\u001b[0;31mAttributeError\u001b[0m                            Traceback (most recent call last)",
      "\u001b[0;32m<ipython-input-14-e30f6c0a151c>\u001b[0m in \u001b[0;36m<module>\u001b[0;34m\u001b[0m\n\u001b[1;32m      6\u001b[0m         \u001b[0mwebsite\u001b[0m \u001b[0;34m=\u001b[0m \u001b[0mdriver\u001b[0m\u001b[0;34m.\u001b[0m\u001b[0mfind_elements_by_class_name\u001b[0m\u001b[0;34m(\u001b[0m\u001b[0;34m\"cta mrp__table-movie-reviews-link\"\u001b[0m\u001b[0;34m)\u001b[0m\u001b[0;34m\u001b[0m\u001b[0;34m\u001b[0m\u001b[0m\n\u001b[0;32m----> 7\u001b[0;31m         \u001b[0mwebsite_link\u001b[0m \u001b[0;34m=\u001b[0m \u001b[0mwebsite\u001b[0m\u001b[0;34m.\u001b[0m\u001b[0mget_attribute\u001b[0m\u001b[0;34m(\u001b[0m\u001b[0;34m\"href\"\u001b[0m\u001b[0;34m)\u001b[0m\u001b[0;34m\u001b[0m\u001b[0;34m\u001b[0m\u001b[0m\n\u001b[0m\u001b[1;32m      8\u001b[0m         \u001b[0mreviews\u001b[0m \u001b[0;34m=\u001b[0m \u001b[0mdriver\u001b[0m\u001b[0;34m.\u001b[0m\u001b[0mget\u001b[0m\u001b[0;34m(\u001b[0m\u001b[0;34m'https://www.fandango.com/'\u001b[0m\u001b[0;34m+\u001b[0m\u001b[0mwebsite_link\u001b[0m\u001b[0;34m)\u001b[0m\u001b[0;34m;\u001b[0m\u001b[0;34m\u001b[0m\u001b[0;34m\u001b[0m\u001b[0m\n",
      "\u001b[0;31mAttributeError\u001b[0m: 'list' object has no attribute 'get_attribute'",
      "\nDuring handling of the above exception, another exception occurred:\n",
      "\u001b[0;31mTypeError\u001b[0m                                 Traceback (most recent call last)",
      "\u001b[0;32m<ipython-input-14-e30f6c0a151c>\u001b[0m in \u001b[0;36m<module>\u001b[0;34m\u001b[0m\n\u001b[1;32m     19\u001b[0m             \u001b[0maudience_score_list\u001b[0m\u001b[0;34m.\u001b[0m\u001b[0mappend\u001b[0m\u001b[0;34m(\u001b[0m\u001b[0;34m'N/A'\u001b[0m\u001b[0;34m)\u001b[0m\u001b[0;34m;\u001b[0m\u001b[0;34m\u001b[0m\u001b[0;34m\u001b[0m\u001b[0m\n\u001b[1;32m     20\u001b[0m     \u001b[0;32mexcept\u001b[0m\u001b[0;34m:\u001b[0m\u001b[0;34m\u001b[0m\u001b[0;34m\u001b[0m\u001b[0m\n\u001b[0;32m---> 21\u001b[0;31m         \u001b[0mprint\u001b[0m\u001b[0;34m(\u001b[0m\u001b[0;34m'Error grabbing data for '\u001b[0m\u001b[0;34m+\u001b[0m \u001b[0minfo\u001b[0m\u001b[0;34m[\u001b[0m\u001b[0mitem\u001b[0m\u001b[0;34m]\u001b[0m\u001b[0;34m[\u001b[0m\u001b[0;34m'name'\u001b[0m\u001b[0;34m]\u001b[0m\u001b[0;34m+\u001b[0m\u001b[0;34m' . . . \\n'\u001b[0m\u001b[0;34m)\u001b[0m\u001b[0;34m\u001b[0m\u001b[0;34m\u001b[0m\u001b[0m\n\u001b[0m\u001b[1;32m     22\u001b[0m         \u001b[0mwebsite_link_list\u001b[0m\u001b[0;34m.\u001b[0m\u001b[0mappend\u001b[0m\u001b[0;34m(\u001b[0m\u001b[0;34m'[Missing Link for {}]'\u001b[0m\u001b[0;34m.\u001b[0m\u001b[0mformat\u001b[0m\u001b[0;34m(\u001b[0m\u001b[0minfo\u001b[0m\u001b[0;34m[\u001b[0m\u001b[0mitem\u001b[0m\u001b[0;34m]\u001b[0m\u001b[0;34m[\u001b[0m\u001b[0;34m'name'\u001b[0m\u001b[0;34m]\u001b[0m\u001b[0;34m)\u001b[0m\u001b[0;34m)\u001b[0m\u001b[0;34m;\u001b[0m\u001b[0;34m\u001b[0m\u001b[0;34m\u001b[0m\u001b[0m\n\u001b[1;32m     23\u001b[0m         \u001b[0mcritic_score_list\u001b[0m\u001b[0;34m.\u001b[0m\u001b[0mappend\u001b[0m\u001b[0;34m(\u001b[0m\u001b[0;34m'N/A'\u001b[0m\u001b[0;34m)\u001b[0m\u001b[0;34m;\u001b[0m\u001b[0;34m\u001b[0m\u001b[0;34m\u001b[0m\u001b[0m\n",
      "\u001b[0;31mTypeError\u001b[0m: 'WebElement' object is not subscriptable"
     ]
    }
   ],
   "source": [
    "info = driver.find_elements_by_xpath('//*[@id=\"page\"]/div/section[2]/div[1]/table[2]')\n",
    "   \n",
    "for item in range(len(info)):\n",
    "    try:\n",
    "        #website = driver.find_elements_by_xpath('//*[@id=\"movie_222455\"]/td[1]/h3/a')\n",
    "        website = driver.find_elements_by_class_name(\"cta mrp__table-movie-reviews-link\")\n",
    "        website_link = website.get_attribute(\"href\")\n",
    "        reviews = driver.get('https://www.fandango.com/'+website_link);\n",
    "        try:\n",
    "            critic_score = driver.find_element_by_xpath('//*[@id=\"movieRatingTabWrap\"]/li[2]/button[1]/span[2]')\n",
    "            audience_score = driver.find_element_by_xpath('//*[@id=\"movieRatingTabWrap\"]/li[1]/button/span[2]')\n",
    "            website_link_list.append(website_link);\n",
    "            critic_score_list.append(critic_score.text[2:]);\n",
    "            audience_score_list.append(audience_score.text[2:]);\n",
    "        except: \n",
    "            print('No rating score to display for '+website_link+' . . . \\n')\n",
    "            website_link_list.append(website_link);\n",
    "            critic_score_list.append('N/A');\n",
    "            audience_score_list.append('N/A');\n",
    "    except:\n",
    "        print('Error grabbing data for '+ info[item]['name']+' . . . \\n')\n",
    "        website_link_list.append('[Missing Link for {}]'.format(info[item]['name']));\n",
    "        critic_score_list.append('N/A');\n",
    "        audience_score_list.append('N/A');\n",
    "            "
   ]
  },
  {
   "cell_type": "code",
   "execution_count": 15,
   "metadata": {},
   "outputs": [
    {
     "name": "stdout",
     "output_type": "stream",
     "text": [
      "[]\n"
     ]
    }
   ],
   "source": [
    "info = driver.find_elements_by_xpath('//*[@id=\"movie_222455\"]/td[1]') \n",
    "   \n",
    "for item in range(len(info)):\n",
    "    try:\n",
    "        website = driver.find_elements_by_class_name(\"cta mrp__table-movie-reviews-link\");\n",
    "    except:\n",
    "        print(\"Error\")\n",
    "print(website)\n",
    "             "
   ]
  },
  {
   "cell_type": "code",
   "execution_count": 16,
   "metadata": {},
   "outputs": [
    {
     "name": "stdout",
     "output_type": "stream",
     "text": [
      "[]\n"
     ]
    }
   ],
   "source": [
    "#info = driver.find_elements_by_xpath('//*[@id=\"movie_222455\"]')\n",
    "   \n",
    "for item in range(len(pagesToCrawl)):\n",
    "    try:\n",
    "        website = driver.find_elements_by_class_name(\"cta mrp__table-movie-reviews-link\");\n",
    "    except:\n",
    "        print(\"Error\")\n",
    "print(website)\n",
    "             "
   ]
  },
  {
   "cell_type": "code",
   "execution_count": null,
   "metadata": {},
   "outputs": [],
   "source": [
    "# tally the totals for each movie ~ lists\n",
    "positiveReviews = []\n",
    "extraPositiveReviews = []\n",
    "negativeReviews = []\n",
    "extraNegativeReviews = []\n",
    "\n",
    "positiveReviewsCnt = 0\n",
    "extraPositiveReviewsCnt = 0\n",
    "negativeReviewsCnt = 0\n",
    "extraNegativeReviewsCnt = 0\n",
    "\n",
    "# for loop to get reviews \n",
    "for item in range(len(pagesToCrawl)):\n",
    "    positiveReviews.append(pagesToCrawl[item].str)\n",
    "    extraPositiveReviews.append(pagesToCrawl[item].str)\n",
    "    negativeReviews.append(pagesToCrawl[item].str)\n",
    "    extraNegativeReviews.append(pagesToCrawl[item].str)\n",
    "    try:\n",
    "         audienceReviewsXpath.click;\n",
    "    except:\n",
    "        audienceContent.click;\n",
    "    try: \n",
    "        criticReviewsXpath.click;\n",
    "    except:\n",
    "        criticsContent.click;\n",
    "    \n",
    "    positiveReviewsCnt += positiveCnt;\n",
    "    extraPositiveReviewsCnt += extra_positiveCnt;\n",
    "    negativeReviewsCnt += negativeCnt; \n",
    "    extraNegativeReviewsCnt += extra_negativeCnt;\n",
    "\n",
    "driver.close()\n"
   ]
  },
  {
   "cell_type": "code",
   "execution_count": null,
   "metadata": {},
   "outputs": [],
   "source": [
    "#hypothetically: print(Movie title, Number of Positive Reviews, Number of Extra Positive Reviews, Number of Negative Reviews, Number of Extra Negative Reviews)\n",
    "\n",
    "\n",
    "movieReviews_df = pd.DataFrame({‘Movie_Names’: Movies_Now_Playing,\n",
    "‘Rotten Tomatoes Ratings’: Tomatometer,\n",
    "‘Audience Ratings’: Audience Score,\n",
    "‘Critic_Reviews’: criticsContent,\n",
    "‘Audience_Reviews’: audienceContent})\n",
    "print(movieReviews_df.info())"
   ]
  }
 ],
 "metadata": {
  "kernelspec": {
   "display_name": "Python 3",
   "language": "python",
   "name": "python3"
  },
  "language_info": {
   "codemirror_mode": {
    "name": "ipython",
    "version": 3
   },
   "file_extension": ".py",
   "mimetype": "text/x-python",
   "name": "python",
   "nbconvert_exporter": "python",
   "pygments_lexer": "ipython3",
   "version": "3.8.5"
  }
 },
 "nbformat": 4,
 "nbformat_minor": 4
}
