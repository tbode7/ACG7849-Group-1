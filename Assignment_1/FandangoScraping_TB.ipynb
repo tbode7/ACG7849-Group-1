{
 "cells": [
  {
   "cell_type": "markdown",
   "metadata": {},
   "source": [
    "## Assignment 1: Fandango"
   ]
  },
  {
   "cell_type": "code",
   "execution_count": 1,
   "metadata": {},
   "outputs": [
    {
     "name": "stdout",
     "output_type": "stream",
     "text": [
      "Requirement already satisfied: selenium in /Users/Tara/opt/anaconda3/lib/python3.8/site-packages (3.141.0)\n",
      "Requirement already satisfied: urllib3 in /Users/Tara/opt/anaconda3/lib/python3.8/site-packages (from selenium) (1.25.11)\n",
      "Note: you may need to restart the kernel to use updated packages.\n"
     ]
    }
   ],
   "source": [
    "pip install selenium"
   ]
  },
  {
   "cell_type": "code",
   "execution_count": 1,
   "metadata": {},
   "outputs": [],
   "source": [
    "import time # needed for time.sleep\n",
    "from selenium import webdriver\n",
    "# new driver (opens browser window)\n",
    "driver = webdriver.Chrome(r'/Users/Tara/Desktop/selenium_files/chromedriver')\n",
    "\n",
    "driver.get(\"https://www.fandango.com/movie-reviews\")"
   ]
  },
  {
   "cell_type": "code",
   "execution_count": 2,
   "metadata": {},
   "outputs": [],
   "source": [
    "import regex as re"
   ]
  },
  {
   "cell_type": "code",
   "execution_count": 3,
   "metadata": {},
   "outputs": [
    {
     "name": "stdout",
     "output_type": "stream",
     "text": [
      "Match\n"
     ]
    }
   ],
   "source": [
    "if re.search(r'[0-9]{2}/[0-9]{2}/2021','10/10/2021'):\n",
    "    print('Match')\n",
    "else: \n",
    "    print('No Match')"
   ]
  },
  {
   "cell_type": "code",
   "execution_count": null,
   "metadata": {},
   "outputs": [],
   "source": [
    "# Remove advertisement \n",
    "el = driver.find_element_by_xpath('//*[@id=\"div-gpt-boxaddt-2147863\"]/i');\n",
    "el.click()"
   ]
  },
  {
   "cell_type": "code",
   "execution_count": 4,
   "metadata": {},
   "outputs": [
    {
     "name": "stdout",
     "output_type": "stream",
     "text": [
      "<selenium.webdriver.remote.webelement.WebElement (session=\"b5dda38a09c6a768b863fc7b9d559a9a\", element=\"6b5a8f95-4111-4430-894b-0203aec8650e\")>\n",
      "https://www.fandango.com/covid-theater-safety-update\n"
     ]
    }
   ],
   "source": [
    "# first hyperlink\n",
    "el = driver.find_element_by_tag_name(\"a\")\n",
    "print (el)\n",
    "print ( el.get_attribute(\"href\") )"
   ]
  },
  {
   "cell_type": "code",
   "execution_count": 5,
   "metadata": {},
   "outputs": [],
   "source": [
    "elements = driver.find_elements_by_tag_name(\"a\")"
   ]
  },
  {
   "cell_type": "code",
   "execution_count": 6,
   "metadata": {},
   "outputs": [
    {
     "data": {
      "text/plain": [
       "333"
      ]
     },
     "execution_count": 6,
     "metadata": {},
     "output_type": "execute_result"
    }
   ],
   "source": [
    "len(elements)"
   ]
  },
  {
   "cell_type": "code",
   "execution_count": 10,
   "metadata": {},
   "outputs": [
    {
     "name": "stdout",
     "output_type": "stream",
     "text": [
      "50\n",
      "['https://www.fandango.com/spiral-saw-2021-222455/movie-reviews', 'https://www.fandango.com/those-who-wish-me-dead-2021-224602/movie-reviews', 'https://www.fandango.com/wrath-of-man-2021-224387/movie-reviews', 'https://www.fandango.com/profile-2021-224551/movie-reviews', 'https://www.fandango.com/demon-slayer-kimetsu-no-yaiba-the-movie-mugen-train-2021-224268/movie-reviews', 'https://www.fandango.com/mortal-kombat-2021-224005/movie-reviews', 'https://www.fandango.com/raya-and-the-last-dragon-222995/movie-reviews', 'https://www.fandango.com/godzilla-vs-kong-2021-224101/movie-reviews', 'https://www.fandango.com/finding-you-2021-224271/movie-reviews', 'https://www.fandango.com/here-today-2021-224632/movie-reviews', 'https://www.fandango.com/onward-219053/movie-reviews', 'https://www.fandango.com/army-of-the-dead-2021-224645/movie-reviews', 'https://www.fandango.com/i-still-believe-220007/movie-reviews', 'https://www.fandango.com/trolls-world-tour-2020-219165/movie-reviews', 'https://www.fandango.com/bloodshot-2020-221008/movie-reviews', 'https://www.fandango.com/the-invisible-man-2020-221261/movie-reviews', 'https://www.fandango.com/the-call-of-the-wild-2020-221546/movie-reviews', 'https://www.fandango.com/the-hunt-2020-219413/movie-reviews', 'https://www.fandango.com/separation-2021-224455/movie-reviews', 'https://www.fandango.com/sonic-the-hedgehog-218659/movie-reviews', 'https://www.fandango.com/nobody-2021-223983/movie-reviews', 'https://www.fandango.com/the-way-back-2020-221513/movie-reviews', 'https://www.fandango.com/the-unholy-2021-224377/movie-reviews', 'https://www.fandango.com/tom-and-jerry-2021-223846/movie-reviews', 'https://www.fandango.com/emma-2020-221545/movie-reviews', 'https://www.fandango.com/radhe-your-most-wanted-bhai-2021-224687/movie-reviews', 'https://www.fandango.com/top-gun-1986-853/movie-reviews', 'https://www.fandango.com/my-spy-2020-218211/movie-reviews', 'https://www.fandango.com/bad-boys-for-life-185731/movie-reviews', 'https://www.fandango.com/four-good-days-2021-224437/movie-reviews', 'https://www.fandango.com/the-birdcage-25th-anniversary-presented-by-tcm-224219/movie-reviews', 'https://www.fandango.com/jumanji-the-next-level-219414/movie-reviews', 'https://www.fandango.com/bridesmaids-10th-anniversary-224479/movie-reviews', 'https://www.fandango.com/mission-impossible-25th-anniversary-224340/movie-reviews', 'https://www.fandango.com/fatima-2020-222796/movie-reviews', 'https://www.fandango.com/the-water-man-2021-224586/movie-reviews', 'https://www.fandango.com/stand-by-me-35th-anniversary-224478/movie-reviews', 'https://www.fandango.com/the-girl-who-believes-in-miracles-2021-224379/movie-reviews', 'https://www.fandango.com/impractical-jokers-the-movie-222272/movie-reviews', 'https://www.fandango.com/the-croods-a-new-age-2020-223503/movie-reviews', 'https://www.fandango.com/together-together-2021-224486/movie-reviews', 'https://www.fandango.com/birds-of-prey-and-the-fantabulous-emancipation-of-one-harley-quinn-216990/movie-reviews', 'https://www.fandango.com/scoob-221441/movie-reviews', 'https://www.fandango.com/the-new-mutants-206666/movie-reviews', 'https://www.fandango.com/1917-2019-219742/movie-reviews', 'https://www.fandango.com/weathering-with-you-224592/movie-reviews', 'https://www.fandango.com/charm-city-kings-2020-222689/movie-reviews', 'https://www.fandango.com/spies-in-disguise-212476/movie-reviews', 'https://www.fandango.com/walking-with-herb-224269/movie-reviews', 'https://www.fandango.com/the-courier-2021-223036/movie-reviews']\n"
     ]
    }
   ],
   "source": [
    "pagesToCrawl = []\n",
    "for el in elements[0:332]:\n",
    "    parent = el.find_element_by_xpath('..') \n",
    "    if el.get_attribute(\"class\")==\"cta mrp__table-movie-reviews-link\":      \n",
    "        pagesToCrawl.append(el.get_attribute(\"href\")  )\n",
    "        \n",
    "        \n",
    "print(len(pagesToCrawl))\n",
    "print (pagesToCrawl)"
   ]
  },
  {
   "cell_type": "code",
   "execution_count": 15,
   "metadata": {},
   "outputs": [],
   "source": [
    "# create keyword lists\n",
    "positive = [ \"love\", \"fun\", \"good\", \"quality\", \"great\"]\n",
    "extra_positive = [ \"phenomenal”, “top”, “heartwarming”, “favorite”, “awesome\"]\n",
    "\n",
    "negative = [ \"horrible”, “worst”, “boring”, “bad\"]\n",
    "extra_negative = [ \"disappointing”, “predictable”, “waste\"]"
   ]
  },
  {
   "cell_type": "code",
   "execution_count": null,
   "metadata": {},
   "outputs": [],
   "source": [
    "# Work in Progress ~ need to implement a better function to categorize movie titles by \n",
    "# number of positive and negative reviews from both the audience and critics\n",
    "\n",
    "# Critic Reviews\n",
    "criticReviewsXpath = ('//*[@id=\"movieRatingTabWrap\"]/li[1]/button')\n",
    "criticContent = ('//*[@id=\"page\"]/div/div[1]/div[2]/div/div[2]/section/section/div/section[1]/ul/li[1]/div[1]/p[2]') \n",
    "#each review is changed by the \"li[]\", i.e. the next review would have \"ul/li[2]/div[1]/p[2]\"\n",
    "\n",
    "# Audience Reviews\n",
    "audienceReviewsXpath = ('//*[@id=\"movieRatingTabWrap\"]/li[2]/button[1]')\n",
    "audienceContent = ('//*[@id=\"page\"]/div/div[1]/div[2]/div/div[2]/section/section/div/section[2]/ul/li[1]/p[3]')\n",
    "#each review is changed by the \"li[]\", i.e. the next review would have \"ul/li[2]/div[1]/p[2]\"\n",
    "\n",
    "positive = extra_positive = negative = extra_negative = postiveReviews = extraPositiveReviews = negativeReviews = extraNegativeReviews = 0\n",
    "\n",
    "# tally the totals for each movie\n",
    "positiveReviews += positive\n",
    "extraPositiveReviews += extra_positive\n",
    "negativeReviews += negative \n",
    "extraNegativeReviews += extra_negative\n",
    "\n",
    "# for loop to get reviews \n",
    "    for item in range(len(pagesToCrawl)):\n",
    "        positiveReviews.append(pagesToCrawl[item].text)\n",
    "        extraPositiveReviews.append(pagesToCrawl[item].text)\n",
    "        negativeReviews.append(pagesToCrawl[item].text)\n",
    "        extraNegativeReviews.append(pagesToCrawl[item].text)\n",
    "        try:\n",
    "            audienceReviewsXpath.click;\n",
    "        except:\n",
    "            audienceContent.click;\n",
    "        try: \n",
    "            criticReviewsXpath.click;\n",
    "        except:\n",
    "            criticsContent.click;\n",
    "    \n",
    "    positiveReviews += positive;\n",
    "    extraPositiveReviews += extra_positive;\n",
    "    negativeReviews += negative; \n",
    "    extraNegativeReviews += extra_negative;\n",
    "\n",
    "driver.close()\n",
    "\n",
    "#hypothetically: print(Movie title, Number of Positive Reviews, Number of Extra Positive Reviews, Number of Negative Reviews, Number of Extra Negative Reviews)\n",
    "\n",
    "\n"
   ]
  }
 ],
 "metadata": {
  "kernelspec": {
   "display_name": "Python 3",
   "language": "python",
   "name": "python3"
  },
  "language_info": {
   "codemirror_mode": {
    "name": "ipython",
    "version": 3
   },
   "file_extension": ".py",
   "mimetype": "text/x-python",
   "name": "python",
   "nbconvert_exporter": "python",
   "pygments_lexer": "ipython3",
   "version": "3.8.5"
  }
 },
 "nbformat": 4,
 "nbformat_minor": 4
}
