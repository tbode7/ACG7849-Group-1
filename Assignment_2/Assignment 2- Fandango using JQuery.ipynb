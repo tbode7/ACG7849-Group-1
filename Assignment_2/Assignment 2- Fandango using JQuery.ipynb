{
 "cells": [
  {
   "cell_type": "markdown",
   "metadata": {},
   "source": [
    "# FANDANGO\n"
   ]
  },
  {
   "cell_type": "markdown",
   "metadata": {},
   "source": [
    "# Group 1:\n",
    "Zachary Wilkerson, Tara Bode, Hankun Li"
   ]
  },
  {
   "cell_type": "markdown",
   "metadata": {},
   "source": [
    "### Some things we want to know:\n",
    "- Of the Movies Now Playing, how highly rated were they by critics and audience members?\n",
    "- Of the reviews from audience members, how many occurrences of keywords are there of each review and to what extent (i.e. extra positive vs. positive)?"
   ]
  },
  {
   "cell_type": "code",
   "execution_count": 1,
   "metadata": {},
   "outputs": [],
   "source": [
    "import pandas as pd\n",
    "import time # needed for time.sleep\n",
    "from selenium import webdriver\n",
    "# new driver (opens browser window)\n",
    "driver = webdriver.Chrome(r'/Users/Tara/Desktop/Summer A 2021/ACG7849- Web Crawling/selenium_files/chromedriver')\n",
    "driver.get(\"https://www.fandango.com/movie-reviews\")"
   ]
  },
  {
   "cell_type": "code",
   "execution_count": null,
   "metadata": {},
   "outputs": [],
   "source": [
    "with open(r'/Users/Tara/Desktop/Summer A 2021/ACG7849- Web Crawling/selenium_files/jquery.js', 'r') as jquery_js:\n",
    "    driver.execute_script( jquery_js.read() )"
   ]
  },
  {
   "cell_type": "code",
   "execution_count": null,
   "metadata": {},
   "outputs": [],
   "source": [
    "# For jquery debugger\n",
    "'''\n",
    "var script = document.createElement(\"script\")\n",
    "script.type = \"text/javascript\";\n",
    "script.src = \"https://code.jquery.com/jquery-3.6.0.js\";\n",
    "document.getElementsByTagName(\"head\")[0].appendChild(script);\n",
    "'''"
   ]
  },
  {
   "cell_type": "code",
   "execution_count": null,
   "metadata": {},
   "outputs": [],
   "source": [
    "# figure out the jquery to get all links from the main page\n",
    "# do this in the debugger\n",
    "#javascript (browser)\n",
    "$(\"tbody.mrp__table--mobile-block a\")"
   ]
  },
  {
   "cell_type": "code",
   "execution_count": null,
   "metadata": {},
   "outputs": [],
   "source": [
    "#javascript\n",
    "#javascript (browser)\n",
    "els =$(\"tbody.mrp__table--mobile-block a\").filter(function(index){return (index % 4 == 0);})\n",
    "\n",
    "all_links = []\n",
    "els.each( function(i,el) { all_links.push( el.href )  }   )"
   ]
  },
  {
   "cell_type": "code",
   "execution_count": null,
   "metadata": {},
   "outputs": [],
   "source": [
    "# write a function to get all links into python/selenium\n",
    "# to get the href of an element we don't need jquery, just el.href (not $(el).href )\n",
    "myJs = '''\n",
    "els =$(\"tbody.mrp__table--mobile-block a\").filter(function(index){return (index % 4 == 0);})\n",
    "\n",
    "all_links = []\n",
    "els.each( function(i,el) { all_links.push( el.href )  }   )\n",
    "return all_links;\n",
    "'''\n",
    "links = driver.execute_script( myJs )"
   ]
  },
  {
   "cell_type": "code",
   "execution_count": null,
   "metadata": {},
   "outputs": [],
   "source": [
    "links[0:10]"
   ]
  },
  {
   "cell_type": "code",
   "execution_count": null,
   "metadata": {},
   "outputs": [],
   "source": [
    "driver.get(links[0])"
   ]
  },
  {
   "cell_type": "code",
   "execution_count": null,
   "metadata": {},
   "outputs": [],
   "source": [
    "# figure out the jquery to get the information from each project page\n",
    "section with class ratings-stats holds the information\n",
    "each cell within that with class holds one type of information\n",
    "of that cell .slice(0,3) has the critic reviews, .slice(3,6) has the audience reviews\n",
    "\n",
    "#javascript (browser)\n",
    "els = $(\"section.movie-reviews\")\n",
    "        \n",
    "then for each of these, get criticReviews and audienceReviews\n",
    "$(els[0]).find(\"span.movie-ratings-tabs__rating\").text().slice(0,3)\n",
    "$(els[0]).find(\"span.movie-ratings-tabs__rating\").text().slice(3,6)"
   ]
  },
  {
   "cell_type": "code",
   "execution_count": null,
   "metadata": {},
   "outputs": [],
   "source": [
    "# write a function to get the info into python/selenium\n",
    "\n",
    "# 16 cells that have h5 (number), and h6 (description) element\n",
    "cells = $(\"section.movie-reviews\")\n",
    "\n",
    "\n",
    "details = {}\n",
    "\n",
    "cells.each( \n",
    "    function(index, el) {  \n",
    "        criticReviews = $( el ).find(\"span.movie-ratings-tabs__rating\").text().slice(0,3)\n",
    "        audienceReviews = $( el ).find(\"span.movie-ratings-tabs__rating\").text().slice(3,6)\n",
    "        if (audienceReviews != \"\") { \n",
    "            details[audienceReviews.trim()] = criticReviews.trim();\n",
    "        }               \n",
    "    }      \n",
    ")"
   ]
  },
  {
   "cell_type": "code",
   "execution_count": null,
   "metadata": {},
   "outputs": [],
   "source": [
    "myJs_details ='''\n",
    "cells = els = $(\"section.movie-reviews\")\n",
    "\n",
    "details = {}\n",
    "\n",
    "cells.each( \n",
    "    function(index, el) {  \n",
    "        criticReviews = $( el ).find(\"span.movie-ratings-tabs__rating\").text().slice(0,3)\n",
    "        audienceReviews = $( el ).find(\"span.movie-ratings-tabs__rating\").text().slice(3,6)\n",
    "        if (criticReviews != \"\") { \n",
    "            details[criticReviews.trim()] = audienceReviews.trim();\n",
    "        }               \n",
    "    }      \n",
    ")\n",
    "return details;\n",
    "\n",
    "'''\n",
    "d = driver.execute_script( myJs_details )\n",
    "d"
   ]
  },
  {
   "cell_type": "code",
   "execution_count": null,
   "metadata": {},
   "outputs": [],
   "source": [
    "# list with all details\n",
    "all_details = []\n",
    "\n",
    "# wrap everything into a loop (get all links, visit each page, get info)\n",
    "for link in links[0:5]:\n",
    "    print (\"Retrieving reviews from \" + link)\n",
    "    # go to url\n",
    "    driver.get( link  )\n",
    "    # some time to finish loading\n",
    "    driver.implicitly_wait(1)\n",
    "    # normally inject jquery, but it is already there\n",
    "    # skip\n",
    "    # get details\n",
    "    d = driver.execute_script( myJs_details )\n",
    "    d[\"url\"] = link    \n",
    "    print('details', d)\n",
    "    all_details.append ( d )  "
   ]
  },
  {
   "cell_type": "code",
   "execution_count": null,
   "metadata": {},
   "outputs": [],
   "source": [
    "all_details"
   ]
  },
  {
   "cell_type": "code",
   "execution_count": null,
   "metadata": {},
   "outputs": [],
   "source": []
  },
  {
   "cell_type": "code",
   "execution_count": null,
   "metadata": {},
   "outputs": [],
   "source": [
    "#### All Below is Original For Loop"
   ]
  },
  {
   "cell_type": "code",
   "execution_count": null,
   "metadata": {},
   "outputs": [],
   "source": [
    "# create keyword lists\n",
    "positive = ['love','fun','good','quality','great']\n",
    "extra_positive = ['phenomenal','top','heartwarming','favorite','awesome']\n",
    "\n",
    "negative = [ 'horrible', 'predictable', 'boring', 'bad']\n",
    "extra_negative = [ 'disappointing', 'worst', 'waste', 'awful','terrible']"
   ]
  },
  {
   "cell_type": "code",
   "execution_count": null,
   "metadata": {},
   "outputs": [],
   "source": [
    "movie_list = []\n",
    "critic_score_list = []\n",
    "audience_score_list = []\n",
    "positiveReviews = []\n",
    "extraPositiveReviews = []\n",
    "negativeReviews = []\n",
    "extraNegativeReviews = []\n",
    "\n",
    "for item in range(len(pagesToCrawl)):\n",
    "    positiveReviewsCnt = 0\n",
    "    extraPositiveReviewsCnt = 0\n",
    "    negativeReviewsCnt = 0\n",
    "    extraNegativeReviewsCnt = 0\n",
    "    \n",
    "    driver.get(pagesToCrawl[item])\n",
    "    time.sleep(5)\n",
    "    try:\n",
    "        critic_score = driver.find_elements_by_class_name('movie-ratings-tabs__rating')[0].text\n",
    "        audience_score = driver.find_elements_by_class_name('movie-ratings-tabs__rating')[1].text\n",
    "        movie_list.append(driver.find_element_by_xpath('//*[@id=\"subnav\"]/div/div/h1/a').get_attribute('data-name'));\n",
    "        critic_score_list.append(critic_score);\n",
    "        audience_score_list.append(audience_score);\n",
    "        review_list = driver.find_elements_by_class_name('rt-audience-reviews__content')\n",
    "        for review in review_list:\n",
    "            text = review.text\n",
    "            for word in positive: \n",
    "                positiveReviewsCnt += text.count(word)\n",
    "            for word in extra_positive: \n",
    "                extraPositiveReviewsCnt += text.count(word)\n",
    "            for word in negative: \n",
    "                negativeReviewsCnt += text.count(word) \n",
    "            for word in extra_negative: \n",
    "                extraNegativeReviewsCnt += text.count(word)\n",
    "        positiveReviews.append(positiveReviewsCnt)\n",
    "        extraPositiveReviews.append(extraPositiveReviewsCnt)\n",
    "        negativeReviews.append(negativeReviewsCnt)\n",
    "        extraNegativeReviews.append(extraNegativeReviewsCnt)\n",
    "    except:\n",
    "        print('No rating score to display for '+pagesToCrawl[item]+' . . . \\n')\n",
    "        movie_list.append(driver.find_element_by_xpath('//*[@id=\"subnav\"]/div/div/h1/a').get_attribute('data-name'));\n",
    "        critic_score_list.append('N/A');\n",
    "        audience_score_list.append('N/A');\n",
    "        positiveReviews.append('-')\n",
    "        extraPositiveReviews.append('-')\n",
    "        negativeReviews.append('-')\n",
    "        extraNegativeReviews.append('-')\n",
    "\n",
    "driver.close()"
   ]
  },
  {
   "cell_type": "code",
   "execution_count": null,
   "metadata": {},
   "outputs": [],
   "source": [
    "webcrawl = pd.DataFrame(list(zip(movie_list,critic_score_list,audience_score_list,positiveReviews,extraPositiveReviews,negativeReviews,extraNegativeReviews)), columns=['Movie Name','Critic Rating','Audience Rating','Number of Positive Reviews','Number of Extra Positive Reviews','Number of Negative Reviews','Number of Extra Negative Reviews']);\n",
    "display(webcrawl)"
   ]
  },
  {
   "cell_type": "code",
   "execution_count": null,
   "metadata": {},
   "outputs": [],
   "source": []
  },
  {
   "cell_type": "code",
   "execution_count": null,
   "metadata": {},
   "outputs": [],
   "source": []
  },
  {
   "cell_type": "code",
   "execution_count": null,
   "metadata": {},
   "outputs": [],
   "source": [
    "# NOTE: HOW TO GET THE OUTPUT\n",
    "\n",
    "els = $(\"section.movie-reviews\")\n",
    "$(els[0]).find(\"span.movie-ratings-tabs__rating\").text()\n",
    "\n",
    "$(els[0]).find(\"span.movie-ratings-tabs__rating\").text().slice(0,3)\n",
    "$(els[0]).find(\"span.movie-ratings-tabs__rating\").text().slice(3,6)\n",
    "\n",
    "# Output:37%76%"
   ]
  },
  {
   "cell_type": "code",
   "execution_count": null,
   "metadata": {},
   "outputs": [],
   "source": []
  }
 ],
 "metadata": {
  "kernelspec": {
   "display_name": "Python 3",
   "language": "python",
   "name": "python3"
  },
  "language_info": {
   "codemirror_mode": {
    "name": "ipython",
    "version": 3
   },
   "file_extension": ".py",
   "mimetype": "text/x-python",
   "name": "python",
   "nbconvert_exporter": "python",
   "pygments_lexer": "ipython3",
   "version": "3.8.5"
  }
 },
 "nbformat": 4,
 "nbformat_minor": 4
}
