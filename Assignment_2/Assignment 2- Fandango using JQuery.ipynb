{
 "cells": [
  {
   "cell_type": "markdown",
   "metadata": {},
   "source": [
    "# FANDANGO\n"
   ]
  },
  {
   "cell_type": "markdown",
   "metadata": {},
   "source": [
    "# Group 1:\n",
    "Zachary Wilkerson, Tara Bode, Hankun Li"
   ]
  },
  {
   "cell_type": "markdown",
   "metadata": {},
   "source": [
    "### Some things we want to know:\n",
    "- Of the Movies Now Playing, how highly rated were they by critics and audience members?\n",
    "- Of the reviews from audience members, how many occurrences of keywords are there of each review and to what extent (i.e. extra positive vs. positive)?"
   ]
  },
  {
   "cell_type": "code",
   "execution_count": 1,
   "metadata": {},
   "outputs": [],
   "source": [
    "import pandas as pd\n",
    "import time # needed for time.sleep\n",
    "from selenium import webdriver\n",
    "# new driver (opens browser window)\n",
    "driver = webdriver.Chrome(r'/Users/Tara/Desktop/Summer A 2021/ACG7849- Web Crawling/selenium_files/chromedriver')\n",
    "driver.get(\"https://www.fandango.com/movie-reviews\")"
   ]
  },
  {
   "cell_type": "code",
   "execution_count": 2,
   "metadata": {},
   "outputs": [],
   "source": [
    "with open(r'/Users/Tara/Desktop/Summer A 2021/ACG7849- Web Crawling/selenium_files/jquery.js', 'r') as jquery_js:\n",
    "    driver.execute_script( jquery_js.read() )"
   ]
  },
  {
   "cell_type": "code",
   "execution_count": 3,
   "metadata": {},
   "outputs": [
    {
     "data": {
      "text/plain": [
       "'\\nvar script = document.createElement(\"script\")\\nscript.type = \"text/javascript\";\\nscript.src = \"https://code.jquery.com/jquery-3.6.0.js\";\\ndocument.getElementsByTagName(\"head\")[0].appendChild(script);\\n'"
      ]
     },
     "execution_count": 3,
     "metadata": {},
     "output_type": "execute_result"
    }
   ],
   "source": [
    "# For jquery debugger\n",
    "'''\n",
    "var script = document.createElement(\"script\")\n",
    "script.type = \"text/javascript\";\n",
    "script.src = \"https://code.jquery.com/jquery-3.6.0.js\";\n",
    "document.getElementsByTagName(\"head\")[0].appendChild(script);\n",
    "'''"
   ]
  },
  {
   "cell_type": "code",
   "execution_count": null,
   "metadata": {},
   "outputs": [],
   "source": [
    "# figure out the jquery to get all links from the main page\n",
    "# do this in the debugger\n",
    "#javascript (browser)\n",
    "$(\"tbody.mrp__table--mobile-block a\")"
   ]
  },
  {
   "cell_type": "code",
   "execution_count": null,
   "metadata": {},
   "outputs": [],
   "source": [
    "#javascript\n",
    "#javascript (browser)\n",
    "els =$(\"tbody.mrp__table--mobile-block a\").filter(function(index){return (index % 4 == 0);})\n",
    "\n",
    "all_links = []\n",
    "els.each( function(i,el) { all_links.push( el.href )  }   )"
   ]
  },
  {
   "cell_type": "code",
   "execution_count": 27,
   "metadata": {},
   "outputs": [],
   "source": [
    "# write a function to get all links into python/selenium\n",
    "# to get the href of an element we don't need jquery, just el.href (not $(el).href )\n",
    "myJs = '''\n",
    "els =$(\"tbody.mrp__table--mobile-block a\").filter(function(index){return (index % 4 == 0);})\n",
    "\n",
    "all_links = []\n",
    "els.each( function(i,el) { all_links.push( el.href )  }   )\n",
    "return all_links;\n",
    "'''\n",
    "links = driver.execute_script( myJs )"
   ]
  },
  {
   "cell_type": "code",
   "execution_count": 28,
   "metadata": {},
   "outputs": [
    {
     "data": {
      "text/plain": [
       "['https://www.fandango.com/spiral-saw-2021-222455/movie-reviews',\n",
       " 'https://www.fandango.com/wrath-of-man-2021-224387/movie-reviews',\n",
       " 'https://www.fandango.com/those-who-wish-me-dead-2021-224602/movie-reviews',\n",
       " 'https://www.fandango.com/raya-and-the-last-dragon-222995/movie-reviews',\n",
       " 'https://www.fandango.com/demon-slayer-kimetsu-no-yaiba-the-movie-mugen-train-2021-224268/movie-reviews',\n",
       " 'https://www.fandango.com/onward-219053/movie-reviews',\n",
       " 'https://www.fandango.com/dream-horse-2021-220232/movie-reviews',\n",
       " 'https://www.fandango.com/godzilla-vs-kong-2021-224101/movie-reviews',\n",
       " 'https://www.fandango.com/mortal-kombat-2021-224005/movie-reviews',\n",
       " 'https://www.fandango.com/i-still-believe-220007/movie-reviews']"
      ]
     },
     "execution_count": 28,
     "metadata": {},
     "output_type": "execute_result"
    }
   ],
   "source": [
    "links[0:10]"
   ]
  },
  {
   "cell_type": "code",
   "execution_count": 29,
   "metadata": {},
   "outputs": [],
   "source": [
    "driver.get(links[0])"
   ]
  },
  {
   "cell_type": "code",
   "execution_count": 22,
   "metadata": {},
   "outputs": [],
   "source": [
    "# create keyword lists\n",
    "positive = ['love','fun','good','quality','great']\n",
    "extra_positive = ['phenomenal','top','heartwarming','favorite','awesome']\n",
    "\n",
    "negative = [ 'horrible', 'predictable', 'boring', 'bad']\n",
    "extra_negative = [ 'disappointing', 'worst', 'waste', 'awful','terrible']"
   ]
  },
  {
   "cell_type": "code",
   "execution_count": null,
   "metadata": {},
   "outputs": [],
   "source": []
  },
  {
   "cell_type": "code",
   "execution_count": null,
   "metadata": {},
   "outputs": [],
   "source": []
  },
  {
   "cell_type": "code",
   "execution_count": null,
   "metadata": {},
   "outputs": [],
   "source": [
    "# figure out the jquery to get the information from each project page\n",
    "section with class ratings-stats holds the information\n",
    "each cell within that with class holds one type of information\n",
    "of that cell span[0] has the critic reviews, span[1] has the audience reviews\n",
    "\n",
    "#javascript (browser)\n",
    "els = $(\"section.js-reviews__ratings-tabs rt-reviews__tabs-wrap\")\n",
    "        \n",
    "then for each of these, get criticReviews and audienceReviews\n",
    "$(els[0]).find(\"span.movie-ratings-tabs__rating[0]\").text()\n",
    "$(els[0]).find(\"span.movie-ratings-tabs__rating[1]\").text()"
   ]
  },
  {
   "cell_type": "code",
   "execution_count": 32,
   "metadata": {},
   "outputs": [],
   "source": [
    "# write a function to get the info into python/selenium\n",
    "\n",
    "# 16 cells that have h5 (number), and h6 (description) element\n",
    "cells = $(\"section.js-reviews__ratings-tabs rt-reviews__tabs-wrap\")\n",
    "\n",
    "details = {}\n",
    "\n",
    "cells.each( \n",
    "    function(index, el) {  \n",
    "        number = $( el ).find(\"span.movie-ratings-tabs__rating[0]\").text()\n",
    "        descript = $( el ).find(\"span.movie-ratings-tabs__rating[1]\").text()\n",
    "        if (descript != \"\") { \n",
    "            details[descript.trim()] = number.trim();\n",
    "        }               \n",
    "    }      \n",
    ")"
   ]
  },
  {
   "cell_type": "code",
   "execution_count": 33,
   "metadata": {},
   "outputs": [
    {
     "ename": "JavascriptException",
     "evalue": "Message: javascript error: missing ) after argument list\n  (Session info: chrome=90.0.4430.212)\n",
     "output_type": "error",
     "traceback": [
      "\u001b[0;31m---------------------------------------------------------------------------\u001b[0m",
      "\u001b[0;31mJavascriptException\u001b[0m                       Traceback (most recent call last)",
      "\u001b[0;32m<ipython-input-33-a4b50e649de9>\u001b[0m in \u001b[0;36m<module>\u001b[0;34m\u001b[0m\n\u001b[1;32m     16\u001b[0m \u001b[0;34m\u001b[0m\u001b[0m\n\u001b[1;32m     17\u001b[0m '''\n\u001b[0;32m---> 18\u001b[0;31m \u001b[0md\u001b[0m \u001b[0;34m=\u001b[0m \u001b[0mdriver\u001b[0m\u001b[0;34m.\u001b[0m\u001b[0mexecute_script\u001b[0m\u001b[0;34m(\u001b[0m \u001b[0mmyJs_details\u001b[0m \u001b[0;34m)\u001b[0m\u001b[0;34m\u001b[0m\u001b[0;34m\u001b[0m\u001b[0m\n\u001b[0m\u001b[1;32m     19\u001b[0m \u001b[0md\u001b[0m\u001b[0;34m\u001b[0m\u001b[0;34m\u001b[0m\u001b[0m\n",
      "\u001b[0;32m~/opt/anaconda3/lib/python3.8/site-packages/selenium/webdriver/remote/webdriver.py\u001b[0m in \u001b[0;36mexecute_script\u001b[0;34m(self, script, *args)\u001b[0m\n\u001b[1;32m    632\u001b[0m             \u001b[0mcommand\u001b[0m \u001b[0;34m=\u001b[0m \u001b[0mCommand\u001b[0m\u001b[0;34m.\u001b[0m\u001b[0mEXECUTE_SCRIPT\u001b[0m\u001b[0;34m\u001b[0m\u001b[0;34m\u001b[0m\u001b[0m\n\u001b[1;32m    633\u001b[0m \u001b[0;34m\u001b[0m\u001b[0m\n\u001b[0;32m--> 634\u001b[0;31m         return self.execute(command, {\n\u001b[0m\u001b[1;32m    635\u001b[0m             \u001b[0;34m'script'\u001b[0m\u001b[0;34m:\u001b[0m \u001b[0mscript\u001b[0m\u001b[0;34m,\u001b[0m\u001b[0;34m\u001b[0m\u001b[0;34m\u001b[0m\u001b[0m\n\u001b[1;32m    636\u001b[0m             'args': converted_args})['value']\n",
      "\u001b[0;32m~/opt/anaconda3/lib/python3.8/site-packages/selenium/webdriver/remote/webdriver.py\u001b[0m in \u001b[0;36mexecute\u001b[0;34m(self, driver_command, params)\u001b[0m\n\u001b[1;32m    319\u001b[0m         \u001b[0mresponse\u001b[0m \u001b[0;34m=\u001b[0m \u001b[0mself\u001b[0m\u001b[0;34m.\u001b[0m\u001b[0mcommand_executor\u001b[0m\u001b[0;34m.\u001b[0m\u001b[0mexecute\u001b[0m\u001b[0;34m(\u001b[0m\u001b[0mdriver_command\u001b[0m\u001b[0;34m,\u001b[0m \u001b[0mparams\u001b[0m\u001b[0;34m)\u001b[0m\u001b[0;34m\u001b[0m\u001b[0;34m\u001b[0m\u001b[0m\n\u001b[1;32m    320\u001b[0m         \u001b[0;32mif\u001b[0m \u001b[0mresponse\u001b[0m\u001b[0;34m:\u001b[0m\u001b[0;34m\u001b[0m\u001b[0;34m\u001b[0m\u001b[0m\n\u001b[0;32m--> 321\u001b[0;31m             \u001b[0mself\u001b[0m\u001b[0;34m.\u001b[0m\u001b[0merror_handler\u001b[0m\u001b[0;34m.\u001b[0m\u001b[0mcheck_response\u001b[0m\u001b[0;34m(\u001b[0m\u001b[0mresponse\u001b[0m\u001b[0;34m)\u001b[0m\u001b[0;34m\u001b[0m\u001b[0;34m\u001b[0m\u001b[0m\n\u001b[0m\u001b[1;32m    322\u001b[0m             response['value'] = self._unwrap_value(\n\u001b[1;32m    323\u001b[0m                 response.get('value', None))\n",
      "\u001b[0;32m~/opt/anaconda3/lib/python3.8/site-packages/selenium/webdriver/remote/errorhandler.py\u001b[0m in \u001b[0;36mcheck_response\u001b[0;34m(self, response)\u001b[0m\n\u001b[1;32m    240\u001b[0m                 \u001b[0malert_text\u001b[0m \u001b[0;34m=\u001b[0m \u001b[0mvalue\u001b[0m\u001b[0;34m[\u001b[0m\u001b[0;34m'alert'\u001b[0m\u001b[0;34m]\u001b[0m\u001b[0;34m.\u001b[0m\u001b[0mget\u001b[0m\u001b[0;34m(\u001b[0m\u001b[0;34m'text'\u001b[0m\u001b[0;34m)\u001b[0m\u001b[0;34m\u001b[0m\u001b[0;34m\u001b[0m\u001b[0m\n\u001b[1;32m    241\u001b[0m             \u001b[0;32mraise\u001b[0m \u001b[0mexception_class\u001b[0m\u001b[0;34m(\u001b[0m\u001b[0mmessage\u001b[0m\u001b[0;34m,\u001b[0m \u001b[0mscreen\u001b[0m\u001b[0;34m,\u001b[0m \u001b[0mstacktrace\u001b[0m\u001b[0;34m,\u001b[0m \u001b[0malert_text\u001b[0m\u001b[0;34m)\u001b[0m\u001b[0;34m\u001b[0m\u001b[0;34m\u001b[0m\u001b[0m\n\u001b[0;32m--> 242\u001b[0;31m         \u001b[0;32mraise\u001b[0m \u001b[0mexception_class\u001b[0m\u001b[0;34m(\u001b[0m\u001b[0mmessage\u001b[0m\u001b[0;34m,\u001b[0m \u001b[0mscreen\u001b[0m\u001b[0;34m,\u001b[0m \u001b[0mstacktrace\u001b[0m\u001b[0;34m)\u001b[0m\u001b[0;34m\u001b[0m\u001b[0;34m\u001b[0m\u001b[0m\n\u001b[0m\u001b[1;32m    243\u001b[0m \u001b[0;34m\u001b[0m\u001b[0m\n\u001b[1;32m    244\u001b[0m     \u001b[0;32mdef\u001b[0m \u001b[0m_value_or_default\u001b[0m\u001b[0;34m(\u001b[0m\u001b[0mself\u001b[0m\u001b[0;34m,\u001b[0m \u001b[0mobj\u001b[0m\u001b[0;34m,\u001b[0m \u001b[0mkey\u001b[0m\u001b[0;34m,\u001b[0m \u001b[0mdefault\u001b[0m\u001b[0;34m)\u001b[0m\u001b[0;34m:\u001b[0m\u001b[0;34m\u001b[0m\u001b[0;34m\u001b[0m\u001b[0m\n",
      "\u001b[0;31mJavascriptException\u001b[0m: Message: javascript error: missing ) after argument list\n  (Session info: chrome=90.0.4430.212)\n"
     ]
    }
   ],
   "source": [
    "myJs_details ='''\n",
    "cells = $(\"\"section.js-reviews__ratings-tabs rt-reviews__tabs-wrap\")\n",
    "\n",
    "details = {}\n",
    "\n",
    "cells.each( \n",
    "    function(index, el) {  \n",
    "        number = $( el ).find(\"span.movie-ratings-tabs__rating[0]\").text()\n",
    "        descript = $( el ).find(\"span.movie-ratings-tabs__rating[1]\").text()\n",
    "        if (descript != \"\") { \n",
    "            details[descript.trim()] = number.trim();\n",
    "        }               \n",
    "    }      \n",
    ")\n",
    "return details;\n",
    "\n",
    "'''\n",
    "d = driver.execute_script( myJs_details )\n",
    "d"
   ]
  },
  {
   "cell_type": "code",
   "execution_count": null,
   "metadata": {},
   "outputs": [],
   "source": []
  },
  {
   "cell_type": "code",
   "execution_count": null,
   "metadata": {},
   "outputs": [],
   "source": [
    "#### Need to incorporate info below into original loop"
   ]
  },
  {
   "cell_type": "code",
   "execution_count": null,
   "metadata": {},
   "outputs": [],
   "source": [
    "# list with all details\n",
    "all_details = []\n",
    "\n",
    "# wrap everything into a loop (get all links, visit each page, get info)\n",
    "for link in links[0:5]:\n",
    "    print (\"now going to \" + link)\n",
    "    # go to url\n",
    "    driver.get( link  )\n",
    "    # some time to finish loading\n",
    "    driver.implicitly_wait(1)\n",
    "    # normally inject jquery, but it is already there\n",
    "    # skip\n",
    "    # get details\n",
    "    d = driver.execute_script( myJs_details )\n",
    "    d[\"url\"] = link    \n",
    "    print('details', d)\n",
    "    all_details.append ( d )  "
   ]
  },
  {
   "cell_type": "code",
   "execution_count": null,
   "metadata": {},
   "outputs": [],
   "source": [
    "all_details"
   ]
  },
  {
   "cell_type": "code",
   "execution_count": null,
   "metadata": {},
   "outputs": [],
   "source": []
  },
  {
   "cell_type": "code",
   "execution_count": null,
   "metadata": {},
   "outputs": [],
   "source": [
    "# create keyword lists\n",
    "positive = ['love','fun','good','quality','great']\n",
    "extra_positive = ['phenomenal','top','heartwarming','favorite','awesome']\n",
    "\n",
    "negative = [ 'horrible', 'predictable', 'boring', 'bad']\n",
    "extra_negative = [ 'disappointing', 'worst', 'waste', 'awful','terrible']"
   ]
  },
  {
   "cell_type": "code",
   "execution_count": null,
   "metadata": {},
   "outputs": [],
   "source": [
    "#### All Below is Original For Loop"
   ]
  },
  {
   "cell_type": "code",
   "execution_count": null,
   "metadata": {},
   "outputs": [],
   "source": [
    "movie_list = []\n",
    "critic_score_list = []\n",
    "audience_score_list = []\n",
    "positiveReviews = []\n",
    "extraPositiveReviews = []\n",
    "negativeReviews = []\n",
    "extraNegativeReviews = []\n",
    "\n",
    "for item in range(len(pagesToCrawl)):\n",
    "    positiveReviewsCnt = 0\n",
    "    extraPositiveReviewsCnt = 0\n",
    "    negativeReviewsCnt = 0\n",
    "    extraNegativeReviewsCnt = 0\n",
    "    \n",
    "    driver.get(pagesToCrawl[item])\n",
    "    time.sleep(5)\n",
    "    try:\n",
    "        critic_score = driver.find_elements_by_class_name('movie-ratings-tabs__rating')[0].text\n",
    "        audience_score = driver.find_elements_by_class_name('movie-ratings-tabs__rating')[1].text\n",
    "        movie_list.append(driver.find_element_by_xpath('//*[@id=\"subnav\"]/div/div/h1/a').get_attribute('data-name'));\n",
    "        critic_score_list.append(critic_score);\n",
    "        audience_score_list.append(audience_score);\n",
    "        review_list = driver.find_elements_by_class_name('rt-audience-reviews__content')\n",
    "        for review in review_list:\n",
    "            text = review.text\n",
    "            for word in positive: \n",
    "                positiveReviewsCnt += text.count(word)\n",
    "            for word in extra_positive: \n",
    "                extraPositiveReviewsCnt += text.count(word)\n",
    "            for word in negative: \n",
    "                negativeReviewsCnt += text.count(word) \n",
    "            for word in extra_negative: \n",
    "                extraNegativeReviewsCnt += text.count(word)\n",
    "        positiveReviews.append(positiveReviewsCnt)\n",
    "        extraPositiveReviews.append(extraPositiveReviewsCnt)\n",
    "        negativeReviews.append(negativeReviewsCnt)\n",
    "        extraNegativeReviews.append(extraNegativeReviewsCnt)\n",
    "    except:\n",
    "        print('No rating score to display for '+pagesToCrawl[item]+' . . . \\n')\n",
    "        movie_list.append(driver.find_element_by_xpath('//*[@id=\"subnav\"]/div/div/h1/a').get_attribute('data-name'));\n",
    "        critic_score_list.append('N/A');\n",
    "        audience_score_list.append('N/A');\n",
    "        positiveReviews.append('-')\n",
    "        extraPositiveReviews.append('-')\n",
    "        negativeReviews.append('-')\n",
    "        extraNegativeReviews.append('-')\n",
    "\n",
    "driver.close()"
   ]
  },
  {
   "cell_type": "code",
   "execution_count": null,
   "metadata": {},
   "outputs": [],
   "source": [
    "webcrawl = pd.DataFrame(list(zip(movie_list,critic_score_list,audience_score_list,positiveReviews,extraPositiveReviews,negativeReviews,extraNegativeReviews)), columns=['Movie Name','Critic Rating','Audience Rating','Number of Positive Reviews','Number of Extra Positive Reviews','Number of Negative Reviews','Number of Extra Negative Reviews']);\n",
    "display(webcrawl)"
   ]
  },
  {
   "cell_type": "code",
   "execution_count": null,
   "metadata": {},
   "outputs": [],
   "source": []
  }
 ],
 "metadata": {
  "kernelspec": {
   "display_name": "Python 3",
   "language": "python",
   "name": "python3"
  },
  "language_info": {
   "codemirror_mode": {
    "name": "ipython",
    "version": 3
   },
   "file_extension": ".py",
   "mimetype": "text/x-python",
   "name": "python",
   "nbconvert_exporter": "python",
   "pygments_lexer": "ipython3",
   "version": "3.8.5"
  }
 },
 "nbformat": 4,
 "nbformat_minor": 4
}
