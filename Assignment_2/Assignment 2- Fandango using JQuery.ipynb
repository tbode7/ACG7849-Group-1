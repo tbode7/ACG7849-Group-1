{
 "cells": [
  {
   "cell_type": "markdown",
   "metadata": {},
   "source": [
    "# FANDANGO\n"
   ]
  },
  {
   "cell_type": "markdown",
   "metadata": {},
   "source": [
    "# Group 1:\n",
    "Zachary Wilkerson, Tara Bode, Hankun Li"
   ]
  },
  {
   "cell_type": "markdown",
   "metadata": {},
   "source": [
    "### Some things we want to know:\n",
    "- Of the Movies Now Playing, how highly rated were they by critics and audience members?\n",
    "- Of the reviews from audience members, how many occurrences of keywords are there of each review and to what extent (i.e. extra positive vs. positive)?"
   ]
  },
  {
   "cell_type": "code",
   "execution_count": 1,
   "metadata": {},
   "outputs": [],
   "source": [
    "import pandas as pd\n",
    "import time # needed for time.sleep\n",
    "from selenium import webdriver\n",
    "# new driver (opens browser window)\n",
    "driver = webdriver.Chrome(r'/Users/Tara/Desktop/Summer A 2021/ACG7849- Web Crawling/selenium_files/chromedriver')\n",
    "driver.get(\"https://www.fandango.com/movie-reviews\")"
   ]
  },
  {
   "cell_type": "code",
   "execution_count": 2,
   "metadata": {},
   "outputs": [],
   "source": [
    "with open(r'/Users/Tara/Desktop/Summer A 2021/ACG7849- Web Crawling/selenium_files/jquery.js', 'r') as jquery_js:\n",
    "    driver.execute_script( jquery_js.read() )"
   ]
  },
  {
   "cell_type": "code",
   "execution_count": null,
   "metadata": {},
   "outputs": [],
   "source": [
    "# For jquery debugger\n",
    "'''\n",
    "var script = document.createElement(\"script\")\n",
    "script.type = \"text/javascript\";\n",
    "script.src = \"https://code.jquery.com/jquery-3.6.0.js\";\n",
    "document.getElementsByTagName(\"head\")[0].appendChild(script);\n",
    "'''"
   ]
  },
  {
   "cell_type": "code",
   "execution_count": null,
   "metadata": {},
   "outputs": [],
   "source": [
    "# figure out the jquery to get all links from the main page\n",
    "# do this in the debugger\n",
    "#javascript (browser)\n",
    "$(\"tbody.mrp__table--mobile-block a\")"
   ]
  },
  {
   "cell_type": "code",
   "execution_count": null,
   "metadata": {},
   "outputs": [],
   "source": [
    "#javascript\n",
    "#javascript (browser)\n",
    "els =$(\"tbody.mrp__table--mobile-block a\").filter(function(index){return (index % 4 == 0);})\n",
    "\n",
    "all_links = []\n",
    "els.each( function(i,el) { all_links.push( el.href )  }   )"
   ]
  },
  {
   "cell_type": "code",
   "execution_count": 7,
   "metadata": {},
   "outputs": [],
   "source": [
    "# write a function to get all links into python/selenium\n",
    "# to get the href of an element we don't need jquery, just el.href (not $(el).href )\n",
    "myJs = '''\n",
    "els =$(\"tbody.mrp__table--mobile-block a\").filter(function(index){return (index % 4 == 0);})\n",
    "\n",
    "all_links = []\n",
    "els.each( function(i,el) { all_links.push( el.href )  }   )\n",
    "return all_links;\n",
    "'''\n",
    "links = driver.execute_script( myJs )"
   ]
  },
  {
   "cell_type": "code",
   "execution_count": 8,
   "metadata": {},
   "outputs": [
    {
     "data": {
      "text/plain": [
       "[None]"
      ]
     },
     "execution_count": 8,
     "metadata": {},
     "output_type": "execute_result"
    }
   ],
   "source": [
    "# Correct version\n",
    "\n",
    "myJs_details ='''\n",
    "cells = els = $(\"section.movie-reviews\")\n",
    "\n",
    "details = {}\n",
    "\n",
    "cells.each( \n",
    "    function(index, el) {  \n",
    "        criticReviews = $( el ).find(\"span.movie-ratings-tabs__rating\").text().slice(0,3)\n",
    "        audienceReviews = $( el ).find(\"span.movie-ratings-tabs__rating\").text().slice(3,6)\n",
    "        if (criticReviews != \"\") { \n",
    "            details['Critics'] = criticReviews.trim();\n",
    "            details['Audience'] = audienceReviews.trim();\n",
    "        }               \n",
    "    }      \n",
    ")\n",
    "details['Movie Title'] = $('a[class=\"js-hearts-heart favorite-add icon icon-fave-heart--white-outline\"]').attr('data-name')\n",
    "return details;\n",
    "\n",
    "'''\n",
    "\n",
    "reviews = '''\n",
    "elem = $(\"p.rt-audience-reviews__content\")\n",
    "review = []\n",
    "review.push($('a[class=\"js-hearts-heart favorite-add icon icon-fave-heart--white-outline\"]').attr('data-name'))\n",
    "elem.each (\n",
    "     function(index, el) { \n",
    "         review.push(el.innerText)\n",
    "     })\n",
    "return review\n",
    "'''\n"
   ]
  },
  {
   "cell_type": "code",
   "execution_count": 5,
   "metadata": {},
   "outputs": [],
   "source": [
    "# create keyword lists\n",
    "positive = ['love','fun','good','quality','great']\n",
    "extra_positive = ['phenomenal','top','heartwarming','favorite','awesome']\n",
    "\n",
    "negative = [ 'horrible', 'predictable', 'boring', 'bad']\n",
    "extra_negative = [ 'disappointing', 'worst', 'waste', 'awful','terrible']"
   ]
  },
  {
   "cell_type": "code",
   "execution_count": 9,
   "metadata": {},
   "outputs": [],
   "source": [
    "review_list = []\n",
    "movie_list = []\n",
    "movieData = pd.DataFrame(columns = ['Movie Title','Critics', 'Audience', 'Positive Reviews','Extra Positive Reviews','Negative Reviews','Extra Negative Reviews'] )\n",
    "\n",
    "for link in links[0:2]:\n",
    "    # go to url\n",
    "    driver.get( link  )\n",
    "    # some time to finish loading\n",
    "    driver.implicitly_wait(1)\n",
    "    # normally inject jquery, but it is already there\n",
    "    # skip\n",
    "    # get details\n",
    "    d = driver.execute_script( myJs_details )  \n",
    "    \n",
    "    positiveReviewsCnt = 0\n",
    "    extraPositiveReviewsCnt = 0\n",
    "    negativeReviewsCnt = 0\n",
    "    extraNegativeReviewsCnt = 0\n",
    "\n",
    "    test = {}\n",
    "    \n",
    "    f=driver.execute_script( reviews )    \n",
    "    movie_list.append(f[0])\n",
    "    review_list.append(f[1:])\n",
    "    \n",
    "    for review in review_list:\n",
    "        for word in positive: \n",
    "            positiveReviewsCnt += review.count(word)\n",
    "        for word in extra_positive: \n",
    "            extraPositiveReviewsCnt += review.count(word)\n",
    "        for word in negative: \n",
    "            negativeReviewsCnt += review.count(word) \n",
    "        for word in extra_negative: \n",
    "            extraNegativeReviewsCnt += review.count(word)\n",
    "\n",
    "    test['Movie Title'] = f[0]\n",
    "    test['Positive Reviews'] = positiveReviewsCnt   \n",
    "    test['Extra Positive Reviews'] = extraPositiveReviewsCnt\n",
    "    test['Negative Reviews'] = negativeReviewsCnt\n",
    "    test['Extra Negative Reviews'] =extraNegativeReviewsCnt\n",
    "    \n",
    "    d.update(test) \n",
    "    movieData = movieData.append (d, ignore_index = True  )    "
   ]
  },
  {
   "cell_type": "code",
   "execution_count": 10,
   "metadata": {},
   "outputs": [
    {
     "data": {
      "text/html": [
       "<div>\n",
       "<style scoped>\n",
       "    .dataframe tbody tr th:only-of-type {\n",
       "        vertical-align: middle;\n",
       "    }\n",
       "\n",
       "    .dataframe tbody tr th {\n",
       "        vertical-align: top;\n",
       "    }\n",
       "\n",
       "    .dataframe thead th {\n",
       "        text-align: right;\n",
       "    }\n",
       "</style>\n",
       "<table border=\"1\" class=\"dataframe\">\n",
       "  <thead>\n",
       "    <tr style=\"text-align: right;\">\n",
       "      <th></th>\n",
       "      <th>Movie Title</th>\n",
       "      <th>Critics</th>\n",
       "      <th>Audience</th>\n",
       "      <th>Positive Reviews</th>\n",
       "      <th>Extra Positive Reviews</th>\n",
       "      <th>Negative Reviews</th>\n",
       "      <th>Extra Negative Reviews</th>\n",
       "    </tr>\n",
       "  </thead>\n",
       "  <tbody>\n",
       "    <tr>\n",
       "      <th>0</th>\n",
       "      <td>Spiral: SAW (2021)</td>\n",
       "      <td>37%</td>\n",
       "      <td>76%</td>\n",
       "      <td>0</td>\n",
       "      <td>0</td>\n",
       "      <td>0</td>\n",
       "      <td>0</td>\n",
       "    </tr>\n",
       "    <tr>\n",
       "      <th>1</th>\n",
       "      <td>Wrath of Man (2021)</td>\n",
       "      <td>66%</td>\n",
       "      <td>91%</td>\n",
       "      <td>0</td>\n",
       "      <td>0</td>\n",
       "      <td>0</td>\n",
       "      <td>0</td>\n",
       "    </tr>\n",
       "  </tbody>\n",
       "</table>\n",
       "</div>"
      ],
      "text/plain": [
       "           Movie Title Critics Audience Positive Reviews  \\\n",
       "0   Spiral: SAW (2021)     37%      76%                0   \n",
       "1  Wrath of Man (2021)     66%      91%                0   \n",
       "\n",
       "  Extra Positive Reviews Negative Reviews Extra Negative Reviews  \n",
       "0                      0                0                      0  \n",
       "1                      0                0                      0  "
      ]
     },
     "execution_count": 10,
     "metadata": {},
     "output_type": "execute_result"
    }
   ],
   "source": [
    "movieData"
   ]
  },
  {
   "cell_type": "code",
   "execution_count": null,
   "metadata": {},
   "outputs": [],
   "source": [
    "d"
   ]
  },
  {
   "cell_type": "code",
   "execution_count": null,
   "metadata": {},
   "outputs": [],
   "source": [
    "test"
   ]
  },
  {
   "cell_type": "code",
   "execution_count": null,
   "metadata": {},
   "outputs": [],
   "source": []
  }
 ],
 "metadata": {
  "kernelspec": {
   "display_name": "Python 3",
   "language": "python",
   "name": "python3"
  },
  "language_info": {
   "codemirror_mode": {
    "name": "ipython",
    "version": 3
   },
   "file_extension": ".py",
   "mimetype": "text/x-python",
   "name": "python",
   "nbconvert_exporter": "python",
   "pygments_lexer": "ipython3",
   "version": "3.8.5"
  }
 },
 "nbformat": 4,
 "nbformat_minor": 4
}
