{
 "cells": [
  {
   "cell_type": "markdown",
   "id": "250c4919",
   "metadata": {},
   "source": [
    "# PART B\n",
    "### Group 1:\n",
    "Zachary Wilkerson, Tara Bode, Hankun Li\n",
    "\n",
    "### Use Selenium + jQuery for the following task:\n",
    "\n",
    "- Navigate to: https://www.barchart.com/options/highest-implied-volatility (Links to an external site.)\n",
    "- Retrieve (and count) the ticker symbols on that page (first 100) (CVM, AMC, OCGN, etc), and count how often these occur\n",
    "- Keep the symbols that occur at least 3 times\n",
    "- For each symbol, visit the following page: https://finance.yahoo.com/quote/SYMBOL/options?p=SYMBOL (Links to an external site.), for example https://finance.yahoo.com/quote/CVM/options?p=CVM (Links to an external site.)\n",
    "- For the options on that page, calculate the average % bid-ask spread relative to the mid-point. For example, if the bid is $1.00 and the ask is $1.20, then the bid-ask spread is $0.20 / $1.10 = 18.18%. Do this calculation for all calls and puts and calculate the average (no need to navigate to other expiry dates)\n",
    "- Navigate to https://finance.yahoo.com/quote/SYMBOL/community?p=CVM (Links to an external site.) (for example https://finance.yahoo.com/quote/CVM/community?p=CVM (Links to an external site.)) and retrieve the last 1,000 posts (write these to disk, one file for each symbol, you can ignore the replies to messages)"
   ]
  },
  {
   "cell_type": "code",
   "execution_count": 27,
   "id": "298ac66f",
   "metadata": {},
   "outputs": [],
   "source": [
    "import time\n",
    "from selenium import webdriver\n",
    "import pandas as pd\n",
    "import regex as re\n",
    "\n",
    "options = webdriver.ChromeOptions();\n",
    "options.add_argument(\"disable-geolocation\");\n",
    "options.add_argument(\"disable-notifications\");\n",
    "#options.add_argument(\"--disable-automation\")\n",
    "#options.add_experimental_option(\"excludeSwitches\" , [\"enable-automation\"])\n",
    "#options.add_experimental_option(\"useAutomationExtension\", False)\n",
    "\n",
    "driver = webdriver.Chrome(r'/Users/zwilkerson/Desktop/UF/ACG7849 - Web Crawling and Textual Analysis/selenium_files/chromedriver',options=options)"
   ]
  },
  {
   "cell_type": "code",
   "execution_count": 28,
   "id": "4f474f6e",
   "metadata": {},
   "outputs": [],
   "source": [
    "# FUNCTION: Injects jQuery\n",
    "def jq_injector(driver):\n",
    "    with open(r'/Users/zwilkerson/Desktop/UF/ACG7849 - Web Crawling and Textual Analysis/selenium_files/jquery.js', 'r') as jquery_js:\n",
    "        driver.execute_script( jquery_js.read() ) \n",
    "\n",
    "# FUNCTION: Loads a website using Selenium and injects jQuery\n",
    "def website_loader(driver,site):\n",
    "    driver.get(site)\n",
    "    jq_injector(driver)\n",
    "\n",
    "# FUNCTION: Populates a dictionary\n",
    "def dict_adder(key,dic):\n",
    "    try:\n",
    "        dic[key] += 1;\n",
    "    except:\n",
    "        dic[key] = 1;\n",
    "    return dic\n",
    "\n",
    "# FUNCTION: Finds the average of a list\n",
    "def find_average(input_list):\n",
    "    return sum(input_list) / len(input_list)"
   ]
  },
  {
   "cell_type": "code",
   "execution_count": 29,
   "id": "f28f5673",
   "metadata": {},
   "outputs": [],
   "source": [
    "# Navigate to: https://www.barchart.com/options/highest-implied-volatility\n",
    "website_loader(driver,\"https://www.barchart.com/options/highest-implied-volatility\")"
   ]
  },
  {
   "cell_type": "code",
   "execution_count": 30,
   "id": "6bcd1b82",
   "metadata": {},
   "outputs": [],
   "source": [
    "# Retrieve (and count) the ticker symbols on that page (first 100) (CVM, AMC, OCGN, etc), \n",
    "# and count how often these occur\n",
    "\n",
    "symbol_data = '''\n",
    "els = $(\"div.bc-table-scrollable-inner tr:not(:first):not(:last)\")\n",
    "\n",
    "first_100 = []\n",
    "els.each( function(i,el) { \n",
    "    if (i<=99) {\n",
    "        first_100.push( $(el).attr(\"data-current-symbol\") )\n",
    "    }\n",
    "}   )\n",
    "return first_100;\n",
    "'''\n",
    "\n",
    "symbol_list = driver.execute_script(symbol_data) # Run javascript to pull symbols\n",
    "symbol_dict = {} # Initialize\n",
    "for i in range(len(symbol_list)): dict_adder(symbol_list[i],symbol_dict) # Count how often symbol occurs"
   ]
  },
  {
   "cell_type": "code",
   "execution_count": 35,
   "id": "525d07e4",
   "metadata": {},
   "outputs": [],
   "source": [
    "# symbol_dict"
   ]
  },
  {
   "cell_type": "code",
   "execution_count": 33,
   "id": "4e5c0659",
   "metadata": {},
   "outputs": [],
   "source": [
    "# Keep the symbols that occur at least 3 times\n",
    "for k in symbol_dict.copy():\n",
    "    if symbol_dict[k] < 3: \n",
    "        del symbol_dict[k]"
   ]
  },
  {
   "cell_type": "code",
   "execution_count": 36,
   "id": "5bf006bb",
   "metadata": {},
   "outputs": [],
   "source": [
    "# For each symbol, visit the following page: https://finance.yahoo.com/quote/SYMBOL/options?p=SYMBOL\n",
    "# For the options on that page, calculate the average % bid-ask spread relative to the mid-point. \n",
    "# For example, if the bid is $1.00 and the ask is $1.20, then the bid-ask spread is $0.20 / $1.10 = 18.18%. \n",
    "# Do this calculation for all calls and puts and calculate the average (no need to navigate to other expiry dates)\n",
    "\n",
    "options_data = '''\n",
    "bids = $(\"td.data-col4\")\n",
    "asks = $(\"td.data-col5\")\n",
    "bid_list = []\n",
    "ask_list = []\n",
    "bids.each( function(i,el) {bid_list.push(parseFloat(el.innerHTML))})\n",
    "asks.each( function(i,el) {ask_list.push(parseFloat(el.innerHTML))})\n",
    "obj = {\n",
    "    bids: bid_list,\n",
    "    asks: ask_list,\n",
    "};\n",
    "\n",
    "return obj;\n",
    "'''\n",
    "\n",
    "options_dict = {}; # Initialize\n",
    "\n",
    "for k in symbol_dict: # For each symbol\n",
    "    website_loader(driver,\"https://finance.yahoo.com/quote/\"+str(k)+\"/options?p=\"+str(k)) # Load website\n",
    "    bid_ask_list = driver.execute_script(options_data) # Run javascript to pull bids and asks\n",
    "    if bid_ask_list['asks'] == [] or bid_ask_list['bids'] == []:\n",
    "        driver.refresh()\n",
    "        jq_injector(driver)\n",
    "    \n",
    "    # Find spread (with some error checking)\n",
    "    bid_ask_spread_list = [] # Initialize/reset for every symbol\n",
    "    bid_ask_spread_list = [abs(x1 - x2)/((x1+x2)/2)*100 for (x1, x2) in zip(bid_ask_list['bids'], bid_ask_list['asks']) if x1 is not None and x2 is not None and (x1+x2!=0)]\n",
    "    options_dict[k] = \"{:.2f}%\".format(round(find_average(bid_ask_spread_list), 2)) # Save the average % bid-ask spread relative to the mid-point for each symbol\n",
    "\n",
    "driver.close()"
   ]
  },
  {
   "cell_type": "code",
   "execution_count": null,
   "id": "8c77a60c",
   "metadata": {},
   "outputs": [],
   "source": [
    "# Perform some error checking\n",
    "#bid_ask_list['bids'] = [0 if v is None else v for v in bid_ask_list['bids']]\n",
    "#bid_ask_list['asks'] = [0 if v is None else v for v in bid_ask_list['asks']]\n",
    "#bid_ask_spread_list = [abs(x1 - x2)/((x1+x2)/2)*100 for (x1, x2) in zip(bid_ask_list['bids'], bid_ask_list['asks'])]\n",
    "#bid_ask_spread_list = [0 if x1 is None or x2 is None or (x1+x2==0) else abs(x1 - x2)/((x1+x2)/2)*100 for (x1, x2) in zip(bid_ask_list['bids'], bid_ask_list['asks'])]\n",
    "#bid_ask_spread_list = [abs(x1 - x2)/((x1+x2)/2)*100 if x1 is not None and x2 is not None and (x1+x2!=0) else pass for (x1, x2) in zip(bid_ask_list['bids'], bid_ask_list['asks'])]\n"
   ]
  },
  {
   "cell_type": "code",
   "execution_count": null,
   "id": "cd163cde",
   "metadata": {},
   "outputs": [],
   "source": [
    "#options_dict"
   ]
  },
  {
   "cell_type": "code",
   "execution_count": 41,
   "id": "5688d1a2",
   "metadata": {
    "scrolled": true
   },
   "outputs": [
    {
     "name": "stdout",
     "output_type": "stream",
     "text": [
      "Writing AMC file took 27.66 seconds\n",
      "[Timeout Error] Loaded 874 posts. Unable to load additional posts...\n",
      "Writing BBIG file took 9.29 seconds\n",
      "[Timeout Error] Loaded 994 posts. Unable to load additional posts...\n",
      "Writing TELL file took 10.26 seconds\n",
      "[Timeout Error] Loaded 960 posts. Unable to load additional posts...\n",
      "Writing RIOT file took 11.14 seconds\n",
      "[Timeout Error] Loaded 313 posts. Unable to load additional posts...\n",
      "Writing EDU file took 2.93 seconds\n",
      "[Timeout Error] Loaded 957 posts. Unable to load additional posts...\n",
      "Writing IPOE file took 111.79 seconds\n",
      "Writing VLDR file took 10.15 seconds\n",
      "[Timeout Error] Loaded 581 posts. Unable to load additional posts...\n",
      "Writing TAL file took 5.15 seconds\n",
      "Writing TIGR file took 10.97 seconds\n",
      "[Timeout Error] Loaded 680 posts. Unable to load additional posts...\n",
      "Writing CLOV file took 9.63 seconds\n",
      "[Timeout Error] Loaded 980 posts. Unable to load additional posts...\n",
      "Writing CLF file took 12.29 seconds\n",
      "[Timeout Error] Loaded 919 posts. Unable to load additional posts...\n",
      "Writing COIN file took 11.17 seconds\n"
     ]
    }
   ],
   "source": [
    "# For each symbol, visit the following page: https://finance.yahoo.com/quote/SYMBOL/community?p=SYMBOL\n",
    "# Retrieve the last 1,000 posts (write these to disk, one file for each symbol)\n",
    "\n",
    "post_getter = '''\n",
    "setTimeout( function() { $('button.showNext').click() }, 1000);\n",
    "els = $(\"div[class='C($c-fuji-grey-l) Mb(2px) Fz(14px) Lh(20px) Pend(8px)']\")\n",
    "return els;\n",
    "'''\n",
    "\n",
    "for k in symbol_dict: # For each symbol\n",
    "    driver = webdriver.Chrome(r'/Users/zwilkerson/Desktop/UF/ACG7849 - Web Crawling and Textual Analysis/selenium_files/chromedriver',options=options)\n",
    "    website_loader(driver,\"https://finance.yahoo.com/quote/\"+str(k)+\"/community?p=\"+str(k)) # Load website\n",
    "    \n",
    "    # Display, and then pull, 1000 posts\n",
    "    els = driver.execute_script(post_getter)\n",
    "    if len(els)==0:\n",
    "        driver.refresh()\n",
    "        jq_injector(driver)\n",
    "    start_time = time.time()\n",
    "    while (len(els) < 1000):\n",
    "        try: \n",
    "            els = driver.execute_script(post_getter)\n",
    "        except TimeoutException:\n",
    "            print('[Timeout Error] Loaded {} posts. Unable to load additional posts...'.format(len(els)))\n",
    "            break\n",
    "        if (time.time() - start_time)>120: # If more than 2 minutes elapse, break the loop\n",
    "            print('[Timeout Error] Loaded {} posts. Unable to load additional posts...'.format(len(els)))\n",
    "            break\n",
    "\n",
    "    # Save posts to disk, one file per symbol\n",
    "    start_time = time.time()\n",
    "    with open('{}.txt'.format(k), 'wt') as file:\n",
    "        for el in els:\n",
    "            file.write('##############################\\n'+el.text+'\\n##############################\\n')\n",
    "        if len(els)==0:\n",
    "            file.write('##############################\\n'+'No posts loaded...'+'\\n##############################\\n')\n",
    "            print('No posts loaded.')\n",
    "    print('Writing {} file took {:.2f} seconds'.format(k,time.time() - start_time))\n",
    "    driver.close()"
   ]
  },
  {
   "cell_type": "code",
   "execution_count": null,
   "id": "fd064ec1",
   "metadata": {},
   "outputs": [],
   "source": []
  }
 ],
 "metadata": {
  "kernelspec": {
   "display_name": "Python 3",
   "language": "python",
   "name": "python3"
  },
  "language_info": {
   "codemirror_mode": {
    "name": "ipython",
    "version": 3
   },
   "file_extension": ".py",
   "mimetype": "text/x-python",
   "name": "python",
   "nbconvert_exporter": "python",
   "pygments_lexer": "ipython3",
   "version": "3.8.5"
  }
 },
 "nbformat": 4,
 "nbformat_minor": 5
}
