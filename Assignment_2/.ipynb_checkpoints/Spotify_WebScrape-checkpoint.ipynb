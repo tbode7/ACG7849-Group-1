{
 "cells": [
  {
   "cell_type": "markdown",
   "id": "73a8b4e1",
   "metadata": {},
   "source": [
    "# PART A - SPOTIFY\n",
    "### Group 1:\n",
    "Zachary Wilkerson, Tara Bode, Hankun Li\n",
    "\n",
    "### Some things I want to know:\n",
    "- How many times did a track stay in the daily global top 200 list in 2021?\n",
    "- How many times did an artist stay in the daily global top 200 list in 2021?"
   ]
  },
  {
   "cell_type": "code",
   "execution_count": 29,
   "id": "2ef906c1",
   "metadata": {},
   "outputs": [],
   "source": [
    "import time\n",
    "from selenium import webdriver\n",
    "import pandas as pd\n",
    "import regex as re\n",
    "\n",
    "options = webdriver.ChromeOptions();\n",
    "options.add_argument(\"disable-geolocation\");\n",
    "options.add_argument(\"disable-notifications\");\n",
    "\n",
    "driver = webdriver.Chrome(r'/Users/zwilkerson/Desktop/UF/ACG7849 - Web Crawling and Textual Analysis/selenium_files/chromedriver',options=options)"
   ]
  },
  {
   "cell_type": "code",
   "execution_count": 30,
   "id": "6aa188ca",
   "metadata": {},
   "outputs": [],
   "source": [
    "# FUNCTION: Injects jQuery\n",
    "def jq_injector(driver):\n",
    "    with open(r'/Users/zwilkerson/Desktop/UF/ACG7849 - Web Crawling and Textual Analysis/selenium_files/jquery.js', 'r') as jquery_js:\n",
    "        driver.execute_script( jquery_js.read() ) \n",
    "\n",
    "# FUNCTION: Loads a website using Selenium and injects jQuery\n",
    "def website_loader(driver,site):\n",
    "    driver.get(site)\n",
    "    jq_injector(driver)"
   ]
  },
  {
   "cell_type": "code",
   "execution_count": 31,
   "id": "ac3adadb",
   "metadata": {},
   "outputs": [],
   "source": [
    "website_loader(driver,\"https://spotifycharts.com/regional/\")"
   ]
  },
  {
   "cell_type": "code",
   "execution_count": 32,
   "id": "1525efa9",
   "metadata": {},
   "outputs": [],
   "source": [
    "# FUNCTION: Populates a dictionary\n",
    "def dict_adder(key,dic):\n",
    "    try:\n",
    "        dic[key] += 1;\n",
    "    except:\n",
    "        dic[key] = 1;\n",
    "    return dic\n",
    "\n",
    "# FUNCTION: NAVIGATES TO PAGE OF NEW DATE\n",
    "def date_navigation(driver,index):\n",
    "    if index == -1: # STAY ON CURRENT PAGE IF BEGINNING OF LOOP\n",
    "        get_date = '''\n",
    "        date = $('.responsive-select')[2].innerText\n",
    "        return date\n",
    "        '''\n",
    "    else: # MOVE TO PAGE OF NEW DATE\n",
    "        get_date = '''\n",
    "        button = $('.responsive-select')[2]\n",
    "        button.click()\n",
    "        next_date = $('div.responsive-select.active ul li[class=\"selected\"]').index()\n",
    "        new_button = $('div.responsive-select.active ul li')[next_date+1]\n",
    "        date = new_button.innerText\n",
    "        new_button.click()\n",
    "        return date\n",
    "        '''   \n",
    "    date = driver.execute_script(get_date)\n",
    "    return date\n",
    "    \n",
    "# FUNCTION: PULLS DATA FROM SITE\n",
    "def data_pulling(driver):\n",
    "    data_per_day = '''\n",
    "    elements = $(\"td.chart-table-track\")\n",
    "    all_data = []\n",
    "    elements.each( function(i,el) { all_data.push( el.innerText )  }   )\n",
    "    return all_data;\n",
    "    '''\n",
    "    info = driver.execute_script(data_per_day)\n",
    "    # COULD ADJUST TO OBTAIN POSITION IN TABLE AND NUMBER OF STREAMS IF DESIRED...\n",
    "        # td.chart-table-position\n",
    "        # td.chart-table-streams\n",
    "    return info"
   ]
  },
  {
   "cell_type": "code",
   "execution_count": 33,
   "id": "f8e09898",
   "metadata": {},
   "outputs": [],
   "source": [
    "song_dict = {};\n",
    "artist_dict = {};\n",
    "\n",
    "date_index = -1;\n",
    "date = date_navigation(driver,date_index)\n",
    "\n",
    "#while re.search(r'05/[0-9]{2}/2021',date): # WHILE DATE IS IN MAY 2021 (FOR TESTING)\n",
    "while re.search(r'[0-9]{2}/[0-9]{2}/2021',date): # WHILE DATE IS IN 2021\n",
    "    info = data_pulling(driver) # PULL DATA\n",
    "\n",
    "    for item in range(len(info)): # SPLIT INFO TO GET SONG AND ARTIST\n",
    "        song_artist_split = info[item].split(' by ')\n",
    "        dict_adder(song_artist_split[0],song_dict)\n",
    "        dict_adder(song_artist_split[1],artist_dict)\n",
    "    \n",
    "    date_index +=1;\n",
    "    date = date_navigation(driver,date_index) # MOVE TO NEXT DATE\n",
    "\n",
    "driver.close()\n",
    "        "
   ]
  },
  {
   "cell_type": "markdown",
   "id": "9eea94d0",
   "metadata": {},
   "source": [
    "## Let's take a look at our data!\n",
    "Uncomment and run the following lines if you'd like. \n",
    "\n",
    "If not, take a look at the printed top artists and songs!  "
   ]
  },
  {
   "cell_type": "code",
   "execution_count": 26,
   "id": "7fa9e273",
   "metadata": {},
   "outputs": [],
   "source": [
    "#artist_dict"
   ]
  },
  {
   "cell_type": "code",
   "execution_count": 27,
   "id": "9d122257",
   "metadata": {},
   "outputs": [],
   "source": [
    "#song_dict"
   ]
  },
  {
   "cell_type": "code",
   "execution_count": 34,
   "id": "eb1c90d8",
   "metadata": {},
   "outputs": [
    {
     "name": "stdout",
     "output_type": "stream",
     "text": [
      "[Top 5 Artists]\n",
      "\n",
      "Justin Bieber \t - \t 792 occurances\n",
      "Juice WRLD \t - \t 677 occurances\n",
      "Billie Eilish \t - \t 660 occurances\n",
      "Ariana Grande \t - \t 630 occurances\n",
      "Pop Smoke \t - \t 628 occurances\n",
      "__________________________________________________________________________\n",
      "\n",
      "[Top 5 Songs]\n",
      "\n",
      "Falling \t - \t 254 occurances\n",
      "Levitating (feat. DaBaby) \t - \t 144 occurances\n",
      "Dynamite \t - \t 144 occurances\n",
      "Blinding Lights \t - \t 144 occurances\n",
      "DÁKITI \t - \t 144 occurances\n"
     ]
    }
   ],
   "source": [
    "# SEE: https://careerkarma.com/blog/python-sort-a-dictionary-by-value/#:~:text=To%20sort%20a%20dictionary%20by%20value%20in%20Python%20you%20can,Dictionaries%20are%20unordered%20data%20structures.\n",
    "top_artists = sorted(artist_dict.items(), key=lambda x: x[1], reverse=True)[:5]\n",
    "top_songs = sorted(song_dict.items(), key=lambda x: x[1], reverse=True)[:5]\n",
    "\n",
    "print('[Top 5 Artists]\\n')\n",
    "for i in top_artists:\n",
    "    print('{} \\t - \\t {} occurances'.format(i[0], i[1]))\n",
    "\n",
    "print('__________________________________________________________________________')\n",
    "    \n",
    "print('\\n[Top 5 Songs]\\n')\n",
    "for i in top_songs:\n",
    "    print('{} \\t - \\t {} occurances'.format(i[0], i[1]))"
   ]
  },
  {
   "cell_type": "code",
   "execution_count": null,
   "id": "6b8e5b05",
   "metadata": {},
   "outputs": [],
   "source": []
  }
 ],
 "metadata": {
  "kernelspec": {
   "display_name": "Python 3",
   "language": "python",
   "name": "python3"
  },
  "language_info": {
   "codemirror_mode": {
    "name": "ipython",
    "version": 3
   },
   "file_extension": ".py",
   "mimetype": "text/x-python",
   "name": "python",
   "nbconvert_exporter": "python",
   "pygments_lexer": "ipython3",
   "version": "3.8.5"
  }
 },
 "nbformat": 4,
 "nbformat_minor": 5
}
