{
 "cells": [
  {
   "cell_type": "markdown",
   "id": "73a8b4e1",
   "metadata": {},
   "source": [
    "# PART A - SPOTIFY\n",
    "### Group 1:\n",
    "Zachary Wilkerson, Tara Bode, Hankun Li\n",
    "\n",
    "### Some things I want to know:\n",
    "- How many times did a track stay in the daily global top 200 list in 2021?\n",
    "- How many times did an artist stay in the daily global top 200 list in 2021?"
   ]
  },
  {
   "cell_type": "code",
   "execution_count": 29,
   "id": "2ef906c1",
   "metadata": {},
   "outputs": [],
   "source": [
    "import time\n",
    "from selenium import webdriver\n",
    "import pandas as pd\n",
    "import regex as re\n",
    "\n",
    "options = webdriver.ChromeOptions();\n",
    "options.add_argument(\"disable-geolocation\");\n",
    "options.add_argument(\"disable-notifications\");\n",
    "\n",
    "driver = webdriver.Chrome(r'/Users/zwilkerson/Desktop/UF/ACG7849 - Web Crawling and Textual Analysis/selenium_files/chromedriver',options=options)"
   ]
  },
  {
   "cell_type": "code",
   "execution_count": 30,
   "id": "d98c43c6",
   "metadata": {},
   "outputs": [],
   "source": [
    "# FUNCTION: Injects jQuery\n",
    "def jq_injector(driver):\n",
    "    with open(r'/Users/zwilkerson/Desktop/UF/ACG7849 - Web Crawling and Textual Analysis/selenium_files/jquery.js', 'r') as jquery_js:\n",
    "        driver.execute_script( jquery_js.read() ) \n",
    "\n",
    "# FUNCTION: Loads a website using Selenium and injects jQuery\n",
    "def website_loader(driver,site):\n",
    "    driver.get(site)\n",
    "    jq_injector(driver)"
   ]
  },
  {
   "cell_type": "code",
   "execution_count": 31,
   "id": "ac3adadb",
   "metadata": {},
   "outputs": [],
   "source": [
    "website_loader(driver,\"https://spotifycharts.com/regional/\")"
   ]
  },
  {
   "cell_type": "code",
   "execution_count": 32,
   "id": "1525efa9",
   "metadata": {},
   "outputs": [],
   "source": [
    "# FUNCTION: Populates a dictionary\n",
    "def dict_adder(key,dic):\n",
    "    try:\n",
    "        dic[key] += 1;\n",
    "    except:\n",
    "        dic[key] = 1;\n",
    "    return dic\n",
    "\n",
    "# FUNCTION: NAVIGATES TO PAGE OF NEW DATE\n",
    "def date_navigation(driver,index):\n",
    "    if index == -1: # STAY ON CURRENT PAGE IF BEGINNING OF LOOP\n",
    "        get_date = '''\n",
    "        date = $('.responsive-select')[2].innerText\n",
    "        return date\n",
    "        '''\n",
    "    else: # MOVE TO PAGE OF NEW DATE\n",
    "        get_date = '''\n",
    "        button = $('.responsive-select')[2]\n",
    "        button.click()\n",
    "        next_date = $('div.responsive-select.active ul li[class=\"selected\"]').index()\n",
    "        new_button = $('div.responsive-select.active ul li')[next_date+1]\n",
    "        date = new_button.innerText\n",
    "        new_button.click()\n",
    "        return date\n",
    "        '''   \n",
    "    date = driver.execute_script(get_date)\n",
    "    return date\n",
    "    \n",
    "# FUNCTION: PULLS DATA FROM SITE\n",
    "def data_pulling(driver):\n",
    "    data_per_day = '''\n",
    "    elements = $(\"td.chart-table-track\")\n",
    "    all_data = []\n",
    "    elements.each( function(i,el) { all_data.push( el.innerText )  }   )\n",
    "    return all_data;\n",
    "    '''\n",
    "    info = driver.execute_script(data_per_day)\n",
    "    # COULD ADJUST TO OBTAIN POSITION IN TABLE AND NUMBER OF STREAMS IF DESIRED...\n",
    "        # td.chart-table-position\n",
    "        # td.chart-table-streams\n",
    "    return info"
   ]
  },
  {
   "cell_type": "code",
   "execution_count": 33,
   "id": "f8e09898",
   "metadata": {},
   "outputs": [],
   "source": [
    "song_dict = {};\n",
    "artist_dict = {};\n",
    "\n",
    "date_index = -1;\n",
    "date = date_navigation(driver,date_index)\n",
    "\n",
    "#while re.search(r'05/[0-9]{2}/2021',date): # WHILE DATE IS IN MAY 2021 (FOR TESTING)\n",
    "while re.search(r'[0-9]{2}/[0-9]{2}/2021',date): # WHILE DATE IS IN 2021\n",
    "    info = data_pulling(driver) # PULL DATA\n",
    "\n",
    "    for item in range(len(info)): # SPLIT INFO TO GET SONG AND ARTIST\n",
    "        song_artist_split = info[item].split(' by ')\n",
    "        dict_adder(song_artist_split[0],song_dict)\n",
    "        dict_adder(song_artist_split[1],artist_dict)\n",
    "    \n",
    "    date_index +=1;\n",
    "    date = date_navigation(driver,date_index) # MOVE TO NEXT DATE\n",
    "\n",
    "driver.close()\n",
    "        "
   ]
  },
  {
   "cell_type": "markdown",
   "id": "9eea94d0",
   "metadata": {},
   "source": [
    "## Let's take a look at our data!\n",
    "Uncomment and run the following lines if you'd like. \n",
    "\n",
    "If not, take a look at the printed top artists and songs!  "
   ]
  },
  {
   "cell_type": "code",
   "execution_count": 26,
   "id": "7fa9e273",
   "metadata": {},
   "outputs": [],
   "source": [
    "#artist_dict"
   ]
  },
  {
   "cell_type": "code",
   "execution_count": 27,
   "id": "9d122257",
   "metadata": {},
   "outputs": [],
   "source": [
    "#song_dict"
   ]
  },
  {
   "cell_type": "code",
   "execution_count": 34,
   "id": "eb1c90d8",
   "metadata": {},
   "outputs": [
    {
     "name": "stdout",
     "output_type": "stream",
     "text": [
      "[Top 5 Artists]\n",
      "\n",
      "Justin Bieber \t - \t 792 occurances\n",
      "Juice WRLD \t - \t 677 occurances\n",
      "Billie Eilish \t - \t 660 occurances\n",
      "Ariana Grande \t - \t 630 occurances\n",
      "Pop Smoke \t - \t 628 occurances\n",
      "__________________________________________________________________________\n",
      "\n",
      "[Top 5 Songs]\n",
      "\n",
      "Falling \t - \t 254 occurances\n",
      "Levitating (feat. DaBaby) \t - \t 144 occurances\n",
      "Dynamite \t - \t 144 occurances\n",
      "Blinding Lights \t - \t 144 occurances\n",
      "DÁKITI \t - \t 144 occurances\n"
     ]
    }
   ],
   "source": [
    "# SEE: https://careerkarma.com/blog/python-sort-a-dictionary-by-value/#:~:text=To%20sort%20a%20dictionary%20by%20value%20in%20Python%20you%20can,Dictionaries%20are%20unordered%20data%20structures.\n",
    "top_artists = sorted(artist_dict.items(), key=lambda x: x[1], reverse=True)[:5]\n",
    "top_songs = sorted(song_dict.items(), key=lambda x: x[1], reverse=True)[:5]\n",
    "\n",
    "print('[Top 5 Artists]\\n')\n",
    "for i in top_artists:\n",
    "    print('{} \\t - \\t {} occurances'.format(i[0], i[1]))\n",
    "\n",
    "print('__________________________________________________________________________')\n",
    "    \n",
    "print('\\n[Top 5 Songs]\\n')\n",
    "for i in top_songs:\n",
    "    print('{} \\t - \\t {} occurances'.format(i[0], i[1]))"
   ]
  },
  {
   "cell_type": "markdown",
   "id": "7b60aee3",
   "metadata": {},
   "source": [
    "___\n",
    "___\n",
    "___"
   ]
  },
  {
   "cell_type": "markdown",
   "id": "0c945991",
   "metadata": {},
   "source": [
    "# PART A -  FANDANGO\n"
   ]
  },
  {
   "cell_type": "markdown",
   "id": "7daacae9",
   "metadata": {},
   "source": [
    "# Group 1:\n",
    "Zachary Wilkerson, Tara Bode, Hankun Li"
   ]
  },
  {
   "cell_type": "markdown",
   "id": "c7466082",
   "metadata": {},
   "source": [
    "### Some things we want to know:\n",
    "- Of the Movies Now Playing, how highly rated were they by critics and audience members?\n",
    "- Of the reviews from audience members, how many occurrences of keywords are there of each review and to what extent (i.e. extra positive vs. positive)?"
   ]
  },
  {
   "cell_type": "code",
   "execution_count": 1,
   "id": "3a1e31d5",
   "metadata": {},
   "outputs": [],
   "source": [
    "import pandas as pd\n",
    "import time # needed for time.sleep\n",
    "from selenium import webdriver\n",
    "# new driver (opens browser window)\n",
    "driver = webdriver.Chrome(r'/Users/Tara/Desktop/Summer A 2021/ACG7849- Web Crawling/selenium_files/chromedriver')\n",
    "driver.get(\"https://www.fandango.com/movie-reviews\")"
   ]
  },
  {
   "cell_type": "code",
   "execution_count": 2,
   "id": "f447d3f1",
   "metadata": {},
   "outputs": [],
   "source": [
    "with open(r'/Users/Tara/Desktop/Summer A 2021/ACG7849- Web Crawling/selenium_files/jquery.js', 'r') as jquery_js:\n",
    "    driver.execute_script( jquery_js.read() )"
   ]
  },
  {
   "cell_type": "code",
   "execution_count": null,
   "id": "712269e1",
   "metadata": {},
   "outputs": [],
   "source": [
    "# For jquery debugger\n",
    "'''\n",
    "var script = document.createElement(\"script\")\n",
    "script.type = \"text/javascript\";\n",
    "script.src = \"https://code.jquery.com/jquery-3.6.0.js\";\n",
    "document.getElementsByTagName(\"head\")[0].appendChild(script);\n",
    "'''"
   ]
  },
  {
   "cell_type": "code",
   "execution_count": null,
   "id": "67606f85",
   "metadata": {},
   "outputs": [],
   "source": [
    "# figure out the jquery to get all links from the main page\n",
    "# do this in the debugger\n",
    "#javascript (browser)\n",
    "$(\"tbody.mrp__table--mobile-block a\")"
   ]
  },
  {
   "cell_type": "code",
   "execution_count": null,
   "id": "058c2831",
   "metadata": {},
   "outputs": [],
   "source": [
    "#javascript\n",
    "#javascript (browser)\n",
    "els =$(\"tbody.mrp__table--mobile-block a\").filter(function(index){return (index % 4 == 0);})\n",
    "\n",
    "all_links = []\n",
    "els.each( function(i,el) { all_links.push( el.href )  }   )"
   ]
  },
  {
   "cell_type": "code",
   "execution_count": 7,
   "id": "2b240b17",
   "metadata": {},
   "outputs": [],
   "source": [
    "# write a function to get all links into python/selenium\n",
    "# to get the href of an element we don't need jquery, just el.href (not $(el).href )\n",
    "myJs = '''\n",
    "els =$(\"tbody.mrp__table--mobile-block a\").filter(function(index){return (index % 4 == 0);})\n",
    "\n",
    "all_links = []\n",
    "els.each( function(i,el) { all_links.push( el.href )  }   )\n",
    "return all_links;\n",
    "'''\n",
    "links = driver.execute_script( myJs )"
   ]
  },
  {
   "cell_type": "code",
   "execution_count": 8,
   "id": "31948f00",
   "metadata": {},
   "outputs": [
    {
     "data": {
      "text/plain": [
       "[None]"
      ]
     },
     "execution_count": 8,
     "metadata": {},
     "output_type": "execute_result"
    }
   ],
   "source": [
    "# Correct version\n",
    "\n",
    "myJs_details ='''\n",
    "cells = els = $(\"section.movie-reviews\")\n",
    "\n",
    "details = {}\n",
    "\n",
    "cells.each( \n",
    "    function(index, el) {  \n",
    "        criticReviews = $( el ).find(\"span.movie-ratings-tabs__rating\").text().slice(0,3)\n",
    "        audienceReviews = $( el ).find(\"span.movie-ratings-tabs__rating\").text().slice(3,6)\n",
    "        if (criticReviews != \"\") { \n",
    "            details['Critics'] = criticReviews.trim();\n",
    "            details['Audience'] = audienceReviews.trim();\n",
    "        }               \n",
    "    }      \n",
    ")\n",
    "details['Movie Title'] = $('a[class=\"js-hearts-heart favorite-add icon icon-fave-heart--white-outline\"]').attr('data-name')\n",
    "return details;\n",
    "\n",
    "'''\n",
    "\n",
    "reviews = '''\n",
    "elem = $(\"p.rt-audience-reviews__content\")\n",
    "review = []\n",
    "review.push($('a[class=\"js-hearts-heart favorite-add icon icon-fave-heart--white-outline\"]').attr('data-name'))\n",
    "elem.each (\n",
    "     function(index, el) { \n",
    "         review.push(el.innerText)\n",
    "     })\n",
    "return review\n",
    "'''\n"
   ]
  },
  {
   "cell_type": "code",
   "execution_count": 5,
   "id": "8d96de10",
   "metadata": {},
   "outputs": [],
   "source": [
    "# create keyword lists\n",
    "positive = ['love','fun','good','quality','great']\n",
    "extra_positive = ['phenomenal','top','heartwarming','favorite','awesome']\n",
    "\n",
    "negative = [ 'horrible', 'predictable', 'boring', 'bad']\n",
    "extra_negative = [ 'disappointing', 'worst', 'waste', 'awful','terrible']"
   ]
  },
  {
   "cell_type": "code",
   "execution_count": 9,
   "id": "e80431dd",
   "metadata": {},
   "outputs": [],
   "source": [
    "review_list = []\n",
    "movie_list = []\n",
    "movieData = pd.DataFrame(columns = ['Movie Title','Critics', 'Audience', 'Positive Reviews','Extra Positive Reviews','Negative Reviews','Extra Negative Reviews'] )\n",
    "\n",
    "for link in links[0:2]:\n",
    "    # go to url\n",
    "    driver.get( link  )\n",
    "    # some time to finish loading\n",
    "    driver.implicitly_wait(1)\n",
    "    # normally inject jquery, but it is already there\n",
    "    # skip\n",
    "    # get details\n",
    "    d = driver.execute_script( myJs_details )  \n",
    "    \n",
    "    positiveReviewsCnt = 0\n",
    "    extraPositiveReviewsCnt = 0\n",
    "    negativeReviewsCnt = 0\n",
    "    extraNegativeReviewsCnt = 0\n",
    "\n",
    "    test = {}\n",
    "    \n",
    "    f=driver.execute_script( reviews )    \n",
    "    movie_list.append(f[0])\n",
    "    review_list.append(f[1:])\n",
    "    \n",
    "    for review in review_list:\n",
    "        for word in positive: \n",
    "            positiveReviewsCnt += review.count(word)\n",
    "        for word in extra_positive: \n",
    "            extraPositiveReviewsCnt += review.count(word)\n",
    "        for word in negative: \n",
    "            negativeReviewsCnt += review.count(word) \n",
    "        for word in extra_negative: \n",
    "            extraNegativeReviewsCnt += review.count(word)\n",
    "\n",
    "    test['Movie Title'] = f[0]\n",
    "    test['Positive Reviews'] = positiveReviewsCnt   \n",
    "    test['Extra Positive Reviews'] = extraPositiveReviewsCnt\n",
    "    test['Negative Reviews'] = negativeReviewsCnt\n",
    "    test['Extra Negative Reviews'] =extraNegativeReviewsCnt\n",
    "    \n",
    "    d.update(test) \n",
    "    movieData = movieData.append (d, ignore_index = True  )    "
   ]
  },
  {
   "cell_type": "code",
   "execution_count": 10,
   "id": "9942778e",
   "metadata": {
    "scrolled": true
   },
   "outputs": [
    {
     "data": {
      "text/html": [
       "<div>\n",
       "<style scoped>\n",
       "    .dataframe tbody tr th:only-of-type {\n",
       "        vertical-align: middle;\n",
       "    }\n",
       "\n",
       "    .dataframe tbody tr th {\n",
       "        vertical-align: top;\n",
       "    }\n",
       "\n",
       "    .dataframe thead th {\n",
       "        text-align: right;\n",
       "    }\n",
       "</style>\n",
       "<table border=\"1\" class=\"dataframe\">\n",
       "  <thead>\n",
       "    <tr style=\"text-align: right;\">\n",
       "      <th></th>\n",
       "      <th>Movie Title</th>\n",
       "      <th>Critics</th>\n",
       "      <th>Audience</th>\n",
       "      <th>Positive Reviews</th>\n",
       "      <th>Extra Positive Reviews</th>\n",
       "      <th>Negative Reviews</th>\n",
       "      <th>Extra Negative Reviews</th>\n",
       "    </tr>\n",
       "  </thead>\n",
       "  <tbody>\n",
       "    <tr>\n",
       "      <th>0</th>\n",
       "      <td>Spiral: SAW (2021)</td>\n",
       "      <td>37%</td>\n",
       "      <td>76%</td>\n",
       "      <td>0</td>\n",
       "      <td>0</td>\n",
       "      <td>0</td>\n",
       "      <td>0</td>\n",
       "    </tr>\n",
       "    <tr>\n",
       "      <th>1</th>\n",
       "      <td>Wrath of Man (2021)</td>\n",
       "      <td>66%</td>\n",
       "      <td>91%</td>\n",
       "      <td>0</td>\n",
       "      <td>0</td>\n",
       "      <td>0</td>\n",
       "      <td>0</td>\n",
       "    </tr>\n",
       "  </tbody>\n",
       "</table>\n",
       "</div>"
      ],
      "text/plain": [
       "           Movie Title Critics Audience Positive Reviews  \\\n",
       "0   Spiral: SAW (2021)     37%      76%                0   \n",
       "1  Wrath of Man (2021)     66%      91%                0   \n",
       "\n",
       "  Extra Positive Reviews Negative Reviews Extra Negative Reviews  \n",
       "0                      0                0                      0  \n",
       "1                      0                0                      0  "
      ]
     },
     "execution_count": 10,
     "metadata": {},
     "output_type": "execute_result"
    }
   ],
   "source": [
    "movieData"
   ]
  },
  {
   "cell_type": "markdown",
   "id": "86026e09",
   "metadata": {},
   "source": [
    "___\n",
    "___\n",
    "___"
   ]
  },
  {
   "cell_type": "markdown",
   "id": "293b5ea5",
   "metadata": {},
   "source": [
    "# PART B - YAHOO FINANCE\n",
    "### Group 1:\n",
    "Zachary Wilkerson, Tara Bode, Hankun Li\n",
    "\n",
    "### Use Selenium + jQuery for the following task:\n",
    "\n",
    "- Navigate to: https://www.barchart.com/options/highest-implied-volatility (Links to an external site.)\n",
    "- Retrieve (and count) the ticker symbols on that page (first 100) (CVM, AMC, OCGN, etc), and count how often these occur\n",
    "- Keep the symbols that occur at least 3 times\n",
    "- For each symbol, visit the following page: https://finance.yahoo.com/quote/SYMBOL/options?p=SYMBOL (Links to an external site.), for example https://finance.yahoo.com/quote/CVM/options?p=CVM (Links to an external site.)\n",
    "- For the options on that page, calculate the average % bid-ask spread relative to the mid-point. For example, if the bid is \\\\$1.00 and the ask is \\\\$1.20, then the bid-ask spread is \\\\$0.20 \\/ \\\\$1.10 = 18.18%. Do this calculation for all calls and puts and calculate the average (no need to navigate to other expiry dates)\n",
    "- Navigate to https://finance.yahoo.com/quote/SYMBOL/community?p=CVM (Links to an external site.) (for example https://finance.yahoo.com/quote/CVM/community?p=CVM (Links to an external site.)) and retrieve the last 1,000 posts (write these to disk, one file for each symbol, you can ignore the replies to messages)"
   ]
  },
  {
   "cell_type": "code",
   "execution_count": 27,
   "id": "5054e2f6",
   "metadata": {},
   "outputs": [],
   "source": [
    "import time\n",
    "from selenium import webdriver\n",
    "import pandas as pd\n",
    "import regex as re\n",
    "\n",
    "options = webdriver.ChromeOptions();\n",
    "options.add_argument(\"disable-geolocation\");\n",
    "options.add_argument(\"disable-notifications\");\n",
    "#options.add_argument(\"--disable-automation\")\n",
    "#options.add_experimental_option(\"excludeSwitches\" , [\"enable-automation\"])\n",
    "#options.add_experimental_option(\"useAutomationExtension\", False)\n",
    "\n",
    "driver = webdriver.Chrome(r'/Users/zwilkerson/Desktop/UF/ACG7849 - Web Crawling and Textual Analysis/selenium_files/chromedriver',options=options)"
   ]
  },
  {
   "cell_type": "code",
   "execution_count": 28,
   "id": "ced761a4",
   "metadata": {},
   "outputs": [],
   "source": [
    "# FUNCTION: Injects jQuery\n",
    "def jq_injector(driver):\n",
    "    with open(r'/Users/zwilkerson/Desktop/UF/ACG7849 - Web Crawling and Textual Analysis/selenium_files/jquery.js', 'r') as jquery_js:\n",
    "        driver.execute_script( jquery_js.read() ) \n",
    "\n",
    "# FUNCTION: Loads a website using Selenium and injects jQuery\n",
    "def website_loader(driver,site):\n",
    "    driver.get(site)\n",
    "    jq_injector(driver)\n",
    "\n",
    "# FUNCTION: Populates a dictionary\n",
    "def dict_adder(key,dic):\n",
    "    try:\n",
    "        dic[key] += 1;\n",
    "    except:\n",
    "        dic[key] = 1;\n",
    "    return dic\n",
    "\n",
    "# FUNCTION: Finds the average of a list\n",
    "def find_average(input_list):\n",
    "    return sum(input_list) / len(input_list)"
   ]
  },
  {
   "cell_type": "code",
   "execution_count": 29,
   "id": "08093031",
   "metadata": {},
   "outputs": [],
   "source": [
    "# Navigate to: https://www.barchart.com/options/highest-implied-volatility\n",
    "website_loader(driver,\"https://www.barchart.com/options/highest-implied-volatility\")"
   ]
  },
  {
   "cell_type": "code",
   "execution_count": 30,
   "id": "2329c525",
   "metadata": {},
   "outputs": [],
   "source": [
    "# Retrieve (and count) the ticker symbols on that page (first 100) (CVM, AMC, OCGN, etc), \n",
    "# and count how often these occur\n",
    "\n",
    "symbol_data = '''\n",
    "els = $(\"div.bc-table-scrollable-inner tr:not(:first):not(:last)\")\n",
    "\n",
    "first_100 = []\n",
    "els.each( function(i,el) { \n",
    "    if (i<=99) {\n",
    "        first_100.push( $(el).attr(\"data-current-symbol\") )\n",
    "    }\n",
    "}   )\n",
    "return first_100;\n",
    "'''\n",
    "\n",
    "symbol_list = driver.execute_script(symbol_data) # Run javascript to pull symbols\n",
    "symbol_dict = {} # Initialize\n",
    "for i in range(len(symbol_list)): dict_adder(symbol_list[i],symbol_dict) # Count how often symbol occurs"
   ]
  },
  {
   "cell_type": "code",
   "execution_count": 35,
   "id": "7d08c213",
   "metadata": {},
   "outputs": [],
   "source": [
    "# symbol_dict"
   ]
  },
  {
   "cell_type": "code",
   "execution_count": 33,
   "id": "a91eb086",
   "metadata": {},
   "outputs": [],
   "source": [
    "# Keep the symbols that occur at least 3 times\n",
    "for k in symbol_dict.copy():\n",
    "    if symbol_dict[k] < 3: \n",
    "        del symbol_dict[k]"
   ]
  },
  {
   "cell_type": "code",
   "execution_count": 36,
   "id": "47fbe26e",
   "metadata": {},
   "outputs": [],
   "source": [
    "# For each symbol, visit the following page: https://finance.yahoo.com/quote/SYMBOL/options?p=SYMBOL\n",
    "# For the options on that page, calculate the average % bid-ask spread relative to the mid-point. \n",
    "# For example, if the bid is $1.00 and the ask is $1.20, then the bid-ask spread is $0.20 / $1.10 = 18.18%. \n",
    "# Do this calculation for all calls and puts and calculate the average (no need to navigate to other expiry dates)\n",
    "\n",
    "options_data = '''\n",
    "bids = $(\"td.data-col4\")\n",
    "asks = $(\"td.data-col5\")\n",
    "bid_list = []\n",
    "ask_list = []\n",
    "bids.each( function(i,el) {bid_list.push(parseFloat(el.innerHTML))})\n",
    "asks.each( function(i,el) {ask_list.push(parseFloat(el.innerHTML))})\n",
    "obj = {\n",
    "    bids: bid_list,\n",
    "    asks: ask_list,\n",
    "};\n",
    "\n",
    "return obj;\n",
    "'''\n",
    "\n",
    "options_dict = {}; # Initialize\n",
    "\n",
    "for k in symbol_dict: # For each symbol\n",
    "    website_loader(driver,\"https://finance.yahoo.com/quote/\"+str(k)+\"/options?p=\"+str(k)) # Load website\n",
    "    bid_ask_list = driver.execute_script(options_data) # Run javascript to pull bids and asks\n",
    "    if bid_ask_list['asks'] == [] or bid_ask_list['bids'] == []:\n",
    "        driver.refresh()\n",
    "        jq_injector(driver)\n",
    "    \n",
    "    # Find spread (with some error checking)\n",
    "    bid_ask_spread_list = [] # Initialize/reset for every symbol\n",
    "    bid_ask_spread_list = [abs(x1 - x2)/((x1+x2)/2)*100 for (x1, x2) in zip(bid_ask_list['bids'], bid_ask_list['asks']) if x1 is not None and x2 is not None and (x1+x2!=0)]\n",
    "    options_dict[k] = \"{:.2f}%\".format(round(find_average(bid_ask_spread_list), 2)) # Save the average % bid-ask spread relative to the mid-point for each symbol\n",
    "\n",
    "driver.close()"
   ]
  },
  {
   "cell_type": "code",
   "execution_count": null,
   "id": "56255627",
   "metadata": {},
   "outputs": [],
   "source": [
    "#options_dict"
   ]
  },
  {
   "cell_type": "code",
   "execution_count": 41,
   "id": "99f7b429",
   "metadata": {
    "scrolled": true
   },
   "outputs": [
    {
     "name": "stdout",
     "output_type": "stream",
     "text": [
      "Writing AMC file took 27.66 seconds\n",
      "[Timeout Error] Loaded 874 posts. Unable to load additional posts...\n",
      "Writing BBIG file took 9.29 seconds\n",
      "[Timeout Error] Loaded 994 posts. Unable to load additional posts...\n",
      "Writing TELL file took 10.26 seconds\n",
      "[Timeout Error] Loaded 960 posts. Unable to load additional posts...\n",
      "Writing RIOT file took 11.14 seconds\n",
      "[Timeout Error] Loaded 313 posts. Unable to load additional posts...\n",
      "Writing EDU file took 2.93 seconds\n",
      "[Timeout Error] Loaded 957 posts. Unable to load additional posts...\n",
      "Writing IPOE file took 111.79 seconds\n",
      "Writing VLDR file took 10.15 seconds\n",
      "[Timeout Error] Loaded 581 posts. Unable to load additional posts...\n",
      "Writing TAL file took 5.15 seconds\n",
      "Writing TIGR file took 10.97 seconds\n",
      "[Timeout Error] Loaded 680 posts. Unable to load additional posts...\n",
      "Writing CLOV file took 9.63 seconds\n",
      "[Timeout Error] Loaded 980 posts. Unable to load additional posts...\n",
      "Writing CLF file took 12.29 seconds\n",
      "[Timeout Error] Loaded 919 posts. Unable to load additional posts...\n",
      "Writing COIN file took 11.17 seconds\n"
     ]
    }
   ],
   "source": [
    "# For each symbol, visit the following page: https://finance.yahoo.com/quote/SYMBOL/community?p=SYMBOL\n",
    "# Retrieve the last 1,000 posts (write these to disk, one file for each symbol)\n",
    "\n",
    "post_getter = '''\n",
    "setTimeout( function() { $('button.showNext').click() }, 1000);\n",
    "els = $(\"div[class='C($c-fuji-grey-l) Mb(2px) Fz(14px) Lh(20px) Pend(8px)']\")\n",
    "return els;\n",
    "'''\n",
    "\n",
    "for k in symbol_dict: # For each symbol\n",
    "    driver = webdriver.Chrome(r'/Users/zwilkerson/Desktop/UF/ACG7849 - Web Crawling and Textual Analysis/selenium_files/chromedriver',options=options)\n",
    "    website_loader(driver,\"https://finance.yahoo.com/quote/\"+str(k)+\"/community?p=\"+str(k)) # Load website\n",
    "    \n",
    "    # Display, and then pull, 1000 posts\n",
    "    els = driver.execute_script(post_getter)\n",
    "    if len(els)==0:\n",
    "        driver.refresh()\n",
    "        jq_injector(driver)\n",
    "    start_time = time.time()\n",
    "    while (len(els) < 1000):\n",
    "        try: \n",
    "            els = driver.execute_script(post_getter)\n",
    "        except TimeoutException:\n",
    "            print('[Timeout Error] Loaded {} posts. Unable to load additional posts...'.format(len(els)))\n",
    "            break\n",
    "        if (time.time() - start_time)>120: # If more than 2 minutes elapse, break the loop\n",
    "            print('[Timeout Error] Loaded {} posts. Unable to load additional posts...'.format(len(els)))\n",
    "            break\n",
    "\n",
    "    # Save posts to disk, one file per symbol\n",
    "    start_time = time.time()\n",
    "    with open('{}.txt'.format(k), 'wt') as file:\n",
    "        for el in els:\n",
    "            file.write('##############################\\n'+el.text+'\\n##############################\\n')\n",
    "        if len(els)==0:\n",
    "            file.write('##############################\\n'+'No posts loaded...'+'\\n##############################\\n')\n",
    "            print('No posts loaded.')\n",
    "    print('Writing {} file took {:.2f} seconds'.format(k,time.time() - start_time))\n",
    "    driver.close()"
   ]
  },
  {
   "cell_type": "code",
   "execution_count": null,
   "id": "fbe42785",
   "metadata": {},
   "outputs": [],
   "source": []
  }
 ],
 "metadata": {
  "kernelspec": {
   "display_name": "Python 3",
   "language": "python",
   "name": "python3"
  },
  "language_info": {
   "codemirror_mode": {
    "name": "ipython",
    "version": 3
   },
   "file_extension": ".py",
   "mimetype": "text/x-python",
   "name": "python",
   "nbconvert_exporter": "python",
   "pygments_lexer": "ipython3",
   "version": "3.8.5"
  }
 },
 "nbformat": 4,
 "nbformat_minor": 5
}
